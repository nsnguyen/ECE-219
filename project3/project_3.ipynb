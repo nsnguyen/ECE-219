{
 "cells": [
  {
   "cell_type": "code",
   "execution_count": 1,
   "metadata": {
    "collapsed": true
   },
   "outputs": [],
   "source": [
    "import numpy as np\n",
    "import pandas as pd\n",
    "import matplotlib.pyplot as plt\n",
    "# from collections import defaultdict\n"
   ]
  },
  {
   "cell_type": "code",
   "execution_count": 25,
   "metadata": {
    "collapsed": true
   },
   "outputs": [],
   "source": [
    "# Helper methods\n",
    "def plot_histogram(ydata, x_labels = [0.01, 0.5, 1, 1.5, 2, 2.5, 3, 3.5, 4, 4.5, 5], title = 'Generic Title', x_label= 'x_label', y_label='y_label'):\n",
    "    plt.gcf().clear()\n",
    "    plt.hist(ydata, bins=x_labels, ec='black')\n",
    "    plt.title(title)\n",
    "    plt.xlabel(x_label)\n",
    "    plt.ylabel(y_label)\n",
    "    plt.show()   \n",
    "\n",
    "def plot_distribution(ydata,xdata=None, title='Generic Distribution', x_label='Generic', y_label='Generic'):\n",
    "    plt.gcf().clear()\n",
    "    if xdata is None:\n",
    "        plt.plot(ydata)\n",
    "    else:\n",
    "        plt.plot(xdata,ydata) \n",
    "    plt.title(title)\n",
    "    plt.xlabel(x_label)\n",
    "    plt.ylabel(y_label)\n",
    "    plt.show()   "
   ]
  },
  {
   "cell_type": "code",
   "execution_count": 3,
   "metadata": {
    "collapsed": true
   },
   "outputs": [],
   "source": [
    "Ratings = pd.read_csv('ml-latest-small/ratings.csv')\n"
   ]
  },
  {
   "cell_type": "code",
   "execution_count": 4,
   "metadata": {},
   "outputs": [
    {
     "data": {
      "text/html": [
       "<div>\n",
       "<style>\n",
       "    .dataframe thead tr:only-child th {\n",
       "        text-align: right;\n",
       "    }\n",
       "\n",
       "    .dataframe thead th {\n",
       "        text-align: left;\n",
       "    }\n",
       "\n",
       "    .dataframe tbody tr th {\n",
       "        vertical-align: top;\n",
       "    }\n",
       "</style>\n",
       "<table border=\"1\" class=\"dataframe\">\n",
       "  <thead>\n",
       "    <tr style=\"text-align: right;\">\n",
       "      <th></th>\n",
       "      <th>userId</th>\n",
       "      <th>movieId</th>\n",
       "      <th>rating</th>\n",
       "      <th>timestamp</th>\n",
       "    </tr>\n",
       "  </thead>\n",
       "  <tbody>\n",
       "    <tr>\n",
       "      <th>0</th>\n",
       "      <td>1</td>\n",
       "      <td>31</td>\n",
       "      <td>2.5</td>\n",
       "      <td>1260759144</td>\n",
       "    </tr>\n",
       "    <tr>\n",
       "      <th>1</th>\n",
       "      <td>1</td>\n",
       "      <td>1029</td>\n",
       "      <td>3.0</td>\n",
       "      <td>1260759179</td>\n",
       "    </tr>\n",
       "    <tr>\n",
       "      <th>2</th>\n",
       "      <td>1</td>\n",
       "      <td>1061</td>\n",
       "      <td>3.0</td>\n",
       "      <td>1260759182</td>\n",
       "    </tr>\n",
       "    <tr>\n",
       "      <th>3</th>\n",
       "      <td>1</td>\n",
       "      <td>1129</td>\n",
       "      <td>2.0</td>\n",
       "      <td>1260759185</td>\n",
       "    </tr>\n",
       "    <tr>\n",
       "      <th>4</th>\n",
       "      <td>1</td>\n",
       "      <td>1172</td>\n",
       "      <td>4.0</td>\n",
       "      <td>1260759205</td>\n",
       "    </tr>\n",
       "  </tbody>\n",
       "</table>\n",
       "</div>"
      ],
      "text/plain": [
       "   userId  movieId  rating   timestamp\n",
       "0       1       31     2.5  1260759144\n",
       "1       1     1029     3.0  1260759179\n",
       "2       1     1061     3.0  1260759182\n",
       "3       1     1129     2.0  1260759185\n",
       "4       1     1172     4.0  1260759205"
      ]
     },
     "execution_count": 4,
     "metadata": {},
     "output_type": "execute_result"
    }
   ],
   "source": [
    "Ratings.head()"
   ]
  },
  {
   "cell_type": "code",
   "execution_count": 5,
   "metadata": {
    "collapsed": true
   },
   "outputs": [],
   "source": [
    "# For the subsequent discussion,\n",
    "# we assume that the ratings matrix is denoted by R, and it is an m \u0002 n matrix\n",
    "# containing m users (rows) and n movies (columns).\n",
    "\n",
    "R_df = Ratings.pivot_table('rating', 'userId', 'movieId', fill_value=0)\n"
   ]
  },
  {
   "cell_type": "code",
   "execution_count": 6,
   "metadata": {},
   "outputs": [
    {
     "data": {
      "text/html": [
       "<div>\n",
       "<style>\n",
       "    .dataframe thead tr:only-child th {\n",
       "        text-align: right;\n",
       "    }\n",
       "\n",
       "    .dataframe thead th {\n",
       "        text-align: left;\n",
       "    }\n",
       "\n",
       "    .dataframe tbody tr th {\n",
       "        vertical-align: top;\n",
       "    }\n",
       "</style>\n",
       "<table border=\"1\" class=\"dataframe\">\n",
       "  <thead>\n",
       "    <tr style=\"text-align: right;\">\n",
       "      <th>movieId</th>\n",
       "      <th>1</th>\n",
       "      <th>2</th>\n",
       "      <th>3</th>\n",
       "      <th>4</th>\n",
       "      <th>5</th>\n",
       "      <th>6</th>\n",
       "      <th>7</th>\n",
       "      <th>8</th>\n",
       "      <th>9</th>\n",
       "      <th>10</th>\n",
       "      <th>...</th>\n",
       "      <th>161084</th>\n",
       "      <th>161155</th>\n",
       "      <th>161594</th>\n",
       "      <th>161830</th>\n",
       "      <th>161918</th>\n",
       "      <th>161944</th>\n",
       "      <th>162376</th>\n",
       "      <th>162542</th>\n",
       "      <th>162672</th>\n",
       "      <th>163949</th>\n",
       "    </tr>\n",
       "    <tr>\n",
       "      <th>userId</th>\n",
       "      <th></th>\n",
       "      <th></th>\n",
       "      <th></th>\n",
       "      <th></th>\n",
       "      <th></th>\n",
       "      <th></th>\n",
       "      <th></th>\n",
       "      <th></th>\n",
       "      <th></th>\n",
       "      <th></th>\n",
       "      <th></th>\n",
       "      <th></th>\n",
       "      <th></th>\n",
       "      <th></th>\n",
       "      <th></th>\n",
       "      <th></th>\n",
       "      <th></th>\n",
       "      <th></th>\n",
       "      <th></th>\n",
       "      <th></th>\n",
       "      <th></th>\n",
       "    </tr>\n",
       "  </thead>\n",
       "  <tbody>\n",
       "    <tr>\n",
       "      <th>1</th>\n",
       "      <td>0.0</td>\n",
       "      <td>0.0</td>\n",
       "      <td>0.0</td>\n",
       "      <td>0.0</td>\n",
       "      <td>0.0</td>\n",
       "      <td>0.0</td>\n",
       "      <td>0.0</td>\n",
       "      <td>0</td>\n",
       "      <td>0</td>\n",
       "      <td>0.0</td>\n",
       "      <td>...</td>\n",
       "      <td>0.0</td>\n",
       "      <td>0.0</td>\n",
       "      <td>0</td>\n",
       "      <td>0</td>\n",
       "      <td>0.0</td>\n",
       "      <td>0</td>\n",
       "      <td>0.0</td>\n",
       "      <td>0</td>\n",
       "      <td>0</td>\n",
       "      <td>0</td>\n",
       "    </tr>\n",
       "    <tr>\n",
       "      <th>2</th>\n",
       "      <td>0.0</td>\n",
       "      <td>0.0</td>\n",
       "      <td>0.0</td>\n",
       "      <td>0.0</td>\n",
       "      <td>0.0</td>\n",
       "      <td>0.0</td>\n",
       "      <td>0.0</td>\n",
       "      <td>0</td>\n",
       "      <td>0</td>\n",
       "      <td>4.0</td>\n",
       "      <td>...</td>\n",
       "      <td>0.0</td>\n",
       "      <td>0.0</td>\n",
       "      <td>0</td>\n",
       "      <td>0</td>\n",
       "      <td>0.0</td>\n",
       "      <td>0</td>\n",
       "      <td>0.0</td>\n",
       "      <td>0</td>\n",
       "      <td>0</td>\n",
       "      <td>0</td>\n",
       "    </tr>\n",
       "    <tr>\n",
       "      <th>3</th>\n",
       "      <td>0.0</td>\n",
       "      <td>0.0</td>\n",
       "      <td>0.0</td>\n",
       "      <td>0.0</td>\n",
       "      <td>0.0</td>\n",
       "      <td>0.0</td>\n",
       "      <td>0.0</td>\n",
       "      <td>0</td>\n",
       "      <td>0</td>\n",
       "      <td>0.0</td>\n",
       "      <td>...</td>\n",
       "      <td>0.0</td>\n",
       "      <td>0.0</td>\n",
       "      <td>0</td>\n",
       "      <td>0</td>\n",
       "      <td>0.0</td>\n",
       "      <td>0</td>\n",
       "      <td>0.0</td>\n",
       "      <td>0</td>\n",
       "      <td>0</td>\n",
       "      <td>0</td>\n",
       "    </tr>\n",
       "    <tr>\n",
       "      <th>4</th>\n",
       "      <td>0.0</td>\n",
       "      <td>0.0</td>\n",
       "      <td>0.0</td>\n",
       "      <td>0.0</td>\n",
       "      <td>0.0</td>\n",
       "      <td>0.0</td>\n",
       "      <td>0.0</td>\n",
       "      <td>0</td>\n",
       "      <td>0</td>\n",
       "      <td>4.0</td>\n",
       "      <td>...</td>\n",
       "      <td>0.0</td>\n",
       "      <td>0.0</td>\n",
       "      <td>0</td>\n",
       "      <td>0</td>\n",
       "      <td>0.0</td>\n",
       "      <td>0</td>\n",
       "      <td>0.0</td>\n",
       "      <td>0</td>\n",
       "      <td>0</td>\n",
       "      <td>0</td>\n",
       "    </tr>\n",
       "    <tr>\n",
       "      <th>5</th>\n",
       "      <td>0.0</td>\n",
       "      <td>0.0</td>\n",
       "      <td>4.0</td>\n",
       "      <td>0.0</td>\n",
       "      <td>0.0</td>\n",
       "      <td>0.0</td>\n",
       "      <td>0.0</td>\n",
       "      <td>0</td>\n",
       "      <td>0</td>\n",
       "      <td>0.0</td>\n",
       "      <td>...</td>\n",
       "      <td>0.0</td>\n",
       "      <td>0.0</td>\n",
       "      <td>0</td>\n",
       "      <td>0</td>\n",
       "      <td>0.0</td>\n",
       "      <td>0</td>\n",
       "      <td>0.0</td>\n",
       "      <td>0</td>\n",
       "      <td>0</td>\n",
       "      <td>0</td>\n",
       "    </tr>\n",
       "  </tbody>\n",
       "</table>\n",
       "<p>5 rows × 9066 columns</p>\n",
       "</div>"
      ],
      "text/plain": [
       "movieId  1       2       3       4       5       6       7       8       \\\n",
       "userId                                                                    \n",
       "1           0.0     0.0     0.0     0.0     0.0     0.0     0.0       0   \n",
       "2           0.0     0.0     0.0     0.0     0.0     0.0     0.0       0   \n",
       "3           0.0     0.0     0.0     0.0     0.0     0.0     0.0       0   \n",
       "4           0.0     0.0     0.0     0.0     0.0     0.0     0.0       0   \n",
       "5           0.0     0.0     4.0     0.0     0.0     0.0     0.0       0   \n",
       "\n",
       "movieId  9       10       ...    161084  161155  161594  161830  161918  \\\n",
       "userId                    ...                                             \n",
       "1             0     0.0   ...       0.0     0.0       0       0     0.0   \n",
       "2             0     4.0   ...       0.0     0.0       0       0     0.0   \n",
       "3             0     0.0   ...       0.0     0.0       0       0     0.0   \n",
       "4             0     4.0   ...       0.0     0.0       0       0     0.0   \n",
       "5             0     0.0   ...       0.0     0.0       0       0     0.0   \n",
       "\n",
       "movieId  161944  162376  162542  162672  163949  \n",
       "userId                                           \n",
       "1             0     0.0       0       0       0  \n",
       "2             0     0.0       0       0       0  \n",
       "3             0     0.0       0       0       0  \n",
       "4             0     0.0       0       0       0  \n",
       "5             0     0.0       0       0       0  \n",
       "\n",
       "[5 rows x 9066 columns]"
      ]
     },
     "execution_count": 6,
     "metadata": {},
     "output_type": "execute_result"
    }
   ],
   "source": [
    "R_df.head()"
   ]
  },
  {
   "cell_type": "code",
   "execution_count": 7,
   "metadata": {},
   "outputs": [
    {
     "name": "stdout",
     "output_type": "stream",
     "text": [
      "Question 1: Sparsity = 0.0164391416087\n"
     ]
    }
   ],
   "source": [
    "# Question 1: Compute the sparsity of the movie rating dataset, where spar-\n",
    "# sity is defined by equation 1\n",
    "\n",
    "# total available rating = 10004, total possible rating = R(len) * R(width)\n",
    "\n",
    "total_available_rating = len(Ratings) # = 10004\n",
    "total_possible_ratings =np.prod(R_df.shape)\n",
    "\n",
    "sparsity = total_available_rating / total_possible_ratings\n",
    "\n",
    "print('Question 1: Sparsity =', sparsity)"
   ]
  },
  {
   "cell_type": "code",
   "execution_count": 8,
   "metadata": {
    "collapsed": true
   },
   "outputs": [],
   "source": [
    "# Question 2: Plot a histogram showing the frequency of the rating values. To\n",
    "# be specific, bin the rating values into intervals of width 0.5 and use the binned\n",
    "# rating values as the horizontal axis. Count the number of entries in the ratings\n",
    "# matrix R with rating values in the binned intervals and use this count as the\n",
    "# vertical axis. Briely comment on the shape of the histogram\n"
   ]
  },
  {
   "cell_type": "code",
   "execution_count": 9,
   "metadata": {},
   "outputs": [
    {
     "data": {
      "text/plain": [
       "array([ 2.5,  3. ,  2. ,  4. ,  3.5,  1. ,  5. ,  4.5,  1.5,  0.5])"
      ]
     },
     "execution_count": 9,
     "metadata": {},
     "output_type": "execute_result"
    }
   ],
   "source": [
    "Ratings.rating.unique()"
   ]
  },
  {
   "cell_type": "code",
   "execution_count": 10,
   "metadata": {},
   "outputs": [
    {
     "data": {
      "image/png": "[encoded data removed]",
      "text/plain": [
       "<matplotlib.figure.Figure at 0x118292978>"
      ]
     },
     "metadata": {},
     "output_type": "display_data"
    }
   ],
   "source": [
    "plot_histogram(ydata = Ratings.rating, title='Movie Ratings', x_label='Rating of Movies', y_label='Count of Movies')"
   ]
  },
  {
   "cell_type": "code",
   "execution_count": 11,
   "metadata": {
    "collapsed": true
   },
   "outputs": [],
   "source": [
    "# Question 3: Plot the distribution of ratings among movies. To be specific,\n",
    "# the X-axis should be the movie index ordered by decreasing frequency and the\n",
    "# Y -axis should be the number of ratings the movie has received."
   ]
  },
  {
   "cell_type": "code",
   "execution_count": 12,
   "metadata": {
    "collapsed": true
   },
   "outputs": [],
   "source": [
    "movies = np.sum(R_df!=0, axis=0) # we need to do R_df!=0 to not consider users not giving rating to a movie\n",
    "movie_sorted = movies.sort_values(ascending=False)"
   ]
  },
  {
   "cell_type": "code",
   "execution_count": 13,
   "metadata": {},
   "outputs": [
    {
     "data": {
      "image/png": "[encoded data removed]",
      "text/plain": [
       "<matplotlib.figure.Figure at 0x10a9b2668>"
      ]
     },
     "metadata": {},
     "output_type": "display_data"
    }
   ],
   "source": [
    "plot_distribution(ydata=list(movie_sorted), title='Distribution of Movie Index', x_label='Movie Index', y_label='Ratings Received')"
   ]
  },
  {
   "cell_type": "code",
   "execution_count": 14,
   "metadata": {
    "collapsed": true
   },
   "outputs": [],
   "source": [
    "# Question 4: Plot the distribution of ratings among users. To be specifc, the\n",
    "# X-axis should be the user index ordered by decreasing frequency and the Y -axis\n",
    "# should be the number of movies the user have rated."
   ]
  },
  {
   "cell_type": "code",
   "execution_count": 15,
   "metadata": {
    "collapsed": true
   },
   "outputs": [],
   "source": [
    "users = np.sum(R_df!=0, axis=1) # we need to do R_df!=0 to not consider users not giving rating to a movie\n",
    "user_sorted = users.sort_values(ascending=False)"
   ]
  },
  {
   "cell_type": "code",
   "execution_count": 16,
   "metadata": {},
   "outputs": [
    {
     "data": {
      "image/png": "[encoded data removed]",
      "text/plain": [
       "<matplotlib.figure.Figure at 0x11870b128>"
      ]
     },
     "metadata": {},
     "output_type": "display_data"
    }
   ],
   "source": [
    "plot_distribution(ydata=list(user_sorted), title='Distribution of User Index', x_label='User Index', y_label='Ratings Received')"
   ]
  },
  {
   "cell_type": "code",
   "execution_count": null,
   "metadata": {
    "collapsed": true
   },
   "outputs": [],
   "source": []
  },
  {
   "cell_type": "code",
   "execution_count": 17,
   "metadata": {
    "collapsed": true
   },
   "outputs": [],
   "source": [
    "# Question 5: Explain the salient features of the distribution found in question 3\n",
    "# and their implications for the recommendation process."
   ]
  },
  {
   "cell_type": "code",
   "execution_count": null,
   "metadata": {
    "collapsed": true
   },
   "outputs": [],
   "source": []
  },
  {
   "cell_type": "code",
   "execution_count": 18,
   "metadata": {
    "collapsed": true
   },
   "outputs": [],
   "source": [
    "# Question 6: Compute the variance of the rating values received by each movie.\n",
    "# Then, bin the variance values into intervals of width 0.5 and use the binned vari-\n",
    "# ance values as the horizontal axis. Count the number of movies with variance\n",
    "# values in the binned intervals and use this count as the vertical axis. Briely\n",
    "# comment on the shape of the histogram"
   ]
  },
  {
   "cell_type": "code",
   "execution_count": 19,
   "metadata": {
    "collapsed": true
   },
   "outputs": [],
   "source": [
    "R_df_na = Ratings.pivot_table('rating', 'userId', 'movieId') # no rating as nan\n",
    "var_movie = np.var(R_df_na,axis=0)"
   ]
  },
  {
   "cell_type": "code",
   "execution_count": 20,
   "metadata": {},
   "outputs": [
    {
     "data": {
      "image/png": "[encoded data removed]",
      "text/plain": [
       "<matplotlib.figure.Figure at 0x118a58c88>"
      ]
     },
     "metadata": {},
     "output_type": "display_data"
    }
   ],
   "source": [
    "plot_histogram(ydata = var_movie, title=\"Movie rating variance\", x_label=\"Rating Variance\",y_label=\"Count of Movie\" )"
   ]
  },
  {
   "cell_type": "code",
   "execution_count": 21,
   "metadata": {
    "collapsed": true
   },
   "outputs": [],
   "source": [
    "# Question 7: Write down the formula for \u0016u in terms of Iu and ruk"
   ]
  },
  {
   "cell_type": "code",
   "execution_count": null,
   "metadata": {
    "collapsed": true
   },
   "outputs": [],
   "source": []
  },
  {
   "cell_type": "code",
   "execution_count": 22,
   "metadata": {
    "collapsed": true
   },
   "outputs": [],
   "source": [
    "# Question 8: In plain words, explain the meaning of Iu \\ Iv. Can Iu \\ Iv = ;"
   ]
  },
  {
   "cell_type": "code",
   "execution_count": null,
   "metadata": {
    "collapsed": true
   },
   "outputs": [],
   "source": []
  },
  {
   "cell_type": "code",
   "execution_count": null,
   "metadata": {
    "collapsed": true
   },
   "outputs": [],
   "source": [
    "# Question 9: Can you explain the reason behind mean-centering the raw rat-\n",
    "# ings (rvj 􀀀 \u0016v) in the prediction function? (Hint: Consider users who either\n",
    "# rate all items highly or rate all items poorly and the impact of these users on\n",
    "# the prediction function)"
   ]
  },
  {
   "cell_type": "code",
   "execution_count": null,
   "metadata": {
    "collapsed": true
   },
   "outputs": [],
   "source": []
  },
  {
   "cell_type": "code",
   "execution_count": null,
   "metadata": {
    "collapsed": true
   },
   "outputs": [],
   "source": [
    "# Question 10: Design a k-NN collaborative filter to predict the ratings of the"
   ]
  },
  {
   "cell_type": "code",
   "execution_count": 81,
   "metadata": {
    "collapsed": true
   },
   "outputs": [],
   "source": [
    "from sklearn.neighbors import KNeighborsClassifier\n",
    "import nltk\n",
    "from sklearn import cross_validation\n",
    "\n",
    "from sklearn.cross_validation import train_test_split\n",
    "from sklearn.model_selection import cross_val_score\n",
    "\n",
    "from sklearn import preprocessing\n",
    "from sklearn import utils\n"
   ]
  },
  {
   "cell_type": "code",
   "execution_count": 46,
   "metadata": {},
   "outputs": [
    {
     "data": {
      "text/html": [
       "<div>\n",
       "<style>\n",
       "    .dataframe thead tr:only-child th {\n",
       "        text-align: right;\n",
       "    }\n",
       "\n",
       "    .dataframe thead th {\n",
       "        text-align: left;\n",
       "    }\n",
       "\n",
       "    .dataframe tbody tr th {\n",
       "        vertical-align: top;\n",
       "    }\n",
       "</style>\n",
       "<table border=\"1\" class=\"dataframe\">\n",
       "  <thead>\n",
       "    <tr style=\"text-align: right;\">\n",
       "      <th></th>\n",
       "      <th>userId</th>\n",
       "      <th>movieId</th>\n",
       "      <th>rating</th>\n",
       "      <th>timestamp</th>\n",
       "    </tr>\n",
       "  </thead>\n",
       "  <tbody>\n",
       "    <tr>\n",
       "      <th>0</th>\n",
       "      <td>1</td>\n",
       "      <td>31</td>\n",
       "      <td>2.5</td>\n",
       "      <td>1260759144</td>\n",
       "    </tr>\n",
       "    <tr>\n",
       "      <th>1</th>\n",
       "      <td>1</td>\n",
       "      <td>1029</td>\n",
       "      <td>3.0</td>\n",
       "      <td>1260759179</td>\n",
       "    </tr>\n",
       "    <tr>\n",
       "      <th>2</th>\n",
       "      <td>1</td>\n",
       "      <td>1061</td>\n",
       "      <td>3.0</td>\n",
       "      <td>1260759182</td>\n",
       "    </tr>\n",
       "    <tr>\n",
       "      <th>3</th>\n",
       "      <td>1</td>\n",
       "      <td>1129</td>\n",
       "      <td>2.0</td>\n",
       "      <td>1260759185</td>\n",
       "    </tr>\n",
       "    <tr>\n",
       "      <th>4</th>\n",
       "      <td>1</td>\n",
       "      <td>1172</td>\n",
       "      <td>4.0</td>\n",
       "      <td>1260759205</td>\n",
       "    </tr>\n",
       "  </tbody>\n",
       "</table>\n",
       "</div>"
      ],
      "text/plain": [
       "   userId  movieId  rating   timestamp\n",
       "0       1       31     2.5  1260759144\n",
       "1       1     1029     3.0  1260759179\n",
       "2       1     1061     3.0  1260759182\n",
       "3       1     1129     2.0  1260759185\n",
       "4       1     1172     4.0  1260759205"
      ]
     },
     "execution_count": 46,
     "metadata": {},
     "output_type": "execute_result"
    }
   ],
   "source": [
    "Ratings.head()"
   ]
  },
  {
   "cell_type": "code",
   "execution_count": 92,
   "metadata": {
    "collapsed": true
   },
   "outputs": [],
   "source": [
    "# # creating training and target.\n",
    "# X = np.array(Ratings.ix[:, ['userId','movieId']])\n",
    "# y = np.array(Ratings['rating'])\n",
    "\n",
    "# # since we cannot pass in float values in rating into kNN, we need to encode it\n",
    "# le = preprocessing.LabelEncoder()\n",
    "# y_encoded= le.fit_transform(y)\n"
   ]
  },
  {
   "cell_type": "code",
   "execution_count": 94,
   "metadata": {
    "collapsed": true
   },
   "outputs": [],
   "source": [
    "# # split into train and test dataset.\n",
    "# X_train, X_test, y_train, y_test = train_test_split(X, y_encoded, test_size=0.33,random_state=42 )"
   ]
  },
  {
   "cell_type": "code",
   "execution_count": 141,
   "metadata": {
    "collapsed": true
   },
   "outputs": [],
   "source": [
    "# RMSE = []\n",
    "# MAE = []\n",
    "# ks = np.arange(2,102,2)\n",
    "\n",
    "# for i in range(2,102,2): # watchout, range in python won't account for end number\n",
    "#     knn = KNeighborsClassifier(n_neighbors=i)\n",
    "#     #i guess they renamed it from mean_squared_error, same with mean_squared_error\n",
    "#     # scikit learn return the negative value for MSE\n",
    "#     rmse_scores = -1 * cross_val_score(knn, X_train, y_train, cv=10, scoring='neg_mean_squared_error')\n",
    "#     mae_scores = -1 * cross_val_score(knn, X_train, y_train, cv=10, scoring='neg_mean_absolute_error')\n",
    "#     RMSE.append(rmse_scores.mean())\n",
    "#     MAE.append(mae_scores.mean())\n",
    "    "
   ]
  },
  {
   "cell_type": "code",
   "execution_count": 158,
   "metadata": {},
   "outputs": [
    {
     "name": "stdout",
     "output_type": "stream",
     "text": [
      "[44]\n"
     ]
    },
    {
     "data": {
      "text/plain": [
       "90"
      ]
     },
     "execution_count": 158,
     "metadata": {},
     "output_type": "execute_result"
    }
   ],
   "source": [
    "# #position where min RMSE\n",
    "# print([i for i, x in enumerate(RMSE) if x == min(RMSE)])\n",
    "# ks[44]"
   ]
  },
  {
   "cell_type": "code",
   "execution_count": 161,
   "metadata": {
    "collapsed": true
   },
   "outputs": [],
   "source": [
    "# #position where min MAE\n",
    "# print([i for i, x in enumerate(MAE) if x == min(MAE)])\n",
    "# ks[44]"
   ]
  },
  {
   "cell_type": "code",
   "execution_count": 162,
   "metadata": {
    "collapsed": true
   },
   "outputs": [],
   "source": [
    "# plot_distribution(RMSE, ks, title=\"RMSE distribution\", x_label=\"k\", y_label=\"Average RMSE\")"
   ]
  },
  {
   "cell_type": "code",
   "execution_count": 163,
   "metadata": {
    "collapsed": true
   },
   "outputs": [],
   "source": [
    "# plot_distribution(MAE, ks, title=\"MAE distribution\", x_label=\"k\", y_label=\"Average MAE\")"
   ]
  },
  {
   "cell_type": "code",
   "execution_count": null,
   "metadata": {
    "collapsed": true
   },
   "outputs": [],
   "source": []
  },
  {
   "cell_type": "code",
   "execution_count": 8,
   "metadata": {},
   "outputs": [],
   "source": [
    "from surprise.model_selection.validation  import cross_validate\n",
    "from surprise.prediction_algorithms.knns import KNNWithMeans\n",
    "\n",
    "import os\n",
    "from surprise import Dataset\n",
    "from surprise import Reader\n",
    "from surprise import accuracy"
   ]
  },
  {
   "cell_type": "code",
   "execution_count": 10,
   "metadata": {},
   "outputs": [],
   "source": [
    "# In order to fit surprise\n",
    "file_path = os.path.expanduser('ml-latest-small/ratings.csv')\n",
    "reader = Reader(line_format='user item rating', sep=',',skip_lines=1, rating_scale=(0.5, 5))\n",
    "data = Dataset.load_from_file(file_path, reader=reader)"
   ]
  },
  {
   "cell_type": "code",
   "execution_count": 16,
   "metadata": {},
   "outputs": [],
   "source": [
    "%%capture\n",
    "RMSE = []\n",
    "MAE = []\n",
    "ks = np.arange(2,102,2)\n",
    "\n",
    "for k in range(2,102,2):\n",
    "    knn = KNNWithMeans(k=k, sim_options = {'name': 'pearson'})\n",
    "    cv = cross_validate(knn, data, measures=['RMSE','MAE'],cv=10, verbose=False)\n",
    "    RMSE.append(np.mean(cv['test_rmse']))\n",
    "    MAE.append(np.mean(cv['test_mae']))\n",
    "                "
   ]
  },
  {
   "cell_type": "code",
   "execution_count": 33,
   "metadata": {},
   "outputs": [
    {
     "name": "stdout",
     "output_type": "stream",
     "text": [
      "[23]\n",
      "0.916844240184\n"
     ]
    },
    {
     "data": {
      "text/plain": [
       "48"
      ]
     },
     "execution_count": 33,
     "metadata": {},
     "output_type": "execute_result"
    }
   ],
   "source": [
    "#position where min RMSE\n",
    "print([i for i, x in enumerate(RMSE) if x == min(RMSE)])\n",
    "print(min(RMSE))\n",
    "ks[23]"
   ]
  },
  {
   "cell_type": "code",
   "execution_count": 34,
   "metadata": {},
   "outputs": [
    {
     "name": "stdout",
     "output_type": "stream",
     "text": [
      "[38]\n",
      "0.698715204602\n"
     ]
    },
    {
     "data": {
      "text/plain": [
       "78"
      ]
     },
     "execution_count": 34,
     "metadata": {},
     "output_type": "execute_result"
    }
   ],
   "source": [
    "#position where min MAE\n",
    "print([i for i, x in enumerate(MAE) if x == min(MAE)])\n",
    "print(min(MAE))\n",
    "ks[38]"
   ]
  },
  {
   "cell_type": "code",
   "execution_count": 26,
   "metadata": {},
   "outputs": [
    {
     "data": {
      "image/png": "[encoded data removed]",
      "text/plain": [
       "<matplotlib.figure.Figure at 0x11e1772e8>"
      ]
     },
     "metadata": {},
     "output_type": "display_data"
    }
   ],
   "source": [
    "plot_distribution(RMSE, ks, title=\"RMSE distribution\", x_label=\"k\", y_label=\"Average RMSE\")"
   ]
  },
  {
   "cell_type": "code",
   "execution_count": 35,
   "metadata": {},
   "outputs": [
    {
     "data": {
      "image/png": "[encoded data removed]",
      "text/plain": [
       "<matplotlib.figure.Figure at 0x11fb195c0>"
      ]
     },
     "metadata": {},
     "output_type": "display_data"
    }
   ],
   "source": [
    "plot_distribution(MAE, ks, title=\"MAE distribution\", x_label=\"k\", y_label=\"Average MAE\")"
   ]
  },
  {
   "cell_type": "code",
   "execution_count": null,
   "metadata": {
    "collapsed": true
   },
   "outputs": [],
   "source": []
  },
  {
   "cell_type": "code",
   "execution_count": null,
   "metadata": {
    "collapsed": true
   },
   "outputs": [],
   "source": [
    "# Question 11: Use the plot from question 10, to \f",
    "nd a 'minimum k'. Note: The\n",
    "# term 'minimum k' in this context means that increasing k above the minimum\n",
    "# value would not result in a signi\f",
    "cant decrease in average RMSE or average\n",
    "# MAE. If you get the plot correct, then 'minimum k' would correspond to the\n",
    "# k value for which average RMSE and average MAE converges to a steady-state\n",
    "# value. Please report the steady state values of average RMSE and average MAE"
   ]
  },
  {
   "cell_type": "code",
   "execution_count": null,
   "metadata": {
    "collapsed": true
   },
   "outputs": [],
   "source": []
  },
  {
   "cell_type": "code",
   "execution_count": null,
   "metadata": {
    "collapsed": true
   },
   "outputs": [],
   "source": [
    "# Question 12: Design a k-NN collaborative \f",
    "lter to predict the ratings of the\n",
    "# movies in the popular movie trimmed test set and evaluate it's performance\n",
    "# using 10-fold cross validation.Sweep k ( number of neighbors) from 2 to 100 in\n",
    "# step sizes of 2, and for each k compute the average RMSE obtained by averaging\n",
    "# the RMSE across all 10 folds. Plot average RMSE (Y-axis) against k (X-axis).\n",
    "# Also, report the minimum average RMSE"
   ]
  },
  {
   "cell_type": "code",
   "execution_count": null,
   "metadata": {
    "collapsed": true
   },
   "outputs": [],
   "source": []
  },
  {
   "cell_type": "code",
   "execution_count": null,
   "metadata": {
    "collapsed": true
   },
   "outputs": [],
   "source": [
    "# Question 13: Design a k-NN collaborative \f",
    "lter to predict the ratings of the\n",
    "# movies in the unpopular movie trimmed test set and evaluate it's performance\n",
    "# using 10-fold cross validation.Sweep k ( number of neighbors) from 2 to 100 in\n",
    "# step sizes of 2, and for each k compute the average RMSE obtained by averaging\n",
    "# the RMSE across all 10 folds. Plot average RMSE (Y-axis) against k (X-axis).\n",
    "# Also, report the minimum average RMSE"
   ]
  },
  {
   "cell_type": "code",
   "execution_count": null,
   "metadata": {
    "collapsed": true
   },
   "outputs": [],
   "source": []
  },
  {
   "cell_type": "code",
   "execution_count": null,
   "metadata": {
    "collapsed": true
   },
   "outputs": [],
   "source": [
    "# Question 14: Design a k-NN collaborative \f",
    "lter to predict the ratings of the\n",
    "# movies in the high variance movie trimmed test set and evaluate it's perfor-\n",
    "# mance using 10-fold cross validation.Sweep k ( number of neighbors) from 2 to\n",
    "# 100 in step sizes of 2, and for each k compute the average RMSE obtained by\n",
    "# averaging the RMSE across all 10 folds. Plot average RMSE (Y-axis) against k\n",
    "# (X-axis). Also, report the minimum average RMSE"
   ]
  },
  {
   "cell_type": "code",
   "execution_count": null,
   "metadata": {
    "collapsed": true
   },
   "outputs": [],
   "source": []
  },
  {
   "cell_type": "code",
   "execution_count": null,
   "metadata": {
    "collapsed": true
   },
   "outputs": [],
   "source": [
    "# Question 15: Plot the ROC curves for the k-NN collaborative \f",
    "lter designed\n",
    "# in question 10 for threshold values [2:5; 3; 3:5; 4]. For the ROC plotting use the\n",
    "# k found in question 11. For each of the plots, also report the area under the\n",
    "# curve (AUC) value."
   ]
  },
  {
   "cell_type": "code",
   "execution_count": null,
   "metadata": {
    "collapsed": true
   },
   "outputs": [],
   "source": []
  },
  {
   "cell_type": "code",
   "execution_count": null,
   "metadata": {
    "collapsed": true
   },
   "outputs": [],
   "source": [
    "# Question 16: Is the optimization problem given by equation 5 convex? Consider\n",
    "# the optimization problem given by equation 5. For U \f",
    "xed, formulate it as a\n",
    "# least-squares problem."
   ]
  },
  {
   "cell_type": "code",
   "execution_count": null,
   "metadata": {
    "collapsed": true
   },
   "outputs": [],
   "source": []
  },
  {
   "cell_type": "code",
   "execution_count": null,
   "metadata": {
    "collapsed": true
   },
   "outputs": [],
   "source": [
    "# Question 17: Design a NNMF-based collaborative \f",
    "lter to predict the ratings of\n",
    "# the movies in the MovieLens dataset and evaluate it's performance using 10-fold\n",
    "# cross-validation. Sweep k (number of latent factors) from 2 to 50 in step sizes\n",
    "# of 2, and for each k compute the average RMSE and average MAE obtained\n",
    "# by averaging the RMSE and MAE across all 10 folds. Plot the average RMSE\n",
    "# (Y-axis) against k (X-axis) and the average MAE (Y-axis) against k (X-axis).\n",
    "# For solving this question, use the default value for the regularization parameter."
   ]
  },
  {
   "cell_type": "code",
   "execution_count": null,
   "metadata": {
    "collapsed": true
   },
   "outputs": [],
   "source": []
  },
  {
   "cell_type": "code",
   "execution_count": null,
   "metadata": {
    "collapsed": true
   },
   "outputs": [],
   "source": [
    "# Question 18: Use the plot from question 17, to \f",
    "nd the optimal number of\n",
    "# latent factors. Optimal number of latent factors is the value of k that gives\n",
    "# the minimum average RMSE or the minimum average MAE. Please report the\n",
    "# minimum average RMSE and MAE. Is the optimal number of latent factors\n",
    "# same as the number of movie genres?"
   ]
  },
  {
   "cell_type": "code",
   "execution_count": null,
   "metadata": {
    "collapsed": true
   },
   "outputs": [],
   "source": []
  },
  {
   "cell_type": "code",
   "execution_count": null,
   "metadata": {
    "collapsed": true
   },
   "outputs": [],
   "source": [
    "# Question 19: Design a NNMF collaborative \f",
    "lter to predict the ratings of the\n",
    "# movies in the popular movie trimmed test set and evaluate it's performance us-\n",
    "# ing 10-fold cross validation.Sweep k ( number of latent factors) from 2 to 50 in\n",
    "# step sizes of 2, and for each k compute the average RMSE obtained by averaging\n",
    "# the RMSE across all 10 folds. Plot average RMSE (Y-axis) against k (X-axis).\n",
    "# Also, report the minimum average RMSE"
   ]
  },
  {
   "cell_type": "code",
   "execution_count": null,
   "metadata": {
    "collapsed": true
   },
   "outputs": [],
   "source": []
  },
  {
   "cell_type": "code",
   "execution_count": null,
   "metadata": {
    "collapsed": true
   },
   "outputs": [],
   "source": [
    "# Question 20: Design a NNMF collaborative \f",
    "lter to predict the ratings of the\n",
    "# movies in the unpopular movie trimmed test set and evaluate it's performance\n",
    "# using 10-fold cross validation.Sweep k ( number of latent factors) from 2 to 50 in\n",
    "# step sizes of 2, and for each k compute the average RMSE obtained by averaging\n",
    "# the RMSE across all 10 folds. Plot average RMSE (Y-axis) against k (X-axis).\n",
    "# Also, report the minimum average RMSE"
   ]
  },
  {
   "cell_type": "code",
   "execution_count": null,
   "metadata": {
    "collapsed": true
   },
   "outputs": [],
   "source": []
  },
  {
   "cell_type": "code",
   "execution_count": null,
   "metadata": {
    "collapsed": true
   },
   "outputs": [],
   "source": [
    "# Question 21: Design a NNMF collaborative \f",
    "lter to predict the ratings of the\n",
    "# movies in the high variance movie trimmed test set and evaluate it's perfor-\n",
    "# mance using 10-fold cross validation.Sweep k ( number of latent factors) from 2\n",
    "# to 50 in step sizes of 2, and for each k compute the average RMSE obtained by\n",
    "# averaging the RMSE across all 10 folds. Plot average RMSE (Y-axis) against k\n",
    "# (X-axis). Also, report the minimum average RMSE"
   ]
  },
  {
   "cell_type": "code",
   "execution_count": null,
   "metadata": {
    "collapsed": true
   },
   "outputs": [],
   "source": []
  },
  {
   "cell_type": "code",
   "execution_count": null,
   "metadata": {
    "collapsed": true
   },
   "outputs": [],
   "source": [
    "# Question 22: Plot the ROC curves for the NNMF-based collaborative \f",
    "lter\n",
    "# designed in question 17 for threshold values [2:5; 3; 3:5; 4]. For the ROC plot-\n",
    "# ting use the optimal number of latent factors found in question 18. For each of\n",
    "# the plots, also report the area under the curve (AUC) value."
   ]
  },
  {
   "cell_type": "code",
   "execution_count": null,
   "metadata": {
    "collapsed": true
   },
   "outputs": [],
   "source": []
  },
  {
   "cell_type": "code",
   "execution_count": null,
   "metadata": {
    "collapsed": true
   },
   "outputs": [],
   "source": [
    "# Question 23: Perform Non-negative matrix factorization on the ratings matrix\n",
    "# R to obtain the factor matrices U and V , where U represents the user-latent\n",
    "# factors interaction and V represents the movie-latent factors interaction (use k\n",
    "# = 20). For each column of V , sort the movies in descending order and report\n",
    "# the genres of the top 10 movies. Do the top 10 movies belong to a particular\n",
    "# or a small collection of genre? Is there a connection between the latent factors\n",
    "# and the movie genres?"
   ]
  },
  {
   "cell_type": "code",
   "execution_count": null,
   "metadata": {
    "collapsed": true
   },
   "outputs": [],
   "source": []
  },
  {
   "cell_type": "code",
   "execution_count": null,
   "metadata": {
    "collapsed": true
   },
   "outputs": [],
   "source": [
    "# Question 24: Design a MF with bias collaborative \f",
    "lter to predict the ratings of\n",
    "# the movies in the MovieLens dataset and evaluate it's performance using 10-fold\n",
    "# cross-validation. Sweep k (number of latent factors) from 2 to 50 in step sizes\n",
    "# of 2, and for each k compute the average RMSE and average MAE obtained\n",
    "# by averaging the RMSE and MAE across all 10 folds. Plot the average RMSE\n",
    "# (Y-axis) against k (X-axis) and the average MAE (Y-axis) against k (X-axis).\n",
    "# For solving this question, use the default value for the regularization parameter."
   ]
  },
  {
   "cell_type": "code",
   "execution_count": null,
   "metadata": {
    "collapsed": true
   },
   "outputs": [],
   "source": []
  },
  {
   "cell_type": "code",
   "execution_count": null,
   "metadata": {
    "collapsed": true
   },
   "outputs": [],
   "source": [
    "# Question 25: Use the plot from question 24, to \f",
    "nd the optimal number of\n",
    "# latent factors. Optimal number of latent factors is the value of k that gives\n",
    "# the minimum average RMSE or the minimum average MAE. Please report the\n",
    "# minimum average RMSE and MAE."
   ]
  },
  {
   "cell_type": "code",
   "execution_count": null,
   "metadata": {
    "collapsed": true
   },
   "outputs": [],
   "source": []
  },
  {
   "cell_type": "code",
   "execution_count": null,
   "metadata": {
    "collapsed": true
   },
   "outputs": [],
   "source": [
    "# Question 26: Design a MF with bias collaborative \f",
    "lter to predict the ratings of\n",
    "# the movies in the popular movie trimmed test set and evaluate it's performance\n",
    "# using 10-fold cross validation.Sweep k ( number of latent factors) from 2 to 50 in\n",
    "# step sizes of 2, and for each k compute the average RMSE obtained by averaging\n",
    "# the RMSE across all 10 folds. Plot average RMSE (Y-axis) against k (X-axis).\n",
    "# Also, report the minimum average RMSE"
   ]
  },
  {
   "cell_type": "code",
   "execution_count": null,
   "metadata": {
    "collapsed": true
   },
   "outputs": [],
   "source": []
  },
  {
   "cell_type": "code",
   "execution_count": null,
   "metadata": {
    "collapsed": true
   },
   "outputs": [],
   "source": [
    "# Question 27: Design a MF with bias collaborative \f",
    "lter to predict the rat-\n",
    "# ings of the movies in the unpopular movie trimmed test set and evaluate it's\n",
    "# performance using 10-fold cross validation.Sweep k ( number of latent factors)\n",
    "# from 2 to 50 in step sizes of 2, and for each k compute the average RMSE ob-\n",
    "# tained by averaging the RMSE across all 10 folds. Plot average RMSE (Y-axis)\n",
    "# against k (X-axis). Also, report the minimum average RMSE"
   ]
  },
  {
   "cell_type": "code",
   "execution_count": null,
   "metadata": {
    "collapsed": true
   },
   "outputs": [],
   "source": []
  },
  {
   "cell_type": "code",
   "execution_count": null,
   "metadata": {
    "collapsed": true
   },
   "outputs": [],
   "source": [
    "# Question 28: Design a MF with bias collaborative \f",
    "lter to predict the rat-\n",
    "# ings of the movies in the high variance movie trimmed test set and evaluate it's\n",
    "# performance using 10-fold cross validation.Sweep k ( number of latent factors)\n",
    "# from 2 to 50 in step sizes of 2, and for each k compute the average RMSE ob-\n",
    "# tained by averaging the RMSE across all 10 folds. Plot average RMSE (Y-axis)\n",
    "# against k (X-axis). Also, report the minimum average RMSE"
   ]
  },
  {
   "cell_type": "code",
   "execution_count": null,
   "metadata": {
    "collapsed": true
   },
   "outputs": [],
   "source": []
  },
  {
   "cell_type": "code",
   "execution_count": null,
   "metadata": {
    "collapsed": true
   },
   "outputs": [],
   "source": [
    "# Question 29: Plot the ROC curves for the MF with bias collaborative \f",
    "lter\n",
    "# designed in question 24 for threshold values [2:5; 3; 3:5; 4]. For the ROC plot-\n",
    "# ting use the optimal number of latent factors found in question 25. For each of\n",
    "# the plots, also report the area under the curve (AUC) value."
   ]
  },
  {
   "cell_type": "code",
   "execution_count": null,
   "metadata": {
    "collapsed": true
   },
   "outputs": [],
   "source": []
  },
  {
   "cell_type": "code",
   "execution_count": null,
   "metadata": {
    "collapsed": true
   },
   "outputs": [],
   "source": [
    "# Question 30: Design a naive collaborative \f",
    "lter to predict the ratings of the\n",
    "# movies in the MovieLens dataset and evaluate it's performance using 10-fold\n",
    "# cross validation. Compute the average RMSE by averaging the RMSE across\n",
    "# all 10 folds. Report the average RMSE."
   ]
  },
  {
   "cell_type": "code",
   "execution_count": null,
   "metadata": {
    "collapsed": true
   },
   "outputs": [],
   "source": []
  },
  {
   "cell_type": "code",
   "execution_count": null,
   "metadata": {
    "collapsed": true
   },
   "outputs": [],
   "source": [
    "# Question 31: Design a naive collaborative \f",
    "lter to predict the ratings of the\n",
    "# movies in the popular movie trimmed test set and evaluate it's performance\n",
    "# using 10-fold cross validation. Compute the average RMSE by averaging the\n",
    "# RMSE across all 10 folds. Report the average RMSE."
   ]
  },
  {
   "cell_type": "code",
   "execution_count": null,
   "metadata": {
    "collapsed": true
   },
   "outputs": [],
   "source": []
  },
  {
   "cell_type": "code",
   "execution_count": null,
   "metadata": {
    "collapsed": true
   },
   "outputs": [],
   "source": [
    "# Question 32: Design a naive collaborative \f",
    "lter to predict the ratings of the\n",
    "# movies in the unpopular movie trimmed test set and evaluate it's performance\n",
    "# using 10-fold cross validation. Compute the average RMSE by averaging the\n",
    "# RMSE across all 10 folds. Report the average RMSE."
   ]
  },
  {
   "cell_type": "code",
   "execution_count": null,
   "metadata": {
    "collapsed": true
   },
   "outputs": [],
   "source": []
  },
  {
   "cell_type": "code",
   "execution_count": null,
   "metadata": {
    "collapsed": true
   },
   "outputs": [],
   "source": [
    "# Question 33: Design a naive collaborative \f",
    "lter to predict the ratings of the\n",
    "# movies in the high variance movie trimmed test set and evaluate it's perfor-\n",
    "# mance using 10-fold cross validation. Compute the average RMSE by averaging\n",
    "# the RMSE across all 10 folds. Report the average RMSE."
   ]
  },
  {
   "cell_type": "code",
   "execution_count": null,
   "metadata": {
    "collapsed": true
   },
   "outputs": [],
   "source": []
  },
  {
   "cell_type": "code",
   "execution_count": null,
   "metadata": {
    "collapsed": true
   },
   "outputs": [],
   "source": [
    "# Question 34: Plot the ROC curves (threshold = 3) for the k-NN, NNMF, and\n",
    "# MF with bias based collaborative \f",
    "lters in the same \f",
    "gure. Use the \f",
    "gure to\n",
    "# compare the performance of the \f",
    "lters in predicting the ratings of the movies."
   ]
  },
  {
   "cell_type": "code",
   "execution_count": null,
   "metadata": {
    "collapsed": true
   },
   "outputs": [],
   "source": []
  },
  {
   "cell_type": "code",
   "execution_count": null,
   "metadata": {
    "collapsed": true
   },
   "outputs": [],
   "source": [
    "# Question 35: Precision and Recall are de\f",
    "ned by the mathematical expres-\n",
    "# sions given by equations 12 and 13 respectively. Please explain the meaning of\n",
    "# precision and recall in your own words."
   ]
  },
  {
   "cell_type": "code",
   "execution_count": null,
   "metadata": {
    "collapsed": true
   },
   "outputs": [],
   "source": []
  },
  {
   "cell_type": "code",
   "execution_count": null,
   "metadata": {
    "collapsed": true
   },
   "outputs": [],
   "source": [
    "# Question 36: Plot average precision (Y-axis) against t (X-axis) for the rank-\n",
    "# ing obtained using k-NN collaborative \f",
    "lter predictions. Also, plot the average\n",
    "# recall (Y-axis) against t (X-axis) and average precision (Y-axis) against average\n",
    "# recall (X-axis). Use the k found in question 11 and sweep t from 1 to 25 in step\n",
    "# sizes of 1. For each plot, brie\n",
    "# y comment on the shape of the plot."
   ]
  },
  {
   "cell_type": "code",
   "execution_count": null,
   "metadata": {
    "collapsed": true
   },
   "outputs": [],
   "source": []
  },
  {
   "cell_type": "code",
   "execution_count": null,
   "metadata": {
    "collapsed": true
   },
   "outputs": [],
   "source": [
    "# Question 37: Plot average precision (Y-axis) against t (X-axis) for the rank-\n",
    "# ing obtained using NNMF-based collaborative \f",
    "lter predictions. Also, plot the\n",
    "# average recall (Y-axis) against t (X-axis) and average precision (Y-axis) against\n",
    "# average recall (X-axis). Use optimal number of latent factors found in question\n",
    "# 18 and sweep t from 1 to 25 in step sizes of 1. For each plot, brie\n",
    "# y comment\n",
    "# on the shape of the plot."
   ]
  },
  {
   "cell_type": "code",
   "execution_count": null,
   "metadata": {
    "collapsed": true
   },
   "outputs": [],
   "source": []
  },
  {
   "cell_type": "code",
   "execution_count": null,
   "metadata": {
    "collapsed": true
   },
   "outputs": [],
   "source": [
    "# Question 38: Plot average precision (Y-axis) against t (X-axis) for the ranking\n",
    "# obtained using MF with bias-based collaborative \f",
    "lter predictions. Also, plot\n",
    "# the average recall (Y-axis) against t (X-axis) and average precision (Y-axis)\n",
    "# against average recall (X-axis). Use optimal number of latent factors found in\n",
    "# question 25 and sweep t from 1 to 25 in step sizes of 1. For each plot, brie\n",
    "# y\n",
    "# comment on the shape of the plot."
   ]
  },
  {
   "cell_type": "code",
   "execution_count": null,
   "metadata": {
    "collapsed": true
   },
   "outputs": [],
   "source": []
  },
  {
   "cell_type": "code",
   "execution_count": null,
   "metadata": {
    "collapsed": true
   },
   "outputs": [],
   "source": [
    "# Question 39: Plot the precision-recall curve obtained in questions 36,37, and\n",
    "# 38 in the same \f",
    "gure. Use this \f",
    "gure to compare the relevance of the recom-\n",
    "# mendation list generated using k-NN, NNMF, and MF with bias predictions."
   ]
  },
  {
   "cell_type": "code",
   "execution_count": null,
   "metadata": {
    "collapsed": true
   },
   "outputs": [],
   "source": []
  },
  {
   "cell_type": "code",
   "execution_count": null,
   "metadata": {
    "collapsed": true
   },
   "outputs": [],
   "source": []
  },
  {
   "cell_type": "code",
   "execution_count": null,
   "metadata": {
    "collapsed": true
   },
   "outputs": [],
   "source": []
  },
  {
   "cell_type": "code",
   "execution_count": null,
   "metadata": {
    "collapsed": true
   },
   "outputs": [],
   "source": []
  },
  {
   "cell_type": "code",
   "execution_count": null,
   "metadata": {
    "collapsed": true
   },
   "outputs": [],
   "source": []
  }
 ],
 "metadata": {
  "kernelspec": {
   "display_name": "Python 3",
   "language": "python",
   "name": "python3"
  },
  "language_info": {
   "codemirror_mode": {
    "name": "ipython",
    "version": 3
   },
   "file_extension": ".py",
   "mimetype": "text/x-python",
   "name": "python",
   "nbconvert_exporter": "python",
   "pygments_lexer": "ipython3",
   "version": "3.6.1"
  }
 },
 "nbformat": 4,
 "nbformat_minor": 2
}
