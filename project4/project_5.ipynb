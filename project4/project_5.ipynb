{
 "cells": [
  {
   "cell_type": "code",
   "execution_count": 55,
   "metadata": {
    "collapsed": true
   },
   "outputs": [],
   "source": [
    "import numpy as np\n",
    "import pandas as pd\n",
    "\n",
    "import json\n",
    "import csv\n",
    "\n",
    "import datetime"
   ]
  },
  {
   "cell_type": "code",
   "execution_count": 132,
   "metadata": {},
   "outputs": [],
   "source": [
    "filenames = ['ECE219_tweet_data/tweets_#gohawks.txt',\n",
    "            'ECE219_tweet_data/tweets_#gopatriots.txt',\n",
    "            'ECE219_tweet_data/tweets_#nfl.txt',\n",
    "            'ECE219_tweet_data/tweets_#patriots.txt',\n",
    "            'ECE219_tweet_data/tweets_#sb49.txt',\n",
    "            'ECE219_tweet_data/tweets_#superbowl.txt']\n",
    "\n",
    "output_filenames = ['Q1_2#gohawks.lol',\n",
    "                    'Q1_2#gopatriots.lol',\n",
    "                   'Q1_2#nfl.lol',\n",
    "                   'Q1_2#patriots.lol',\n",
    "                   'Q1_2#sb49.lol',\n",
    "                   'Q1_2#superbowl.lol']\n",
    "\n",
    "for i in range(len(filenames)):\n",
    "    with open(filenames[i], 'r') as reader:\n",
    "        headers = ['citation_date','author_nick_names','tweets','retweets','followers']\n",
    "        with open(output_filenames[i], 'w') as writer:\n",
    "            csv_writer = csv.writer(writer, lineterminator='\\n')\n",
    "            csv_writer.writerow(headers)\n",
    "            for line in reader:\n",
    "                data = json.loads(line)\n",
    "                response = [datetime.datetime.fromtimestamp(data['citation_date']),\n",
    "                            data['author']['nick'],\n",
    "                            1, # there is one tweet at a time..\n",
    "                            data['metrics']['citations']['total'], #retweets\n",
    "                            data['author']['followers'], #followers\n",
    "                             ]\n",
    "                csv_writer.writerow(response)\n"
   ]
  },
  {
   "cell_type": "code",
   "execution_count": 126,
   "metadata": {},
   "outputs": [
    {
     "name": "stdout",
     "output_type": "stream",
     "text": [
      "{'author_img': 'http://pbs.twimg.com/profile_images/561716455155064833/XGrpP4Rl_normal.jpeg', 'name': 'RJ', 'url': 'http://twitter.com/rejinseattle', 'nick': 'rejinseattle', 'followers': 1752.0, 'image_url': 'http://pbs.twimg.com/profile_images/561716455155064833/XGrpP4Rl_normal.jpeg', 'type': 'twitter', 'description': 'Married to my best friend... You-make me laugh and occasionally think... I-will let you in on some of the crazy shit that consumes my thoughts...'}\n"
     ]
    }
   ],
   "source": [
    "# # this is where we will only use what we need.\n",
    "\n",
    "# filename = 'ECE219_tweet_data/tweets_#gohawks.txt'\n",
    "# output_filename = 'Q1_2#gohawks.lol'\n",
    "\n",
    "# with open(filename, 'r') as reader:\n",
    "#     headers = ['citation_date','author_nick_names''tweets','retweets','followers']\n",
    "#     with open(output_filename, 'w') as writer:\n",
    "#         csv_writer = csv.writer(writer, lineterminator='\\n')\n",
    "#         csv_writer.writerow(headers)\n",
    "#         for line in reader:\n",
    "#             data = json.loads(line)\n",
    "#             response = [datetime.datetime.fromtimestamp(data['citation_date']),\n",
    "#                         data['author']['nick'],\n",
    "#                         1, # there is one tweet at a time..\n",
    "#                         data['metrics']['citations']['total'], #retweets\n",
    "#                         data['author']['followers'], #followers\n",
    "#                          ]\n",
    "#             csv_writer.writerow(response)\n",
    "            \n",
    "# filename = 'ECE219_tweet_data/tweets_#gopatriots.txt'\n",
    "# output_filename = 'Q1_2#gopatriots.lol'\n",
    "\n",
    "# with open(filename, 'r') as reader:\n",
    "#     headers = ['citation_date','tweets','retweets','followers']\n",
    "#     with open(output_filename, 'w') as writer:\n",
    "#         csv_writer = csv.writer(writer, lineterminator='\\n')\n",
    "#         csv_writer.writerow(headers)\n",
    "#         for line in reader:\n",
    "#             data = json.loads(line)\n",
    "#             response = [datetime.datetime.fromtimestamp(data['citation_date']),\n",
    "#                         data['author']['nick'],\n",
    "#                         1, # there is one tweet at a time..\n",
    "#                         data['metrics']['citations']['total'], #retweets\n",
    "#                         data['author']['followers'], #followers\n",
    "#                          ]\n",
    "#             csv_writer.writerow(response)\n",
    "\n",
    "            \n",
    "# filename = 'ECE219_tweet_data/tweets_#nfl.txt'\n",
    "# output_filename = 'Q1_2#nfl.lol'\n",
    "\n",
    "# with open(filename, 'r') as reader:\n",
    "#     headers = ['citation_date','tweets','retweets','followers']\n",
    "#     with open(output_filename, 'w') as writer:\n",
    "#         csv_writer = csv.writer(writer, lineterminator='\\n')\n",
    "#         csv_writer.writerow(headers)\n",
    "#         for line in reader:\n",
    "#             data = json.loads(line)\n",
    "#             response = [datetime.datetime.fromtimestamp(data['citation_date']),\n",
    "#                         data['author']['nick'],\n",
    "#                         1, # there is one tweet at a time..\n",
    "#                         data['metrics']['citations']['total'], #retweets\n",
    "#                         data['author']['followers'], #followers\n",
    "#                          ]\n",
    "#             csv_writer.writerow(response)\n",
    "\n",
    "            \n",
    "# filename = 'ECE219_tweet_data/tweets_#patriots.txt'\n",
    "# output_filename = 'Q1_2#patriots.lol'\n",
    "\n",
    "# with open(filename, 'r') as reader:\n",
    "#     headers = ['citation_date','tweets','retweets','followers']\n",
    "#     with open(output_filename, 'w') as writer:\n",
    "#         csv_writer = csv.writer(writer, lineterminator='\\n')\n",
    "#         csv_writer.writerow(headers)\n",
    "#         for line in reader:\n",
    "#             data = json.loads(line)\n",
    "#             response = [datetime.datetime.fromtimestamp(data['citation_date']),\n",
    "#                         data['author']['nick'],\n",
    "#                         1, # there is one tweet at a time..\n",
    "#                         data['metrics']['citations']['total'], #retweets\n",
    "#                         data['author']['followers'], #followers\n",
    "#                          ]\n",
    "#             csv_writer.writerow(response)\n",
    "      \n",
    "    \n",
    "# filename = 'ECE219_tweet_data/tweets_#sb49.txt'\n",
    "# output_filename = 'Q1_2#sb49.lol'\n",
    "\n",
    "# with open(filename, 'r') as reader:\n",
    "#     headers = ['citation_date','tweets','retweets','followers']\n",
    "#     with open(output_filename, 'w') as writer:\n",
    "#         csv_writer = csv.writer(writer, lineterminator='\\n')\n",
    "#         csv_writer.writerow(headers)\n",
    "#         for line in reader:\n",
    "#             data = json.loads(line)\n",
    "#             response = [datetime.datetime.fromtimestamp(data['citation_date']),\n",
    "#                         data['author']['nick'],\n",
    "#                         1, # there is one tweet at a time..\n",
    "#                         data['metrics']['citations']['total'], #retweets\n",
    "#                         data['author']['followers'], #followers\n",
    "#                          ]\n",
    "#             csv_writer.writerow(response)\n",
    "            \n",
    "# filename = 'ECE219_tweet_data/tweets_#superbowl.txt'\n",
    "# output_filename = 'Q1_2#superbowl.lol'\n",
    "\n",
    "# with open(filename, 'r') as reader:\n",
    "#     headers = ['citation_date','tweets','retweets','followers']\n",
    "#     with open(output_filename, 'w') as writer:\n",
    "#         csv_writer = csv.writer(writer, lineterminator='\\n')\n",
    "#         csv_writer.writerow(headers)\n",
    "#         for line in reader:\n",
    "#             data = json.loads(line)\n",
    "#             response = [datetime.datetime.fromtimestamp(data['citation_date']),\n",
    "                        \n",
    "#                         1, # there is one tweet at a time..\n",
    "#                         data['metrics']['citations']['total'], #retweets\n",
    "#                         data['author']['followers'], #followers\n",
    "#                          ]\n",
    "#             csv_writer.writerow(response)"
   ]
  },
  {
   "cell_type": "code",
   "execution_count": null,
   "metadata": {},
   "outputs": [],
   "source": []
  },
  {
   "cell_type": "code",
   "execution_count": 74,
   "metadata": {
    "collapsed": true
   },
   "outputs": [],
   "source": [
    "# QUESTION 1: Report the following statistics for each hashtag:\n",
    "# \u000f Average number of tweets per hour\n",
    "# \u000f Average number of followers of users posting the tweets per tweet (to make it simple, we\n",
    "# average over the number of tweets; if a users posted twice, we count the user and the user's\n",
    "# followers twice as well)\n",
    "# \u000f Average number of retweets per tweet"
   ]
  },
  {
   "cell_type": "code",
   "execution_count": 133,
   "metadata": {},
   "outputs": [],
   "source": [
    "gohawks = pd.read_csv('Q1_2#gohawks.lol',delimiter=',', parse_dates=['citation_date'])\n",
    "gopatriots = pd.read_csv('Q1_2#gopatriots.lol',delimiter=',', parse_dates=['citation_date'])\n",
    "nfl = pd.read_csv('Q1_2#nfl.lol',delimiter=',', parse_dates=['citation_date'])\n",
    "patriots = pd.read_csv('Q1_2#patriots.lol',delimiter=',', parse_dates=['citation_date'])\n",
    "sb49 = pd.read_csv('Q1_2#sb49.lol',delimiter=',', parse_dates=['citation_date'])\n",
    "superbowl = pd.read_csv('Q1_2#superbowl.lol',delimiter=',', parse_dates=['citation_date'])"
   ]
  },
  {
   "cell_type": "code",
   "execution_count": 134,
   "metadata": {},
   "outputs": [],
   "source": [
    "full_df = pd.concat([gohawks, gopatriots, nfl, patriots, sb49, superbowl])"
   ]
  },
  {
   "cell_type": "code",
   "execution_count": 135,
   "metadata": {},
   "outputs": [],
   "source": [
    "max = full_df.max()\n",
    "min = full_df.min()"
   ]
  },
  {
   "cell_type": "code",
   "execution_count": 152,
   "metadata": {},
   "outputs": [
    {
     "name": "stdout",
     "output_type": "stream",
     "text": [
      "Average tweets per hour: 4811.066707305299\n"
     ]
    }
   ],
   "source": [
    "avg_tweets_per_hour = full_df['tweets'].sum() / ((max['citation_date'] - min['citation_date']).total_seconds() / 60 / 60)\n",
    "print('Average tweets per hour:',avg_tweets_per_hour)"
   ]
  },
  {
   "cell_type": "code",
   "execution_count": 147,
   "metadata": {},
   "outputs": [
    {
     "name": "stdout",
     "output_type": "stream",
     "text": [
      "Average tweets per hour: 4811.066707305299\n"
     ]
    }
   ],
   "source": [
    "avg_followers_posting_tweets = full_df['retweets'].sum()"
   ]
  },
  {
   "cell_type": "code",
   "execution_count": null,
   "metadata": {
    "collapsed": true
   },
   "outputs": [],
   "source": []
  },
  {
   "cell_type": "code",
   "execution_count": 153,
   "metadata": {},
   "outputs": [
    {
     "name": "stdout",
     "output_type": "stream",
     "text": [
      "Average number of retweet per tweet: 2.2309229822313545\n"
     ]
    }
   ],
   "source": [
    "avg_retweet_per_tweet = full_df['retweets'].sum() / full_df['tweets'].sum()\n",
    "print('Average number of retweet per tweet:', avg_followers_per_tweet)"
   ]
  },
  {
   "cell_type": "code",
   "execution_count": null,
   "metadata": {},
   "outputs": [],
   "source": []
  },
  {
   "cell_type": "code",
   "execution_count": null,
   "metadata": {
    "collapsed": true
   },
   "outputs": [],
   "source": []
  },
  {
   "cell_type": "code",
   "execution_count": null,
   "metadata": {
    "collapsed": true
   },
   "outputs": [],
   "source": []
  },
  {
   "cell_type": "code",
   "execution_count": null,
   "metadata": {
    "collapsed": true
   },
   "outputs": [],
   "source": []
  },
  {
   "cell_type": "code",
   "execution_count": null,
   "metadata": {
    "collapsed": true
   },
   "outputs": [],
   "source": []
  },
  {
   "cell_type": "code",
   "execution_count": null,
   "metadata": {},
   "outputs": [],
   "source": [
    "# QUESTION 2: Plot \\number of tweets in hour\" over time for #SuperBowl and #NFL (a histogram\n",
    "# with 1-hour bins). The tweets are stored in separate \f",
    "les for different hashtags and \f",
    "les are named\n",
    "# as tweet [#hashtag].txt."
   ]
  },
  {
   "cell_type": "code",
   "execution_count": null,
   "metadata": {},
   "outputs": [],
   "source": []
  },
  {
   "cell_type": "code",
   "execution_count": null,
   "metadata": {
    "collapsed": true
   },
   "outputs": [],
   "source": []
  }
 ],
 "metadata": {
  "kernelspec": {
   "display_name": "Python 3",
   "language": "python",
   "name": "python3"
  },
  "language_info": {
   "codemirror_mode": {
    "name": "ipython",
    "version": 3
   },
   "file_extension": ".py",
   "mimetype": "text/x-python",
   "name": "python",
   "nbconvert_exporter": "python",
   "pygments_lexer": "ipython3",
   "version": "3.6.1"
  }
 },
 "nbformat": 4,
 "nbformat_minor": 2
}
