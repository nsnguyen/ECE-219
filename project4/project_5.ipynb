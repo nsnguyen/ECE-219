{
 "cells": [
  {
   "cell_type": "code",
   "execution_count": 198,
   "metadata": {
    "collapsed": true
   },
   "outputs": [],
   "source": [
    "import numpy as np\n",
    "import pandas as pd\n",
    "\n",
    "import json\n",
    "import csv\n",
    "\n",
    "import datetime\n",
    "import matplotlib.pyplot as plt"
   ]
  },
  {
   "cell_type": "code",
   "execution_count": 132,
   "metadata": {},
   "outputs": [],
   "source": [
    "filenames = ['ECE219_tweet_data/tweets_#gohawks.txt',\n",
    "            'ECE219_tweet_data/tweets_#gopatriots.txt',\n",
    "            'ECE219_tweet_data/tweets_#nfl.txt',\n",
    "            'ECE219_tweet_data/tweets_#patriots.txt',\n",
    "            'ECE219_tweet_data/tweets_#sb49.txt',\n",
    "            'ECE219_tweet_data/tweets_#superbowl.txt']\n",
    "\n",
    "output_filenames = ['Q1_2#gohawks.lol',\n",
    "                    'Q1_2#gopatriots.lol',\n",
    "                   'Q1_2#nfl.lol',\n",
    "                   'Q1_2#patriots.lol',\n",
    "                   'Q1_2#sb49.lol',\n",
    "                   'Q1_2#superbowl.lol']\n",
    "\n",
    "for i in range(len(filenames)):\n",
    "    with open(filenames[i], 'r') as reader:\n",
    "        headers = ['citation_date','author_nick_names','tweets','retweets','followers']\n",
    "        with open(output_filenames[i], 'w') as writer:\n",
    "            csv_writer = csv.writer(writer, lineterminator='\\n')\n",
    "            csv_writer.writerow(headers)\n",
    "            for line in reader:\n",
    "                data = json.loads(line)\n",
    "                response = [datetime.datetime.fromtimestamp(data['citation_date']),\n",
    "                            data['author']['nick'],\n",
    "                            1, # there is one tweet at a time..\n",
    "                            data['metrics']['citations']['total'], #retweets\n",
    "                            data['author']['followers'], #followers\n",
    "                             ]\n",
    "                csv_writer.writerow(response)\n"
   ]
  },
  {
   "cell_type": "code",
   "execution_count": 126,
   "metadata": {},
   "outputs": [
    {
     "name": "stdout",
     "output_type": "stream",
     "text": [
      "{'author_img': 'http://pbs.twimg.com/profile_images/561716455155064833/XGrpP4Rl_normal.jpeg', 'name': 'RJ', 'url': 'http://twitter.com/rejinseattle', 'nick': 'rejinseattle', 'followers': 1752.0, 'image_url': 'http://pbs.twimg.com/profile_images/561716455155064833/XGrpP4Rl_normal.jpeg', 'type': 'twitter', 'description': 'Married to my best friend... You-make me laugh and occasionally think... I-will let you in on some of the crazy shit that consumes my thoughts...'}\n"
     ]
    }
   ],
   "source": [
    "# # this is where we will only use what we need.\n",
    "\n",
    "# filename = 'ECE219_tweet_data/tweets_#gohawks.txt'\n",
    "# output_filename = 'Q1_2#gohawks.lol'\n",
    "\n",
    "# with open(filename, 'r') as reader:\n",
    "#     headers = ['citation_date','author_nick_names''tweets','retweets','followers']\n",
    "#     with open(output_filename, 'w') as writer:\n",
    "#         csv_writer = csv.writer(writer, lineterminator='\\n')\n",
    "#         csv_writer.writerow(headers)\n",
    "#         for line in reader:\n",
    "#             data = json.loads(line)\n",
    "#             response = [datetime.datetime.fromtimestamp(data['citation_date']),\n",
    "#                         data['author']['nick'],\n",
    "#                         1, # there is one tweet at a time..\n",
    "#                         data['metrics']['citations']['total'], #retweets\n",
    "#                         data['author']['followers'], #followers\n",
    "#                          ]\n",
    "#             csv_writer.writerow(response)\n",
    "            \n",
    "# filename = 'ECE219_tweet_data/tweets_#gopatriots.txt'\n",
    "# output_filename = 'Q1_2#gopatriots.lol'\n",
    "\n",
    "# with open(filename, 'r') as reader:\n",
    "#     headers = ['citation_date','tweets','retweets','followers']\n",
    "#     with open(output_filename, 'w') as writer:\n",
    "#         csv_writer = csv.writer(writer, lineterminator='\\n')\n",
    "#         csv_writer.writerow(headers)\n",
    "#         for line in reader:\n",
    "#             data = json.loads(line)\n",
    "#             response = [datetime.datetime.fromtimestamp(data['citation_date']),\n",
    "#                         data['author']['nick'],\n",
    "#                         1, # there is one tweet at a time..\n",
    "#                         data['metrics']['citations']['total'], #retweets\n",
    "#                         data['author']['followers'], #followers\n",
    "#                          ]\n",
    "#             csv_writer.writerow(response)\n",
    "\n",
    "            \n",
    "# filename = 'ECE219_tweet_data/tweets_#nfl.txt'\n",
    "# output_filename = 'Q1_2#nfl.lol'\n",
    "\n",
    "# with open(filename, 'r') as reader:\n",
    "#     headers = ['citation_date','tweets','retweets','followers']\n",
    "#     with open(output_filename, 'w') as writer:\n",
    "#         csv_writer = csv.writer(writer, lineterminator='\\n')\n",
    "#         csv_writer.writerow(headers)\n",
    "#         for line in reader:\n",
    "#             data = json.loads(line)\n",
    "#             response = [datetime.datetime.fromtimestamp(data['citation_date']),\n",
    "#                         data['author']['nick'],\n",
    "#                         1, # there is one tweet at a time..\n",
    "#                         data['metrics']['citations']['total'], #retweets\n",
    "#                         data['author']['followers'], #followers\n",
    "#                          ]\n",
    "#             csv_writer.writerow(response)\n",
    "\n",
    "            \n",
    "# filename = 'ECE219_tweet_data/tweets_#patriots.txt'\n",
    "# output_filename = 'Q1_2#patriots.lol'\n",
    "\n",
    "# with open(filename, 'r') as reader:\n",
    "#     headers = ['citation_date','tweets','retweets','followers']\n",
    "#     with open(output_filename, 'w') as writer:\n",
    "#         csv_writer = csv.writer(writer, lineterminator='\\n')\n",
    "#         csv_writer.writerow(headers)\n",
    "#         for line in reader:\n",
    "#             data = json.loads(line)\n",
    "#             response = [datetime.datetime.fromtimestamp(data['citation_date']),\n",
    "#                         data['author']['nick'],\n",
    "#                         1, # there is one tweet at a time..\n",
    "#                         data['metrics']['citations']['total'], #retweets\n",
    "#                         data['author']['followers'], #followers\n",
    "#                          ]\n",
    "#             csv_writer.writerow(response)\n",
    "      \n",
    "    \n",
    "# filename = 'ECE219_tweet_data/tweets_#sb49.txt'\n",
    "# output_filename = 'Q1_2#sb49.lol'\n",
    "\n",
    "# with open(filename, 'r') as reader:\n",
    "#     headers = ['citation_date','tweets','retweets','followers']\n",
    "#     with open(output_filename, 'w') as writer:\n",
    "#         csv_writer = csv.writer(writer, lineterminator='\\n')\n",
    "#         csv_writer.writerow(headers)\n",
    "#         for line in reader:\n",
    "#             data = json.loads(line)\n",
    "#             response = [datetime.datetime.fromtimestamp(data['citation_date']),\n",
    "#                         data['author']['nick'],\n",
    "#                         1, # there is one tweet at a time..\n",
    "#                         data['metrics']['citations']['total'], #retweets\n",
    "#                         data['author']['followers'], #followers\n",
    "#                          ]\n",
    "#             csv_writer.writerow(response)\n",
    "            \n",
    "# filename = 'ECE219_tweet_data/tweets_#superbowl.txt'\n",
    "# output_filename = 'Q1_2#superbowl.lol'\n",
    "\n",
    "# with open(filename, 'r') as reader:\n",
    "#     headers = ['citation_date','tweets','retweets','followers']\n",
    "#     with open(output_filename, 'w') as writer:\n",
    "#         csv_writer = csv.writer(writer, lineterminator='\\n')\n",
    "#         csv_writer.writerow(headers)\n",
    "#         for line in reader:\n",
    "#             data = json.loads(line)\n",
    "#             response = [datetime.datetime.fromtimestamp(data['citation_date']),\n",
    "                        \n",
    "#                         1, # there is one tweet at a time..\n",
    "#                         data['metrics']['citations']['total'], #retweets\n",
    "#                         data['author']['followers'], #followers\n",
    "#                          ]\n",
    "#             csv_writer.writerow(response)"
   ]
  },
  {
   "cell_type": "code",
   "execution_count": null,
   "metadata": {},
   "outputs": [],
   "source": []
  },
  {
   "cell_type": "code",
   "execution_count": 74,
   "metadata": {
    "collapsed": true
   },
   "outputs": [],
   "source": [
    "# QUESTION 1: Report the following statistics for each hashtag:\n",
    "# \u000f Average number of tweets per hour\n",
    "# \u000f Average number of followers of users posting the tweets per tweet (to make it simple, we\n",
    "# average over the number of tweets; if a users posted twice, we count the user and the user's\n",
    "# followers twice as well)\n",
    "# \u000f Average number of retweets per tweet"
   ]
  },
  {
   "cell_type": "code",
   "execution_count": 133,
   "metadata": {},
   "outputs": [],
   "source": [
    "gohawks = pd.read_csv('Q1_2#gohawks.lol',delimiter=',', parse_dates=['citation_date'])\n",
    "gopatriots = pd.read_csv('Q1_2#gopatriots.lol',delimiter=',', parse_dates=['citation_date'])\n",
    "nfl = pd.read_csv('Q1_2#nfl.lol',delimiter=',', parse_dates=['citation_date'])\n",
    "patriots = pd.read_csv('Q1_2#patriots.lol',delimiter=',', parse_dates=['citation_date'])\n",
    "sb49 = pd.read_csv('Q1_2#sb49.lol',delimiter=',', parse_dates=['citation_date'])\n",
    "superbowl = pd.read_csv('Q1_2#superbowl.lol',delimiter=',', parse_dates=['citation_date'])"
   ]
  },
  {
   "cell_type": "code",
   "execution_count": 134,
   "metadata": {},
   "outputs": [],
   "source": [
    "full_df = pd.concat([gohawks, gopatriots, nfl, patriots, sb49, superbowl])"
   ]
  },
  {
   "cell_type": "code",
   "execution_count": 157,
   "metadata": {
    "collapsed": true
   },
   "outputs": [],
   "source": [
    "def get_basic_statistics(dataframe):\n",
    "    max = dataframe.max()\n",
    "    min = dataframe.min()\n",
    "    avg_tweets_per_hour = dataframe['tweets'].sum() / ((max['citation_date'] - min['citation_date']).total_seconds() / 60 / 60)\n",
    "    print('Average tweets per hour:',avg_tweets_per_hour)\n",
    "    \n",
    "    avg_followers_posting_tweets = dataframe['followers'].sum() / dataframe['tweets'].sum()\n",
    "    print('Average number of users posting tweets per tweet:', avg_followers_posting_tweets)\n",
    "    \n",
    "    avg_retweet_per_tweet = dataframe['retweets'].sum() / dataframe['tweets'].sum()\n",
    "    print('Average number of retweet per tweet:', avg_followers_per_tweet)"
   ]
  },
  {
   "cell_type": "code",
   "execution_count": 162,
   "metadata": {},
   "outputs": [
    {
     "name": "stdout",
     "output_type": "stream",
     "text": [
      "GoHawks\n",
      "Average tweets per hour: 292.4878506217368\n",
      "Average number of users posting tweets per tweet: 2217.9237355281984\n",
      "Average number of retweet per tweet: 2.2309229822313545\n"
     ]
    }
   ],
   "source": [
    "# go hawks\n",
    "print('GoHawks')\n",
    "get_basic_statistics(gohawks)"
   ]
  },
  {
   "cell_type": "code",
   "execution_count": 161,
   "metadata": {},
   "outputs": [
    {
     "name": "stdout",
     "output_type": "stream",
     "text": [
      "GoPatriots\n",
      "Average tweets per hour: 40.95469800606194\n",
      "Average number of users posting tweets per tweet: 1427.2526051635405\n",
      "Average number of retweet per tweet: 2.2309229822313545\n"
     ]
    }
   ],
   "source": [
    "#go patriots\n",
    "print('GoPatriots')\n",
    "get_basic_statistics(gopatriots)"
   ]
  },
  {
   "cell_type": "code",
   "execution_count": 163,
   "metadata": {},
   "outputs": [
    {
     "name": "stdout",
     "output_type": "stream",
     "text": [
      "NFL\n",
      "Average tweets per hour: 397.0213901819841\n",
      "Average number of users posting tweets per tweet: 4662.37544523693\n",
      "Average number of retweet per tweet: 2.2309229822313545\n"
     ]
    }
   ],
   "source": [
    "print('NFL')\n",
    "get_basic_statistics(nfl)"
   ]
  },
  {
   "cell_type": "code",
   "execution_count": 164,
   "metadata": {},
   "outputs": [
    {
     "name": "stdout",
     "output_type": "stream",
     "text": [
      "Patriots\n",
      "Average tweets per hour: 750.89426460689\n",
      "Average number of users posting tweets per tweet: 3280.4635616550277\n",
      "Average number of retweet per tweet: 2.2309229822313545\n"
     ]
    }
   ],
   "source": [
    "print('Patriots')\n",
    "get_basic_statistics(patriots)"
   ]
  },
  {
   "cell_type": "code",
   "execution_count": 165,
   "metadata": {},
   "outputs": [
    {
     "name": "stdout",
     "output_type": "stream",
     "text": [
      "Sb49\n",
      "Average tweets per hour: 1276.857059868047\n",
      "Average number of users posting tweets per tweet: 10374.160292019487\n",
      "Average number of retweet per tweet: 2.2309229822313545\n"
     ]
    }
   ],
   "source": [
    "print('Sb49')\n",
    "get_basic_statistics(sb49)"
   ]
  },
  {
   "cell_type": "code",
   "execution_count": 166,
   "metadata": {},
   "outputs": [
    {
     "name": "stdout",
     "output_type": "stream",
     "text": [
      "Superbowl\n",
      "Average tweets per hour: 2072.1184017040796\n",
      "Average number of users posting tweets per tweet: 8814.96799424623\n",
      "Average number of retweet per tweet: 2.2309229822313545\n"
     ]
    }
   ],
   "source": [
    "print('Superbowl')\n",
    "get_basic_statistics(superbowl)"
   ]
  },
  {
   "cell_type": "code",
   "execution_count": null,
   "metadata": {
    "collapsed": true
   },
   "outputs": [],
   "source": []
  },
  {
   "cell_type": "code",
   "execution_count": null,
   "metadata": {},
   "outputs": [],
   "source": [
    "# QUESTION 2: Plot \"number of tweets in hour\" over time for #SuperBowl and #NFL (a histogram\n",
    "# with 1-hour bins). The tweets are stored in separate files for different hashtags and files are named\n",
    "# as tweet [#hashtag].txt."
   ]
  },
  {
   "cell_type": "code",
   "execution_count": 201,
   "metadata": {
    "collapsed": true
   },
   "outputs": [],
   "source": [
    "max = nfl.max()\n",
    "min = nfl.min()"
   ]
  },
  {
   "cell_type": "code",
   "execution_count": 210,
   "metadata": {},
   "outputs": [],
   "source": [
    "nfl['time_hour'] = nfl.citation_date.apply(lambda x: round((x - min['citation_date']).total_seconds()/60/60))"
   ]
  },
  {
   "cell_type": "code",
   "execution_count": 211,
   "metadata": {},
   "outputs": [],
   "source": [
    "superbowl['time_hour'] = superbowl.citation_date.apply(lambda x: round((x - min['citation_date']).total_seconds()/60/60))"
   ]
  },
  {
   "cell_type": "code",
   "execution_count": 212,
   "metadata": {},
   "outputs": [
    {
     "data": {
      "text/html": [
       "<div>\n",
       "<style>\n",
       "    .dataframe thead tr:only-child th {\n",
       "        text-align: right;\n",
       "    }\n",
       "\n",
       "    .dataframe thead th {\n",
       "        text-align: left;\n",
       "    }\n",
       "\n",
       "    .dataframe tbody tr th {\n",
       "        vertical-align: top;\n",
       "    }\n",
       "</style>\n",
       "<table border=\"1\" class=\"dataframe\">\n",
       "  <thead>\n",
       "    <tr style=\"text-align: right;\">\n",
       "      <th></th>\n",
       "      <th>citation_date</th>\n",
       "      <th>author_nick_names</th>\n",
       "      <th>tweets</th>\n",
       "      <th>retweets</th>\n",
       "      <th>followers</th>\n",
       "      <th>time_hour</th>\n",
       "    </tr>\n",
       "  </thead>\n",
       "  <tbody>\n",
       "    <tr>\n",
       "      <th>0</th>\n",
       "      <td>2015-01-17 09:59:06</td>\n",
       "      <td>ibrake4flowers</td>\n",
       "      <td>1</td>\n",
       "      <td>4</td>\n",
       "      <td>41.0</td>\n",
       "      <td>82</td>\n",
       "    </tr>\n",
       "    <tr>\n",
       "      <th>1</th>\n",
       "      <td>2015-01-14 10:08:26</td>\n",
       "      <td>tmswithmro</td>\n",
       "      <td>1</td>\n",
       "      <td>2</td>\n",
       "      <td>361.0</td>\n",
       "      <td>10</td>\n",
       "    </tr>\n",
       "    <tr>\n",
       "      <th>2</th>\n",
       "      <td>2015-01-17 10:17:43</td>\n",
       "      <td>rainbowkirk</td>\n",
       "      <td>1</td>\n",
       "      <td>2</td>\n",
       "      <td>6.0</td>\n",
       "      <td>82</td>\n",
       "    </tr>\n",
       "    <tr>\n",
       "      <th>3</th>\n",
       "      <td>2015-01-15 19:58:05</td>\n",
       "      <td>gary4freedom</td>\n",
       "      <td>1</td>\n",
       "      <td>2</td>\n",
       "      <td>1364.0</td>\n",
       "      <td>44</td>\n",
       "    </tr>\n",
       "    <tr>\n",
       "      <th>4</th>\n",
       "      <td>2015-01-14 09:44:31</td>\n",
       "      <td>eddieedmundo</td>\n",
       "      <td>1</td>\n",
       "      <td>14</td>\n",
       "      <td>580.0</td>\n",
       "      <td>10</td>\n",
       "    </tr>\n",
       "  </tbody>\n",
       "</table>\n",
       "</div>"
      ],
      "text/plain": [
       "        citation_date author_nick_names  tweets  retweets  followers  \\\n",
       "0 2015-01-17 09:59:06    ibrake4flowers       1         4       41.0   \n",
       "1 2015-01-14 10:08:26        tmswithmro       1         2      361.0   \n",
       "2 2015-01-17 10:17:43       rainbowkirk       1         2        6.0   \n",
       "3 2015-01-15 19:58:05      gary4freedom       1         2     1364.0   \n",
       "4 2015-01-14 09:44:31      eddieedmundo       1        14      580.0   \n",
       "\n",
       "   time_hour  \n",
       "0         82  \n",
       "1         10  \n",
       "2         82  \n",
       "3         44  \n",
       "4         10  "
      ]
     },
     "execution_count": 212,
     "metadata": {},
     "output_type": "execute_result"
    }
   ],
   "source": [
    "nfl.head()"
   ]
  },
  {
   "cell_type": "code",
   "execution_count": 213,
   "metadata": {},
   "outputs": [
    {
     "data": {
      "text/html": [
       "<div>\n",
       "<style>\n",
       "    .dataframe thead tr:only-child th {\n",
       "        text-align: right;\n",
       "    }\n",
       "\n",
       "    .dataframe thead th {\n",
       "        text-align: left;\n",
       "    }\n",
       "\n",
       "    .dataframe tbody tr th {\n",
       "        vertical-align: top;\n",
       "    }\n",
       "</style>\n",
       "<table border=\"1\" class=\"dataframe\">\n",
       "  <thead>\n",
       "    <tr style=\"text-align: right;\">\n",
       "      <th></th>\n",
       "      <th>citation_date</th>\n",
       "      <th>author_nick_names</th>\n",
       "      <th>tweets</th>\n",
       "      <th>retweets</th>\n",
       "      <th>followers</th>\n",
       "      <th>time_hour</th>\n",
       "    </tr>\n",
       "  </thead>\n",
       "  <tbody>\n",
       "    <tr>\n",
       "      <th>0</th>\n",
       "      <td>2015-01-16 20:21:37</td>\n",
       "      <td>beccadelgado67</td>\n",
       "      <td>1</td>\n",
       "      <td>2</td>\n",
       "      <td>22.0</td>\n",
       "      <td>68</td>\n",
       "    </tr>\n",
       "    <tr>\n",
       "      <th>1</th>\n",
       "      <td>2015-01-16 20:06:19</td>\n",
       "      <td>beccadelgado67</td>\n",
       "      <td>1</td>\n",
       "      <td>15</td>\n",
       "      <td>22.0</td>\n",
       "      <td>68</td>\n",
       "    </tr>\n",
       "    <tr>\n",
       "      <th>2</th>\n",
       "      <td>2015-01-14 12:22:37</td>\n",
       "      <td>waltskelliepic</td>\n",
       "      <td>1</td>\n",
       "      <td>2</td>\n",
       "      <td>858.0</td>\n",
       "      <td>12</td>\n",
       "    </tr>\n",
       "    <tr>\n",
       "      <th>3</th>\n",
       "      <td>2015-01-14 10:48:18</td>\n",
       "      <td>eventmarketer</td>\n",
       "      <td>1</td>\n",
       "      <td>2</td>\n",
       "      <td>14335.0</td>\n",
       "      <td>11</td>\n",
       "    </tr>\n",
       "    <tr>\n",
       "      <th>4</th>\n",
       "      <td>2015-01-15 02:00:31</td>\n",
       "      <td>cqr111</td>\n",
       "      <td>1</td>\n",
       "      <td>7</td>\n",
       "      <td>1143.0</td>\n",
       "      <td>26</td>\n",
       "    </tr>\n",
       "  </tbody>\n",
       "</table>\n",
       "</div>"
      ],
      "text/plain": [
       "        citation_date author_nick_names  tweets  retweets  followers  \\\n",
       "0 2015-01-16 20:21:37    beccadelgado67       1         2       22.0   \n",
       "1 2015-01-16 20:06:19    beccadelgado67       1        15       22.0   \n",
       "2 2015-01-14 12:22:37    waltskelliepic       1         2      858.0   \n",
       "3 2015-01-14 10:48:18     eventmarketer       1         2    14335.0   \n",
       "4 2015-01-15 02:00:31            cqr111       1         7     1143.0   \n",
       "\n",
       "   time_hour  \n",
       "0         68  \n",
       "1         68  \n",
       "2         12  \n",
       "3         11  \n",
       "4         26  "
      ]
     },
     "execution_count": 213,
     "metadata": {},
     "output_type": "execute_result"
    }
   ],
   "source": [
    "superbowl.head()"
   ]
  },
  {
   "cell_type": "code",
   "execution_count": 231,
   "metadata": {},
   "outputs": [],
   "source": [
    "nfl_time_hour = nfl.groupby('time_hour').sum()"
   ]
  },
  {
   "cell_type": "code",
   "execution_count": 278,
   "metadata": {},
   "outputs": [],
   "source": [
    "time_hours = list(nfl_time_hour.index)\n",
    "y = list(nfl_time_hour.tweets)"
   ]
  },
  {
   "cell_type": "code",
   "execution_count": null,
   "metadata": {},
   "outputs": [],
   "source": []
  },
  {
   "cell_type": "code",
   "execution_count": 286,
   "metadata": {
    "scrolled": true
   },
   "outputs": [
    {
     "data": {
      "image/png": "[encoded data removed]",
      "text/plain": [
       "<matplotlib.figure.Figure at 0x11f8a5080>"
      ]
     },
     "metadata": {},
     "output_type": "display_data"
    }
   ],
   "source": [
    "plt.bar(time_hours,y)\n",
    "plt.xlabel('Hours')\n",
    "plt.ylabel('Tweets')\n",
    "plt.show()"
   ]
  },
  {
   "cell_type": "code",
   "execution_count": null,
   "metadata": {
    "collapsed": true
   },
   "outputs": [],
   "source": []
  },
  {
   "cell_type": "code",
   "execution_count": null,
   "metadata": {
    "collapsed": true
   },
   "outputs": [],
   "source": []
  }
 ],
 "metadata": {
  "kernelspec": {
   "display_name": "Python 3",
   "language": "python",
   "name": "python3"
  },
  "language_info": {
   "codemirror_mode": {
    "name": "ipython",
    "version": 3
   },
   "file_extension": ".py",
   "mimetype": "text/x-python",
   "name": "python",
   "nbconvert_exporter": "python",
   "pygments_lexer": "ipython3",
   "version": "3.6.1"
  }
 },
 "nbformat": 4,
 "nbformat_minor": 2
}
