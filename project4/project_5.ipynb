{
 "cells": [
  {
   "cell_type": "code",
   "execution_count": 1,
   "metadata": {},
   "outputs": [],
   "source": [
    "import numpy as np\n",
    "import pandas as pd\n",
    "\n",
    "import json\n",
    "import csv\n",
    "\n",
    "import datetime\n",
    "import matplotlib.pyplot as plt\n",
    "import statsmodels.api as sm\n",
    "import pytz"
   ]
  },
  {
   "cell_type": "code",
   "execution_count": 2,
   "metadata": {},
   "outputs": [],
   "source": [
    "filenames = ['ECE219_tweet_data/tweets_#gohawks.txt',\n",
    "            'ECE219_tweet_data/tweets_#gopatriots.txt',\n",
    "            'ECE219_tweet_data/tweets_#nfl.txt',\n",
    "            'ECE219_tweet_data/tweets_#patriots.txt',\n",
    "            'ECE219_tweet_data/tweets_#sb49.txt',\n",
    "            'ECE219_tweet_data/tweets_#superbowl.txt']\n",
    "\n",
    "output_filenames = ['Q1_2#gohawks.lol',\n",
    "                    'Q1_2#gopatriots.lol',\n",
    "                   'Q1_2#nfl.lol',\n",
    "                   'Q1_2#patriots.lol',\n",
    "                   'Q1_2#sb49.lol',\n",
    "                   'Q1_2#superbowl.lol']\n",
    "\n",
    "for i in range(len(filenames)):\n",
    "    with open(filenames[i], 'r') as reader:\n",
    "        headers = ['citation_date','author_nick_names','tweets','retweets','followers']\n",
    "        with open(output_filenames[i], 'w') as writer:\n",
    "            csv_writer = csv.writer(writer, lineterminator='\\n')\n",
    "            csv_writer.writerow(headers)\n",
    "            for line in reader:\n",
    "                data = json.loads(line)\n",
    "                response = [datetime.datetime.fromtimestamp(data['citation_date']),\n",
    "                            data['author']['nick'],\n",
    "                            1, # there is one tweet at a time..\n",
    "                            data['metrics']['citations']['total'], #retweets\n",
    "                            data['author']['followers'], #followers\n",
    "                             ]\n",
    "                csv_writer.writerow(response)\n"
   ]
  },
  {
   "cell_type": "code",
   "execution_count": 3,
   "metadata": {},
   "outputs": [],
   "source": [
    "# # this is where we will only use what we need.\n",
    "\n",
    "# filename = 'ECE219_tweet_data/tweets_#gohawks.txt'\n",
    "# output_filename = 'Q1_2#gohawks.lol'\n",
    "\n",
    "# with open(filename, 'r') as reader:\n",
    "#     headers = ['citation_date','author_nick_names''tweets','retweets','followers']\n",
    "#     with open(output_filename, 'w') as writer:\n",
    "#         csv_writer = csv.writer(writer, lineterminator='\\n')\n",
    "#         csv_writer.writerow(headers)\n",
    "#         for line in reader:\n",
    "#             data = json.loads(line)\n",
    "#             response = [datetime.datetime.fromtimestamp(data['citation_date']),\n",
    "#                         data['author']['nick'],\n",
    "#                         1, # there is one tweet at a time..\n",
    "#                         data['metrics']['citations']['total'], #retweets\n",
    "#                         data['author']['followers'], #followers\n",
    "#                          ]\n",
    "#             csv_writer.writerow(response)\n",
    "            \n",
    "# filename = 'ECE219_tweet_data/tweets_#gopatriots.txt'\n",
    "# output_filename = 'Q1_2#gopatriots.lol'\n",
    "\n",
    "# with open(filename, 'r') as reader:\n",
    "#     headers = ['citation_date','tweets','retweets','followers']\n",
    "#     with open(output_filename, 'w') as writer:\n",
    "#         csv_writer = csv.writer(writer, lineterminator='\\n')\n",
    "#         csv_writer.writerow(headers)\n",
    "#         for line in reader:\n",
    "#             data = json.loads(line)\n",
    "#             response = [datetime.datetime.fromtimestamp(data['citation_date']),\n",
    "#                         data['author']['nick'],\n",
    "#                         1, # there is one tweet at a time..\n",
    "#                         data['metrics']['citations']['total'], #retweets\n",
    "#                         data['author']['followers'], #followers\n",
    "#                          ]\n",
    "#             csv_writer.writerow(response)\n",
    "\n",
    "            \n",
    "# filename = 'ECE219_tweet_data/tweets_#nfl.txt'\n",
    "# output_filename = 'Q1_2#nfl.lol'\n",
    "\n",
    "# with open(filename, 'r') as reader:\n",
    "#     headers = ['citation_date','tweets','retweets','followers']\n",
    "#     with open(output_filename, 'w') as writer:\n",
    "#         csv_writer = csv.writer(writer, lineterminator='\\n')\n",
    "#         csv_writer.writerow(headers)\n",
    "#         for line in reader:\n",
    "#             data = json.loads(line)\n",
    "#             response = [datetime.datetime.fromtimestamp(data['citation_date']),\n",
    "#                         data['author']['nick'],\n",
    "#                         1, # there is one tweet at a time..\n",
    "#                         data['metrics']['citations']['total'], #retweets\n",
    "#                         data['author']['followers'], #followers\n",
    "#                          ]\n",
    "#             csv_writer.writerow(response)\n",
    "\n",
    "            \n",
    "# filename = 'ECE219_tweet_data/tweets_#patriots.txt'\n",
    "# output_filename = 'Q1_2#patriots.lol'\n",
    "\n",
    "# with open(filename, 'r') as reader:\n",
    "#     headers = ['citation_date','tweets','retweets','followers']\n",
    "#     with open(output_filename, 'w') as writer:\n",
    "#         csv_writer = csv.writer(writer, lineterminator='\\n')\n",
    "#         csv_writer.writerow(headers)\n",
    "#         for line in reader:\n",
    "#             data = json.loads(line)\n",
    "#             response = [datetime.datetime.fromtimestamp(data['citation_date']),\n",
    "#                         data['author']['nick'],\n",
    "#                         1, # there is one tweet at a time..\n",
    "#                         data['metrics']['citations']['total'], #retweets\n",
    "#                         data['author']['followers'], #followers\n",
    "#                          ]\n",
    "#             csv_writer.writerow(response)\n",
    "      \n",
    "    \n",
    "# filename = 'ECE219_tweet_data/tweets_#sb49.txt'\n",
    "# output_filename = 'Q1_2#sb49.lol'\n",
    "\n",
    "# with open(filename, 'r') as reader:\n",
    "#     headers = ['citation_date','tweets','retweets','followers']\n",
    "#     with open(output_filename, 'w') as writer:\n",
    "#         csv_writer = csv.writer(writer, lineterminator='\\n')\n",
    "#         csv_writer.writerow(headers)\n",
    "#         for line in reader:\n",
    "#             data = json.loads(line)\n",
    "#             response = [datetime.datetime.fromtimestamp(data['citation_date']),\n",
    "#                         data['author']['nick'],\n",
    "#                         1, # there is one tweet at a time..\n",
    "#                         data['metrics']['citations']['total'], #retweets\n",
    "#                         data['author']['followers'], #followers\n",
    "#                          ]\n",
    "#             csv_writer.writerow(response)\n",
    "            \n",
    "# filename = 'ECE219_tweet_data/tweets_#superbowl.txt'\n",
    "# output_filename = 'Q1_2#superbowl.lol'\n",
    "\n",
    "# with open(filename, 'r') as reader:\n",
    "#     headers = ['citation_date','tweets','retweets','followers']\n",
    "#     with open(output_filename, 'w') as writer:\n",
    "#         csv_writer = csv.writer(writer, lineterminator='\\n')\n",
    "#         csv_writer.writerow(headers)\n",
    "#         for line in reader:\n",
    "#             data = json.loads(line)\n",
    "#             response = [datetime.datetime.fromtimestamp(data['citation_date']),\n",
    "                        \n",
    "#                         1, # there is one tweet at a time..\n",
    "#                         data['metrics']['citations']['total'], #retweets\n",
    "#                         data['author']['followers'], #followers\n",
    "#                          ]\n",
    "#             csv_writer.writerow(response)"
   ]
  },
  {
   "cell_type": "code",
   "execution_count": null,
   "metadata": {},
   "outputs": [],
   "source": []
  },
  {
   "cell_type": "code",
   "execution_count": 4,
   "metadata": {},
   "outputs": [],
   "source": [
    "# QUESTION 1: Report the following statistics for each hashtag:\n",
    "# \u000f Average number of tweets per hour\n",
    "# \u000f Average number of followers of users posting the tweets per tweet (to make it simple, we\n",
    "# average over the number of tweets; if a users posted twice, we count the user and the user's\n",
    "# followers twice as well)\n",
    "# \u000f Average number of retweets per tweet"
   ]
  },
  {
   "cell_type": "code",
   "execution_count": 5,
   "metadata": {},
   "outputs": [],
   "source": [
    "gohawks = pd.read_csv('Q1_2#gohawks.lol',delimiter=',', parse_dates=['citation_date'])\n",
    "gopatriots = pd.read_csv('Q1_2#gopatriots.lol',delimiter=',', parse_dates=['citation_date'])\n",
    "nfl = pd.read_csv('Q1_2#nfl.lol',delimiter=',', parse_dates=['citation_date'])\n",
    "patriots = pd.read_csv('Q1_2#patriots.lol',delimiter=',', parse_dates=['citation_date'])\n",
    "sb49 = pd.read_csv('Q1_2#sb49.lol',delimiter=',', parse_dates=['citation_date'])\n",
    "superbowl = pd.read_csv('Q1_2#superbowl.lol',delimiter=',', parse_dates=['citation_date'])"
   ]
  },
  {
   "cell_type": "code",
   "execution_count": 6,
   "metadata": {},
   "outputs": [],
   "source": [
    "full_df = pd.concat([gohawks, gopatriots, nfl, patriots, sb49, superbowl])"
   ]
  },
  {
   "cell_type": "code",
   "execution_count": 7,
   "metadata": {},
   "outputs": [],
   "source": [
    "def get_basic_statistics(dataframe):\n",
    "    max = dataframe.max()\n",
    "    min = dataframe.min()\n",
    "    avg_tweets_per_hour = dataframe['tweets'].sum() / ((max['citation_date'] - min['citation_date']).total_seconds() / 60 / 60)\n",
    "    print('Average tweets per hour:',avg_tweets_per_hour)\n",
    "    \n",
    "    avg_followers_posting_tweets = dataframe['followers'].sum() / dataframe['tweets'].sum()\n",
    "    print('Average number of users posting tweets per tweet:', avg_followers_posting_tweets)\n",
    "    \n",
    "    avg_retweet_per_tweet = dataframe['retweets'].sum() / dataframe['tweets'].sum()\n",
    "    print('Average number of retweet per tweet:', avg_retweet_per_tweet)"
   ]
  },
  {
   "cell_type": "code",
   "execution_count": 8,
   "metadata": {},
   "outputs": [
    {
     "name": "stdout",
     "output_type": "stream",
     "text": [
      "GoHawks\n",
      "Average tweets per hour: 292.4878506217368\n",
      "Average number of users posting tweets per tweet: 2217.9237355281984\n",
      "Average number of retweet per tweet: 2.0132093991319877\n"
     ]
    }
   ],
   "source": [
    "# go hawks\n",
    "print('GoHawks')\n",
    "get_basic_statistics(gohawks)"
   ]
  },
  {
   "cell_type": "code",
   "execution_count": 9,
   "metadata": {},
   "outputs": [
    {
     "name": "stdout",
     "output_type": "stream",
     "text": [
      "GoPatriots\n",
      "Average tweets per hour: 40.95469800606194\n",
      "Average number of users posting tweets per tweet: 1427.2526051635405\n",
      "Average number of retweet per tweet: 1.4081919101697078\n"
     ]
    }
   ],
   "source": [
    "#go patriots\n",
    "print('GoPatriots')\n",
    "get_basic_statistics(gopatriots)"
   ]
  },
  {
   "cell_type": "code",
   "execution_count": 10,
   "metadata": {},
   "outputs": [
    {
     "name": "stdout",
     "output_type": "stream",
     "text": [
      "NFL\n",
      "Average tweets per hour: 397.0213901819841\n",
      "Average number of users posting tweets per tweet: 4662.37544523693\n",
      "Average number of retweet per tweet: 1.5344602655543254\n"
     ]
    }
   ],
   "source": [
    "print('NFL')\n",
    "get_basic_statistics(nfl)"
   ]
  },
  {
   "cell_type": "code",
   "execution_count": 11,
   "metadata": {},
   "outputs": [
    {
     "name": "stdout",
     "output_type": "stream",
     "text": [
      "Patriots\n",
      "Average tweets per hour: 750.89426460689\n",
      "Average number of users posting tweets per tweet: 3280.4635616550277\n",
      "Average number of retweet per tweet: 1.7852871288476946\n"
     ]
    }
   ],
   "source": [
    "print('Patriots')\n",
    "get_basic_statistics(patriots)"
   ]
  },
  {
   "cell_type": "code",
   "execution_count": 12,
   "metadata": {},
   "outputs": [
    {
     "name": "stdout",
     "output_type": "stream",
     "text": [
      "Sb49\n",
      "Average tweets per hour: 1276.857059868047\n",
      "Average number of users posting tweets per tweet: 10374.160292019487\n",
      "Average number of retweet per tweet: 2.52713444111402\n"
     ]
    }
   ],
   "source": [
    "print('Sb49')\n",
    "get_basic_statistics(sb49)"
   ]
  },
  {
   "cell_type": "code",
   "execution_count": 13,
   "metadata": {},
   "outputs": [
    {
     "name": "stdout",
     "output_type": "stream",
     "text": [
      "Superbowl\n",
      "Average tweets per hour: 2072.1184017040796\n",
      "Average number of users posting tweets per tweet: 8814.96799424623\n",
      "Average number of retweet per tweet: 2.3911895819207736\n"
     ]
    }
   ],
   "source": [
    "print('Superbowl')\n",
    "get_basic_statistics(superbowl)"
   ]
  },
  {
   "cell_type": "code",
   "execution_count": null,
   "metadata": {},
   "outputs": [],
   "source": []
  },
  {
   "cell_type": "code",
   "execution_count": 14,
   "metadata": {},
   "outputs": [],
   "source": [
    "# QUESTION 2: Plot \"number of tweets in hour\" over time for #SuperBowl and #NFL (a histogram\n",
    "# with 1-hour bins). The tweets are stored in separate files for different hashtags and files are named\n",
    "# as tweet [#hashtag].txt."
   ]
  },
  {
   "cell_type": "code",
   "execution_count": 15,
   "metadata": {},
   "outputs": [],
   "source": [
    "max = nfl.max()\n",
    "min = nfl.min()"
   ]
  },
  {
   "cell_type": "code",
   "execution_count": 16,
   "metadata": {},
   "outputs": [],
   "source": [
    "nfl['time_hour'] = nfl.citation_date.apply(lambda x: round((x - min['citation_date']).total_seconds()/60/60))"
   ]
  },
  {
   "cell_type": "code",
   "execution_count": 17,
   "metadata": {},
   "outputs": [],
   "source": [
    "superbowl['time_hour'] = superbowl.citation_date.apply(lambda x: round((x - min['citation_date']).total_seconds()/60/60))"
   ]
  },
  {
   "cell_type": "code",
   "execution_count": 18,
   "metadata": {},
   "outputs": [
    {
     "data": {
      "text/html": [
       "<div>\n",
       "<style scoped>\n",
       "    .dataframe tbody tr th:only-of-type {\n",
       "        vertical-align: middle;\n",
       "    }\n",
       "\n",
       "    .dataframe tbody tr th {\n",
       "        vertical-align: top;\n",
       "    }\n",
       "\n",
       "    .dataframe thead th {\n",
       "        text-align: right;\n",
       "    }\n",
       "</style>\n",
       "<table border=\"1\" class=\"dataframe\">\n",
       "  <thead>\n",
       "    <tr style=\"text-align: right;\">\n",
       "      <th></th>\n",
       "      <th>citation_date</th>\n",
       "      <th>author_nick_names</th>\n",
       "      <th>tweets</th>\n",
       "      <th>retweets</th>\n",
       "      <th>followers</th>\n",
       "      <th>time_hour</th>\n",
       "    </tr>\n",
       "  </thead>\n",
       "  <tbody>\n",
       "    <tr>\n",
       "      <th>0</th>\n",
       "      <td>2015-01-17 09:59:06</td>\n",
       "      <td>ibrake4flowers</td>\n",
       "      <td>1</td>\n",
       "      <td>4</td>\n",
       "      <td>41.0</td>\n",
       "      <td>82</td>\n",
       "    </tr>\n",
       "    <tr>\n",
       "      <th>1</th>\n",
       "      <td>2015-01-14 10:08:26</td>\n",
       "      <td>tmswithmro</td>\n",
       "      <td>1</td>\n",
       "      <td>2</td>\n",
       "      <td>361.0</td>\n",
       "      <td>10</td>\n",
       "    </tr>\n",
       "    <tr>\n",
       "      <th>2</th>\n",
       "      <td>2015-01-17 10:17:43</td>\n",
       "      <td>rainbowkirk</td>\n",
       "      <td>1</td>\n",
       "      <td>2</td>\n",
       "      <td>6.0</td>\n",
       "      <td>82</td>\n",
       "    </tr>\n",
       "    <tr>\n",
       "      <th>3</th>\n",
       "      <td>2015-01-15 19:58:05</td>\n",
       "      <td>gary4freedom</td>\n",
       "      <td>1</td>\n",
       "      <td>2</td>\n",
       "      <td>1364.0</td>\n",
       "      <td>44</td>\n",
       "    </tr>\n",
       "    <tr>\n",
       "      <th>4</th>\n",
       "      <td>2015-01-14 09:44:31</td>\n",
       "      <td>eddieedmundo</td>\n",
       "      <td>1</td>\n",
       "      <td>14</td>\n",
       "      <td>580.0</td>\n",
       "      <td>10</td>\n",
       "    </tr>\n",
       "  </tbody>\n",
       "</table>\n",
       "</div>"
      ],
      "text/plain": [
       "        citation_date author_nick_names  tweets  retweets  followers  \\\n",
       "0 2015-01-17 09:59:06    ibrake4flowers       1         4       41.0   \n",
       "1 2015-01-14 10:08:26        tmswithmro       1         2      361.0   \n",
       "2 2015-01-17 10:17:43       rainbowkirk       1         2        6.0   \n",
       "3 2015-01-15 19:58:05      gary4freedom       1         2     1364.0   \n",
       "4 2015-01-14 09:44:31      eddieedmundo       1        14      580.0   \n",
       "\n",
       "   time_hour  \n",
       "0         82  \n",
       "1         10  \n",
       "2         82  \n",
       "3         44  \n",
       "4         10  "
      ]
     },
     "execution_count": 18,
     "metadata": {},
     "output_type": "execute_result"
    }
   ],
   "source": [
    "nfl.head()"
   ]
  },
  {
   "cell_type": "code",
   "execution_count": 19,
   "metadata": {},
   "outputs": [
    {
     "data": {
      "text/html": [
       "<div>\n",
       "<style scoped>\n",
       "    .dataframe tbody tr th:only-of-type {\n",
       "        vertical-align: middle;\n",
       "    }\n",
       "\n",
       "    .dataframe tbody tr th {\n",
       "        vertical-align: top;\n",
       "    }\n",
       "\n",
       "    .dataframe thead th {\n",
       "        text-align: right;\n",
       "    }\n",
       "</style>\n",
       "<table border=\"1\" class=\"dataframe\">\n",
       "  <thead>\n",
       "    <tr style=\"text-align: right;\">\n",
       "      <th></th>\n",
       "      <th>citation_date</th>\n",
       "      <th>author_nick_names</th>\n",
       "      <th>tweets</th>\n",
       "      <th>retweets</th>\n",
       "      <th>followers</th>\n",
       "      <th>time_hour</th>\n",
       "    </tr>\n",
       "  </thead>\n",
       "  <tbody>\n",
       "    <tr>\n",
       "      <th>0</th>\n",
       "      <td>2015-01-16 20:21:37</td>\n",
       "      <td>beccadelgado67</td>\n",
       "      <td>1</td>\n",
       "      <td>2</td>\n",
       "      <td>22.0</td>\n",
       "      <td>68</td>\n",
       "    </tr>\n",
       "    <tr>\n",
       "      <th>1</th>\n",
       "      <td>2015-01-16 20:06:19</td>\n",
       "      <td>beccadelgado67</td>\n",
       "      <td>1</td>\n",
       "      <td>15</td>\n",
       "      <td>22.0</td>\n",
       "      <td>68</td>\n",
       "    </tr>\n",
       "    <tr>\n",
       "      <th>2</th>\n",
       "      <td>2015-01-14 12:22:37</td>\n",
       "      <td>waltskelliepic</td>\n",
       "      <td>1</td>\n",
       "      <td>2</td>\n",
       "      <td>858.0</td>\n",
       "      <td>12</td>\n",
       "    </tr>\n",
       "    <tr>\n",
       "      <th>3</th>\n",
       "      <td>2015-01-14 10:48:18</td>\n",
       "      <td>eventmarketer</td>\n",
       "      <td>1</td>\n",
       "      <td>2</td>\n",
       "      <td>14335.0</td>\n",
       "      <td>11</td>\n",
       "    </tr>\n",
       "    <tr>\n",
       "      <th>4</th>\n",
       "      <td>2015-01-15 02:00:31</td>\n",
       "      <td>cqr111</td>\n",
       "      <td>1</td>\n",
       "      <td>7</td>\n",
       "      <td>1143.0</td>\n",
       "      <td>26</td>\n",
       "    </tr>\n",
       "  </tbody>\n",
       "</table>\n",
       "</div>"
      ],
      "text/plain": [
       "        citation_date author_nick_names  tweets  retweets  followers  \\\n",
       "0 2015-01-16 20:21:37    beccadelgado67       1         2       22.0   \n",
       "1 2015-01-16 20:06:19    beccadelgado67       1        15       22.0   \n",
       "2 2015-01-14 12:22:37    waltskelliepic       1         2      858.0   \n",
       "3 2015-01-14 10:48:18     eventmarketer       1         2    14335.0   \n",
       "4 2015-01-15 02:00:31            cqr111       1         7     1143.0   \n",
       "\n",
       "   time_hour  \n",
       "0         68  \n",
       "1         68  \n",
       "2         12  \n",
       "3         11  \n",
       "4         26  "
      ]
     },
     "execution_count": 19,
     "metadata": {},
     "output_type": "execute_result"
    }
   ],
   "source": [
    "superbowl.head()"
   ]
  },
  {
   "cell_type": "code",
   "execution_count": 20,
   "metadata": {},
   "outputs": [],
   "source": [
    "nfl_time_hour = nfl.groupby('time_hour').sum()"
   ]
  },
  {
   "cell_type": "code",
   "execution_count": 21,
   "metadata": {},
   "outputs": [],
   "source": [
    "x = list(nfl_time_hour.index)\n",
    "y = list(nfl_time_hour.tweets)"
   ]
  },
  {
   "cell_type": "code",
   "execution_count": null,
   "metadata": {},
   "outputs": [],
   "source": []
  },
  {
   "cell_type": "code",
   "execution_count": 22,
   "metadata": {
    "scrolled": false
   },
   "outputs": [
    {
     "data": {
      "image/png": "[encoded data removed]",
      "text/plain": [
       "<matplotlib.figure.Figure at 0x120799828>"
      ]
     },
     "metadata": {},
     "output_type": "display_data"
    }
   ],
   "source": [
    "plt.figure(figsize=(12,7))\n",
    "plt.bar(x, y, width=x[1]-x[0])\n",
    "plt.xlabel('Hours')\n",
    "plt.ylabel('Tweets')\n",
    "plt.title('#NFL Number of Tweets in an Hour Over Time')\n",
    "plt.show()"
   ]
  },
  {
   "cell_type": "code",
   "execution_count": 23,
   "metadata": {},
   "outputs": [],
   "source": [
    "superbowl_time_hour = superbowl.groupby('time_hour').sum()"
   ]
  },
  {
   "cell_type": "code",
   "execution_count": 24,
   "metadata": {},
   "outputs": [],
   "source": [
    "x = list(superbowl_time_hour.index)\n",
    "y = list(superbowl_time_hour.tweets)"
   ]
  },
  {
   "cell_type": "code",
   "execution_count": 25,
   "metadata": {},
   "outputs": [
    {
     "data": {
      "image/png": "[encoded data removed]",
      "text/plain": [
       "<matplotlib.figure.Figure at 0x11dd8bbe0>"
      ]
     },
     "metadata": {},
     "output_type": "display_data"
    }
   ],
   "source": [
    "plt.figure(figsize=(12,7))\n",
    "plt.bar(x, y, width=x[1]-x[0])\n",
    "plt.xlabel('Hours')\n",
    "plt.ylabel('Tweets')\n",
    "plt.title('#Superbowl Number of Tweets in an Hour Over Time')\n",
    "plt.show()"
   ]
  },
  {
   "cell_type": "code",
   "execution_count": 26,
   "metadata": {},
   "outputs": [],
   "source": [
    "from sklearn import datasets, linear_model\n",
    "from sklearn.metrics import mean_squared_error, r2_score"
   ]
  },
  {
   "cell_type": "code",
   "execution_count": 27,
   "metadata": {},
   "outputs": [],
   "source": [
    "# QUESTION 6: We define three time periods and their corresponding window length as follows:\n",
    "# 1. Before Feb. 1, 8:00 a.m.: 1-hour window\n",
    "# 2. Between Feb. 1, 8:00 a.m. and 8:00 p.m.: 5-minute window\n",
    "# 3. After Feb. 1, 8:00 p.m.: 1-hour window\n",
    "# For each hashtag, train 3 regression models, one for each of these time periods (the times are all in\n",
    "# PST). Report the MSE and R-squared score for each case."
   ]
  },
  {
   "cell_type": "code",
   "execution_count": 127,
   "metadata": {},
   "outputs": [],
   "source": [
    "def train_linear_regression(df, train_col):\n",
    "    model = sm.OLS(list(range(len(df))), df[train_col].tolist())\n",
    "    return model.fit()\n",
    "\n",
    "def get_mse(results):\n",
    "    print('MSE Score: ' + str(results.mse_total))\n",
    "    return\n",
    "\n",
    "def get_r_squared(results):\n",
    "    print('R-squared Score: ' + str(results.rsquared))\n",
    "    return"
   ]
  },
  {
   "cell_type": "code",
   "execution_count": 136,
   "metadata": {},
   "outputs": [],
   "source": [
    "def split_time_periods(df, name):\n",
    "    pre_active = df[df['citation_date'] < '2015-02-01 08:00:00']\n",
    "    pre_active['time_hour'] = pre_active.citation_date.apply(lambda x: round((x - min['citation_date']).total_seconds()/60/60))\n",
    "    pre_active = pre_active.groupby('time_hour').sum()\n",
    "    \n",
    "    active_before = df['citation_date'] >= '2015-02-01 08:00:00' \n",
    "    active_after = df['citation_date'] <= '2015-02-01 20:00:00'\n",
    "    active = df[active_before & active_after]\n",
    "    active['time_five_min'] = active.citation_date.apply(lambda x: round((x - min['citation_date']).total_seconds()/60/12))\n",
    "    active = active.groupby('time_five_min').sum()\n",
    "\n",
    "    post_active = df[df['citation_date'] > '2015-02-01 21:00:00']\n",
    "    post_active['time_hour'] = post_active.citation_date.apply(lambda x: round((x - min['citation_date']).total_seconds()/60/60))\n",
    "    post_active = post_active.groupby('time_hour').sum()\n",
    "    \n",
    "    print('====================== ' + name + ' =======================')\n",
    "    \n",
    "    print('====== Pre-active Time ======')\n",
    "    pre_results = train_linear_regression(pre_active, 'tweets')\n",
    "    get_mse(pre_results);\n",
    "    get_r_squared(pre_results);\n",
    "    \n",
    "    print('====== Active Time ======')\n",
    "    results = train_linear_regression(active, 'tweets')\n",
    "    get_mse(results);\n",
    "    get_r_squared(results);\n",
    "    \n",
    "    print('====== Post-active Time ======')\n",
    "    post_results = train_linear_regression(post_active, 'tweets')\n",
    "    get_mse(post_results);\n",
    "    get_r_squared(post_results);\n",
    "\n",
    "    return pre_active, active, post_active"
   ]
  },
  {
   "cell_type": "code",
   "execution_count": 187,
   "metadata": {},
   "outputs": [
    {
     "name": "stderr",
     "output_type": "stream",
     "text": [
      "/Users/jennifermacdonald/anaconda3/lib/python3.6/site-packages/ipykernel_launcher.py:3: SettingWithCopyWarning: \n",
      "A value is trying to be set on a copy of a slice from a DataFrame.\n",
      "Try using .loc[row_indexer,col_indexer] = value instead\n",
      "\n",
      "See the caveats in the documentation: http://pandas.pydata.org/pandas-docs/stable/indexing.html#indexing-view-versus-copy\n",
      "  This is separate from the ipykernel package so we can avoid doing imports until\n",
      "/Users/jennifermacdonald/anaconda3/lib/python3.6/site-packages/ipykernel_launcher.py:9: SettingWithCopyWarning: \n",
      "A value is trying to be set on a copy of a slice from a DataFrame.\n",
      "Try using .loc[row_indexer,col_indexer] = value instead\n",
      "\n",
      "See the caveats in the documentation: http://pandas.pydata.org/pandas-docs/stable/indexing.html#indexing-view-versus-copy\n",
      "  if __name__ == '__main__':\n",
      "/Users/jennifermacdonald/anaconda3/lib/python3.6/site-packages/ipykernel_launcher.py:13: SettingWithCopyWarning: \n",
      "A value is trying to be set on a copy of a slice from a DataFrame.\n",
      "Try using .loc[row_indexer,col_indexer] = value instead\n",
      "\n",
      "See the caveats in the documentation: http://pandas.pydata.org/pandas-docs/stable/indexing.html#indexing-view-versus-copy\n",
      "  del sys.path[0]\n"
     ]
    },
    {
     "name": "stdout",
     "output_type": "stream",
     "text": [
      "====================== #gohawks =======================\n",
      "====== Pre-active Time ======\n",
      "MSE Score: 64313.5\n",
      "R-squared Score: 0.0259251663511898\n",
      "====== Active Time ======\n",
      "MSE Score: 1210.0\n",
      "R-squared Score: 0.7193640723575246\n",
      "====== Post-active Time ======\n",
      "MSE Score: 4275.166666666667\n",
      "R-squared Score: 0.003289091601519911\n",
      "====================== #gopatriots =======================\n",
      "====== Pre-active Time ======\n",
      "MSE Score: 49216.0\n",
      "R-squared Score: 0.016386772061327548\n",
      "====== Active Time ======\n",
      "MSE Score: 1170.1666666666667\n",
      "R-squared Score: 0.6226155254055337\n",
      "====== Post-active Time ======\n",
      "MSE Score: 623.5\n",
      "R-squared Score: 0.030469716410849057\n",
      "====================== #nfl =======================\n",
      "====== Pre-active Time ======\n",
      "MSE Score: 64606.666666666664\n",
      "R-squared Score: 0.365534290230184\n",
      "====== Active Time ======\n",
      "MSE Score: 1210.0\n",
      "R-squared Score: 0.7580407640767445\n",
      "====== Post-active Time ======\n",
      "MSE Score: 5655.0\n",
      "R-squared Score: 0.48814443978738453\n",
      "====================== #patriots =======================\n",
      "====== Pre-active Time ======\n",
      "MSE Score: 64606.666666666664\n",
      "R-squared Score: 0.055649640259660904\n",
      "====== Active Time ======\n",
      "MSE Score: 1210.0\n",
      "R-squared Score: 0.5861862108825919\n",
      "====== Post-active Time ======\n",
      "MSE Score: 6007.666666666667\n",
      "R-squared Score: 0.023069643368629156\n",
      "====================== #sb49 =======================\n",
      "====== Pre-active Time ======\n",
      "MSE Score: 52602.5\n",
      "R-squared Score: 0.35968930635334595\n",
      "====== Active Time ======\n",
      "MSE Score: 1210.0\n",
      "R-squared Score: 0.6184877347459365\n",
      "====== Post-active Time ======\n",
      "MSE Score: 6007.666666666667\n",
      "R-squared Score: 0.023666321815661195\n",
      "====================== #superbowl =======================\n",
      "====== Pre-active Time ======\n",
      "MSE Score: 64313.5\n",
      "R-squared Score: 0.252245866398339\n",
      "====== Active Time ======\n",
      "MSE Score: 1210.0\n",
      "R-squared Score: 0.6520692617787719\n",
      "====== Post-active Time ======\n",
      "MSE Score: 5742.166666666667\n",
      "R-squared Score: 0.08005717881653918\n"
     ]
    }
   ],
   "source": [
    "gohawks_pre, gohawks_active, gohawks_post = split_time_periods(gohawks, '#gohawks')\n",
    "gopatriots_pre, gopatriots_active, gopatriots_post = split_time_periods(gopatriots, '#gopatriots')\n",
    "nfl_pre, nfl_active, nfl_post = split_time_periods(nfl, '#nfl')\n",
    "patriots_pre, patriots_active, patriots_post = split_time_periods(patriots, '#patriots')\n",
    "sb49_pre, sb49_active, sb49_post = split_time_periods(sb49, '#sb49')\n",
    "superbowl_pre, superbowl_active, superbowl_post = split_time_periods(superbowl, '#superbowl')"
   ]
  },
  {
   "cell_type": "code",
   "execution_count": 180,
   "metadata": {},
   "outputs": [],
   "source": [
    "# QUESTION 7: Also, aggregate the data of all hashtags, and train 3 models (for the intervals\n",
    "# mentioned above) to predict the number of tweets in the next hour on the aggregated data.\n",
    "# Perform the same evaluations on your combined model and compare with models you trained for\n",
    "# individual hashtags."
   ]
  },
  {
   "cell_type": "code",
   "execution_count": 224,
   "metadata": {},
   "outputs": [],
   "source": [
    "agg_pre = pd.concat([gohawks_pre, gopatriots_pre, nfl_pre, patriots_pre, sb49_pre, superbowl_pre], axis=1).fillna(0)\n",
    "agg_pre = agg_pre.groupby(lambda x:x, axis=1).sum()\n",
    "\n",
    "agg_active = pd.concat([gohawks_active, gopatriots_active, nfl_active, patriots_active, sb49_active, superbowl_active], axis=1).fillna(0)\n",
    "agg_active = agg_active.groupby(lambda x:x, axis=1).sum()\n",
    "\n",
    "agg_post = pd.concat([gohawks_post, gopatriots_post, nfl_post, patriots_post, sb49_post, superbowl_post], axis=1).fillna(0)\n",
    "agg_post = agg_post.groupby(lambda x:x, axis=1).sum()"
   ]
  },
  {
   "cell_type": "code",
   "execution_count": 232,
   "metadata": {},
   "outputs": [],
   "source": [
    "def pred_tweets(df):\n",
    "    model = sm.OLS(df['tweets'].tolist(), list(df.index.tolist()))\n",
    "    results = model.fit()\n",
    "    ypred = results.predict((df.index.tolist()[-1])+1)\n",
    "    return ypred"
   ]
  },
  {
   "cell_type": "code",
   "execution_count": 233,
   "metadata": {},
   "outputs": [
    {
     "name": "stdout",
     "output_type": "stream",
     "text": [
      "Predicted the number of tweets in the next hour for Pre-active Time:  [2282.27451759]\n",
      "\n",
      "Predicted the number of tweets in the next hour for Active Time:  [32880.56872534]\n",
      "\n",
      "Predicted the number of tweets in the next hour for Post-active Time:  [1832.50717649]\n"
     ]
    }
   ],
   "source": [
    "print(\"Predicted the number of tweets in the next hour for Pre-active Time: \", pred_tweets(agg_pre))\n",
    "print(\"\\nPredicted the number of tweets in the next hour for Active Time: \", pred_tweets(agg_active))\n",
    "print(\"\\nPredicted the number of tweets in the next hour for Post-active Time: \", pred_tweets(agg_post))"
   ]
  },
  {
   "cell_type": "code",
   "execution_count": null,
   "metadata": {},
   "outputs": [],
   "source": []
  }
 ],
 "metadata": {
  "kernelspec": {
   "display_name": "Python 3",
   "language": "python",
   "name": "python3"
  },
  "language_info": {
   "codemirror_mode": {
    "name": "ipython",
    "version": 3
   },
   "file_extension": ".py",
   "mimetype": "text/x-python",
   "name": "python",
   "nbconvert_exporter": "python",
   "pygments_lexer": "ipython3",
   "version": "3.6.4"
  }
 },
 "nbformat": 4,
 "nbformat_minor": 2
}
