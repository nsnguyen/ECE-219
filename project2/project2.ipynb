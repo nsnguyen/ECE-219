{
 "cells": [
  {
   "cell_type": "code",
   "execution_count": 1,
   "metadata": {
    "collapsed": true
   },
   "outputs": [],
   "source": [
    "from sklearn.datasets import fetch_20newsgroups\n",
    "from matplotlib import pyplot as plt\n",
    "import numpy as np\n",
    "from numpy import array\n"
   ]
  },
  {
   "cell_type": "code",
   "execution_count": 2,
   "metadata": {
    "collapsed": true
   },
   "outputs": [],
   "source": [
    "computer_technology_subclasses = ['comp.graphics',\n",
    "                                  'comp.os.ms-windows.misc',\n",
    "                                  'comp.sys.ibm.pc.hardware',\n",
    "                                  'comp.sys.mac.hardware']\n",
    "\n",
    "recreational_activity_subclasses = ['rec.autos',\n",
    "                                    'rec.motorcycles',\n",
    "                                    'rec.sport.baseball',\n",
    "                                    'rec.sport.hockey']\n",
    "\n",
    "categories = computer_technology_subclasses + recreational_activity_subclasses"
   ]
  },
  {
   "cell_type": "code",
   "execution_count": 3,
   "metadata": {
    "collapsed": true
   },
   "outputs": [],
   "source": [
    "train_dataset = fetch_20newsgroups(subset='train', categories=categories,\n",
    "shuffle=True, random_state=42, remove=('headers', 'footers'))\n",
    "\n",
    "test_dataset = fetch_20newsgroups(subset='test', categories=categories,\n",
    "shuffle=True, random_state=42, remove=('headers', 'footers'))\n",
    "\n",
    "# Load in training and test sets with/without footers (re-defining to prevent screwing up existing code)\n",
    "\n",
    "# Remove headers and footers\n",
    "train_dataset_rmv_headfoot = fetch_20newsgroups(subset='train', categories=categories,\n",
    "shuffle=True, random_state=42, remove=('headers', 'footers'))\n",
    "test_dataset_rmv_headfoot = fetch_20newsgroups(subset='test', categories=categories,\n",
    "shuffle=True, random_state=42, remove=('headers', 'footers'))\n",
    "\n",
    "# Keep headers and footers\n",
    "train_dataset_keep_headfoot = fetch_20newsgroups(subset='train', categories=categories,\n",
    "shuffle=True, random_state=42)\n",
    "test_dataset_keep_headfoot = fetch_20newsgroups(subset='test', categories=categories,\n",
    "shuffle=True, random_state=42)"
   ]
  },
  {
   "cell_type": "markdown",
   "metadata": {},
   "source": [
    "# Turn Multiclass into Binary"
   ]
  },
  {
   "cell_type": "code",
   "execution_count": 5,
   "metadata": {},
   "outputs": [],
   "source": [
    "# binary_train_target = train_dataset.target.copy()\n",
    "# binary_test_target = test_dataset.target.copy()\n",
    "# computer_class_indices = [0,1,2,3]\n",
    "# recreational_class_indices = [4,5,6,7]\n",
    "\n",
    "# computer_class_label = 0\n",
    "# recreational_class_label = 1\n",
    "\n",
    "# # Binarize computer-class labels\n",
    "# for i in computer_class_indices:\n",
    "#     binary_train_target[binary_train_target == i] = computer_class_label\n",
    "#     binary_test_target[binary_test_target == i] = computer_class_label\n",
    "\n",
    "# # Binarize recreational-class labels\n",
    "# for i in recreational_class_indices:\n",
    "#     binary_train_target[binary_train_target==i] = recreational_class_label\n",
    "#     binary_test_target[binary_test_target == i] = recreational_class_label\n",
    " \n",
    "# print(\"Sanity Check!\\n\")\n",
    "# print(\"Training Set\")\n",
    "# print(\"Original train_dataset.target: \" + str(train_dataset.target[0:20]))\n",
    "# print(\"Binarized train_dataset.target:\" + str(binary_train_target[0:20]))\n",
    "# print(\"\\nTest Set\")\n",
    "# print(\"Original test_dataset.target:  \" + str(test_dataset.target[0:20]))\n",
    "# print(\"Binarized test_dataset.target: \" + str(binary_test_target[0:20]))"
   ]
  },
  {
   "cell_type": "code",
   "execution_count": null,
   "metadata": {
    "collapsed": true
   },
   "outputs": [],
   "source": []
  }
 ],
 "metadata": {
  "kernelspec": {
   "display_name": "Python 3",
   "language": "python",
   "name": "python3"
  },
  "language_info": {
   "codemirror_mode": {
    "name": "ipython",
    "version": 3
   },
   "file_extension": ".py",
   "mimetype": "text/x-python",
   "name": "python",
   "nbconvert_exporter": "python",
   "pygments_lexer": "ipython3",
   "version": "3.6.1"
  }
 },
 "nbformat": 4,
 "nbformat_minor": 2
}
