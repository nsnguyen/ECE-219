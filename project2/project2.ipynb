{
 "cells": [
  {
   "cell_type": "code",
   "execution_count": 124,
   "metadata": {
    "collapsed": true
   },
   "outputs": [],
   "source": [
    "from sklearn.datasets import fetch_20newsgroups\n",
    "from matplotlib import pyplot as plt\n",
    "import numpy as np\n",
    "from numpy import array\n",
    "\n",
    "from sklearn.feature_extraction.text import CountVectorizer\n",
    "from sklearn.feature_extraction.text import TfidfTransformer\n",
    "\n",
    "from sklearn.decomposition import TruncatedSVD\n",
    "\n",
    "from sklearn import metrics\n",
    "from sklearn.cluster import KMeans\n",
    "\n",
    "import time\n",
    "\n",
    "import pickle"
   ]
  },
  {
   "cell_type": "markdown",
   "metadata": {},
   "source": [
    "# Utility Functions"
   ]
  },
  {
   "cell_type": "code",
   "execution_count": 101,
   "metadata": {
    "collapsed": true
   },
   "outputs": [],
   "source": [
    "def print_cluster_metrics(truth_labels,cluster):\n",
    "    \n",
    "    homogeneity = metrics.homogeneity_score(truth_labels, cluster.labels_)\n",
    "    completeness = metrics.completeness_score(truth_labels, cluster.labels_)\n",
    "    v_measure = metrics.v_measure_score(truth_labels, cluster.labels_)\n",
    "    adjusted_rand_index = metrics.adjusted_rand_score(truth_labels, cluster.labels_)\n",
    "    adjusted_mutual_info = metrics.adjusted_mutual_info_score(truth_labels, cluster.labels_)\n",
    "\n",
    "    print(\"Homogeneity Score: %f\" % homogeneity)\n",
    "    print(\"Completeness Score: %f\" % completeness)\n",
    "    print(\"V-Measure Score: %f\" % v_measure)\n",
    "    print(\"Adjusted Rand Index: %f\" % adjusted_rand_index)\n",
    "    print(\"Adjusted Mutual Information: %f\" % adjusted_mutual_info)"
   ]
  },
  {
   "cell_type": "markdown",
   "metadata": {},
   "source": [
    "# Prepare Data"
   ]
  },
  {
   "cell_type": "code",
   "execution_count": 102,
   "metadata": {
    "collapsed": true
   },
   "outputs": [],
   "source": [
    "computer_technology_subclasses = ['comp.graphics',\n",
    "                                  'comp.os.ms-windows.misc',\n",
    "                                  'comp.sys.ibm.pc.hardware',\n",
    "                                  'comp.sys.mac.hardware']\n",
    "\n",
    "recreational_activity_subclasses = ['rec.autos',\n",
    "                                    'rec.motorcycles',\n",
    "                                    'rec.sport.baseball',\n",
    "                                    'rec.sport.hockey']\n",
    "\n",
    "categories = computer_technology_subclasses + recreational_activity_subclasses"
   ]
  },
  {
   "cell_type": "code",
   "execution_count": 103,
   "metadata": {
    "collapsed": false
   },
   "outputs": [],
   "source": [
    "dataset = fetch_20newsgroups(subset='all',categories=categories, shuffle=True, \n",
    "                             random_state=42, remove=('headers', 'footers'))\n",
    "\n",
    "dataset_binary_target = [0 if t<4 else 1 for t in dataset.target]"
   ]
  },
  {
   "cell_type": "code",
   "execution_count": 106,
   "metadata": {
    "collapsed": false
   },
   "outputs": [
    {
     "name": "stdout",
     "output_type": "stream",
     "text": [
      "QUESTION 1: Report the dimensions of the TF-IDF matrix you get\n",
      "TF-IDF Shape: (7882, 23522)\n"
     ]
    }
   ],
   "source": [
    "# Generate TF-IDF Data, with min_df=3, removed stop words, no stemming\n",
    "vectorizer = CountVectorizer(min_df=3, stop_words='english')\n",
    "X_counts = vectorizer.fit_transform(dataset.data)\n",
    "\n",
    "tfidf_transformer = TfidfTransformer()\n",
    "X_tfidf = tfidf_transformer.fit_transform(X_counts)\n",
    "\n",
    "# Print the shape of the datasets\n",
    "print(\"QUESTION 1: Report the dimensions of the TF-IDF matrix you get\")\n",
    "print('TF-IDF Shape:',X_tfidf.shape)\n"
   ]
  },
  {
   "cell_type": "markdown",
   "metadata": {},
   "source": [
    "# Cluster With K-Means (k=2)"
   ]
  },
  {
   "cell_type": "code",
   "execution_count": 107,
   "metadata": {
    "collapsed": false
   },
   "outputs": [
    {
     "name": "stdout",
     "output_type": "stream",
     "text": [
      "Finished clustering with 30 seeds in 222.077626 seconds\n"
     ]
    }
   ],
   "source": [
    "# Apply K-means clustering with k=2 using the TF-IDF data. Use random_state=0, max_iter >= 1000, n_init>=30.\n",
    "N_CLUSTERS = 2\n",
    "RANDOM_STATE = 0\n",
    "MAX_ITER = 1000\n",
    "N_INIT = 30\n",
    "\n",
    "km_2 = KMeans(n_clusters=N_CLUSTERS,random_state=RANDOM_STATE,max_iter=MAX_ITER,n_init=N_INIT)\n",
    "start = time.time()\n",
    "km_2.fit(X_tfidf)\n",
    "print(\"Finished clustering with %i seeds in %f seconds\" % (N_INIT, time.time()-start))\n"
   ]
  },
  {
   "cell_type": "code",
   "execution_count": 109,
   "metadata": {
    "collapsed": false
   },
   "outputs": [
    {
     "name": "stdout",
     "output_type": "stream",
     "text": [
      "QUESTION 2: Show Contingency Matrix:\n",
      "[[3167  736]\n",
      " [  50 3929]]\n"
     ]
    }
   ],
   "source": [
    "print(\"QUESTION 2: Show Contingency Matrix:\")\n",
    "contin_matrix = metrics.cluster.contingency_matrix(dataset_binary_target, km_2.labels_)\n",
    "print(contin_matrix)"
   ]
  },
  {
   "cell_type": "code",
   "execution_count": 110,
   "metadata": {
    "collapsed": false
   },
   "outputs": [
    {
     "name": "stdout",
     "output_type": "stream",
     "text": [
      "QUESTION 3: Report 5 Measures for K-Means Clustering\n",
      " \n",
      "Homogeneity Score: 0.580535\n",
      "Completeness Score: 0.595065\n",
      "V-Measure Score: 0.587710\n",
      "Adjusted Rand Index: 0.640848\n",
      "Adjusted Mutual Information: 0.580496\n"
     ]
    }
   ],
   "source": [
    "print(\"QUESTION 3: Report 5 Measures for K-Means Clustering\\n \")\n",
    "print_cluster_metrics(dataset_binary_target, km_2)"
   ]
  },
  {
   "cell_type": "markdown",
   "metadata": {},
   "source": [
    "# Dimension Reduction"
   ]
  },
  {
   "cell_type": "code",
   "execution_count": 135,
   "metadata": {
    "collapsed": false
   },
   "outputs": [
    {
     "name": "stdout",
     "output_type": "stream",
     "text": [
      "SVD complete after 77.084927 seconds\n"
     ]
    }
   ],
   "source": [
    "svd = TruncatedSVD(n_components = 1000)\n",
    "\n",
    "start = time.time()\n",
    "svd_dataset = svd.fit_transform(X_tfidf)\n",
    "print(\"SVD complete after %f seconds\" % (time.time()-start))\n",
    "pickle.dump(svd,open(\"svd.pkl\",\"wb\"))"
   ]
  },
  {
   "cell_type": "code",
   "execution_count": 139,
   "metadata": {
    "collapsed": false
   },
   "outputs": [
    {
     "data": {
      "image/png": "[encoded data removed]",
      "text/plain": [
       "<matplotlib.figure.Figure at 0x1a18d1f908>"
      ]
     },
     "metadata": {},
     "output_type": "display_data"
    }
   ],
   "source": [
    "plt.plot(np.cumsum(svd.explained_variance_ratio_[:1000]))\n",
    "plt.xlabel(\"Dimension Index\")\n",
    "plt.ylabel(\"Percentage of Total Variance\")\n",
    "plt.show()"
   ]
  },
  {
   "cell_type": "code",
   "execution_count": 112,
   "metadata": {
    "collapsed": false
   },
   "outputs": [
    {
     "name": "stdout",
     "output_type": "stream",
     "text": [
      "Finished clustering with 30 seeds in 576.350085 seconds\n"
     ]
    }
   ],
   "source": [
    "# Apply K-means clustering with k=20 using the TF-IDF data. Use random_state=0, max_iter >= 1000, n_init>=30.\n",
    "N_CLUSTERS = 20\n",
    "RANDOM_STATE = 0\n",
    "MAX_ITER = 1000\n",
    "N_INIT = 30\n",
    "\n",
    "km_20 = KMeans(n_clusters=N_CLUSTERS,random_state=RANDOM_STATE,max_iter=MAX_ITER,n_init=N_INIT)\n",
    "start = time.time()\n",
    "km_20.fit(X_tfidf)\n",
    "print(\"Finished clustering with %i seeds in %f seconds\" % (N_INIT, time.time()-start))"
   ]
  },
  {
   "cell_type": "code",
   "execution_count": 111,
   "metadata": {
    "collapsed": false
   },
   "outputs": [
    {
     "name": "stdout",
     "output_type": "stream",
     "text": [
      "QUESTION 11: Report 5 Measures for K-Means Clustering for 20 classes\n",
      " \n",
      "Contingency Matrix:\n",
      "[[  2   0   0 377   0 302   0   0   8   0  99   1  24   0   0  57  91   0\n",
      "    2  10]\n",
      " [  7   1  16 178   0  47   1   0  81   0  66  27 371   0   0  87  80   4\n",
      "    3  16]\n",
      " [  0   0 145 213   2   4  86   0   9   0  71  78  37   0   1 155  61  68\n",
      "    2  50]\n",
      " [ 12   0  68 244   0   2 142   0  34   0  60  46   6   0   0  18  74  31\n",
      "    3 223]\n",
      " [ 23  16   3  40   0   0   0   0   0   0  42   0   2   0 436   0 414   0\n",
      "   13   1]\n",
      " [ 38 588  11  21   2   0   0   0   0   0  31   0   0   0  23   0 276   0\n",
      "    6   0]\n",
      " [ 45   3   0  16  58   1   0 323   0 110  50   0   0   7   0   0 223   0\n",
      "  157   1]\n",
      " [  7   1   0   8 223   0   0   9   0  84  19   0   0 183   0   0  72   0\n",
      "  393   0]]\n",
      "Homogeneity Score: 0.504901\n",
      "Completeness Score: 0.380828\n",
      "V-Measure Score: 0.434174\n",
      "Adjusted Rand Index: 0.233840\n",
      "Adjusted Mutual Information: 0.378915\n"
     ]
    }
   ],
   "source": [
    "print(\"QUESTION 11: Report 5 Measures for K-Means Clustering for 20 classes\\n \")\n",
    "contin_matrix = metrics.cluster.contingency_matrix(dataset.target, km_20.labels_)\n",
    "print(\"Contingency Matrix:\")\n",
    "print(contin_matrix)\n",
    "print_cluster_metrics(dataset.target, km_20)"
   ]
  },
  {
   "cell_type": "code",
   "execution_count": null,
   "metadata": {
    "collapsed": true
   },
   "outputs": [],
   "source": []
  },
  {
   "cell_type": "code",
   "execution_count": 119,
   "metadata": {
    "collapsed": true
   },
   "outputs": [],
   "source": [
    "pickle.dump(km_2,open(\"km_2.pkl\",\"wb\"))\n",
    "pickle.dump(km_20,open(\"km_20.pkl\",\"wb\"))"
   ]
  },
  {
   "cell_type": "code",
   "execution_count": 120,
   "metadata": {
    "collapsed": false
   },
   "outputs": [],
   "source": [
    "a = pickle.load(open(\"km_20.pkl\",\"rb\"))\n",
    "b = pickle.load(open(\"km_2.pkl\",\"rb\"))"
   ]
  },
  {
   "cell_type": "code",
   "execution_count": null,
   "metadata": {
    "collapsed": true
   },
   "outputs": [],
   "source": []
  }
 ],
 "metadata": {
  "kernelspec": {
   "display_name": "Python 3",
   "language": "python",
   "name": "python3"
  },
  "language_info": {
   "codemirror_mode": {
    "name": "ipython",
    "version": 3
   },
   "file_extension": ".py",
   "mimetype": "text/x-python",
   "name": "python",
   "nbconvert_exporter": "python",
   "pygments_lexer": "ipython3",
   "version": "3.6.0"
  }
 },
 "nbformat": 4,
 "nbformat_minor": 2
}
