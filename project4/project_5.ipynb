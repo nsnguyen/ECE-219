{
 "cells": [
  {
   "cell_type": "code",
   "execution_count": 615,
   "metadata": {
    "collapsed": true
   },
   "outputs": [],
   "source": [
    "import numpy as np\n",
    "import pandas as pd\n",
    "\n",
    "import json\n",
    "import csv\n",
    "\n",
    "import datetime\n",
    "import matplotlib.pyplot as plt"
   ]
  },
  {
   "cell_type": "code",
   "execution_count": 616,
   "metadata": {},
   "outputs": [],
   "source": [
    "filenames = ['ECE219_tweet_data/tweets_#gohawks.txt',\n",
    "            'ECE219_tweet_data/tweets_#gopatriots.txt',\n",
    "            'ECE219_tweet_data/tweets_#nfl.txt',\n",
    "            'ECE219_tweet_data/tweets_#patriots.txt',\n",
    "            'ECE219_tweet_data/tweets_#sb49.txt',\n",
    "            'ECE219_tweet_data/tweets_#superbowl.txt'\n",
    "            ]\n",
    "\n",
    "output_filenames = ['Q1_2#gohawks.lol',\n",
    "                    'Q1_2#gopatriots.lol',\n",
    "                   'Q1_2#nfl.lol',\n",
    "                   'Q1_2#patriots.lol',\n",
    "                   'Q1_2#sb49.lol',\n",
    "                   'Q1_2#superbowl.lol']\n",
    "\n",
    "for i in range(len(filenames)):\n",
    "    pst_tz = pytz.timezone('US/Pacific')\n",
    "    \n",
    "    with open(filenames[i], 'r') as reader:\n",
    "        headers = [\n",
    "                   'citation_date',\n",
    "#                    'citation_date_pst',\n",
    "                   'date',\n",
    "                   'hour',\n",
    "                   'author_nick_names',\n",
    "                   'tweets',\n",
    "                   'retweets',\n",
    "                   'followers',\n",
    "                   'followers_max'\n",
    "                  ]\n",
    "        with open(output_filenames[i], 'w') as writer:\n",
    "            csv_writer = csv.writer(writer, lineterminator='\\n')\n",
    "            csv_writer.writerow(headers)\n",
    "            for line in reader:\n",
    "                data = json.loads(line)\n",
    "                response =  [\n",
    "#                             datetime.datetime.fromtimestamp(data['citation_date']),\n",
    "                            datetime.datetime.fromtimestamp(data['citation_date'], pst_tz),\n",
    "                            datetime.datetime.fromtimestamp(data['citation_date'], pst_tz).strftime('%Y%m%d'),\n",
    "                            datetime.datetime.fromtimestamp(data['citation_date'], pst_tz).hour,\n",
    "                            data['author']['nick'],\n",
    "                            1, # there is one tweet at a time..\n",
    "                            data['metrics']['citations']['total'], #retweets\n",
    "                            data['author']['followers'], #followers\n",
    "                            data['author']['followers'], #followers\n",
    "                             ]\n",
    "                csv_writer.writerow(response)\n"
   ]
  },
  {
   "cell_type": "code",
   "execution_count": null,
   "metadata": {},
   "outputs": [],
   "source": []
  },
  {
   "cell_type": "code",
   "execution_count": 617,
   "metadata": {
    "collapsed": true
   },
   "outputs": [],
   "source": [
    "# QUESTION 1: Report the following statistics for each hashtag:\n",
    "# \u000f Average number of tweets per hour\n",
    "# \u000f Average number of followers of users posting the tweets per tweet (to make it simple, we\n",
    "# average over the number of tweets; if a users posted twice, we count the user and the user's\n",
    "# followers twice as well)\n",
    "# \u000f Average number of retweets per tweet"
   ]
  },
  {
   "cell_type": "code",
   "execution_count": 618,
   "metadata": {},
   "outputs": [],
   "source": [
    "gohawks = pd.read_csv('Q1_2#gohawks.lol',delimiter=',', parse_dates=['citation_date'])\n",
    "gopatriots = pd.read_csv('Q1_2#gopatriots.lol',delimiter=',', parse_dates=['citation_date'])\n",
    "nfl = pd.read_csv('Q1_2#nfl.lol',delimiter=',', parse_dates=['citation_date'])\n",
    "patriots = pd.read_csv('Q1_2#patriots.lol',delimiter=',', parse_dates=['citation_date'])\n",
    "sb49 = pd.read_csv('Q1_2#sb49.lol',delimiter=',', parse_dates=['citation_date'])\n",
    "superbowl = pd.read_csv('Q1_2#superbowl.lol',delimiter=',', parse_dates=['citation_date'])"
   ]
  },
  {
   "cell_type": "code",
   "execution_count": 619,
   "metadata": {},
   "outputs": [],
   "source": [
    "full_df = pd.concat([gohawks, gopatriots, nfl, patriots, sb49, superbowl])"
   ]
  },
  {
   "cell_type": "code",
   "execution_count": 620,
   "metadata": {
    "collapsed": true
   },
   "outputs": [],
   "source": [
    "def get_basic_statistics(dataframe):\n",
    "    max = dataframe.max()\n",
    "    min = dataframe.min()\n",
    "    avg_tweets_per_hour = dataframe['tweets'].sum() / ((max['citation_date'] - min['citation_date']).total_seconds() / 60 / 60)\n",
    "    print('Average tweets per hour:',avg_tweets_per_hour)\n",
    "    \n",
    "    avg_followers_posting_tweets = dataframe['followers'].sum() / dataframe['tweets'].sum()\n",
    "    print('Average number of users posting tweets per tweet:', avg_followers_posting_tweets)\n",
    "    \n",
    "    avg_retweet_per_tweet = dataframe['retweets'].sum() / dataframe['tweets'].sum()\n",
    "    print('Average number of retweet per tweet:', avg_followers_per_tweet)"
   ]
  },
  {
   "cell_type": "code",
   "execution_count": 621,
   "metadata": {},
   "outputs": [
    {
     "name": "stdout",
     "output_type": "stream",
     "text": [
      "GoHawks\n",
      "Average tweets per hour: 292.4878506217368\n",
      "Average number of users posting tweets per tweet: 2217.9237355281984\n",
      "Average number of retweet per tweet: 2.2309229822313545\n"
     ]
    }
   ],
   "source": [
    "# go hawks\n",
    "print('GoHawks')\n",
    "get_basic_statistics(gohawks)"
   ]
  },
  {
   "cell_type": "code",
   "execution_count": 622,
   "metadata": {},
   "outputs": [
    {
     "name": "stdout",
     "output_type": "stream",
     "text": [
      "GoPatriots\n",
      "Average tweets per hour: 40.95469800606194\n",
      "Average number of users posting tweets per tweet: 1427.2526051635405\n",
      "Average number of retweet per tweet: 2.2309229822313545\n"
     ]
    }
   ],
   "source": [
    "#go patriots\n",
    "print('GoPatriots')\n",
    "get_basic_statistics(gopatriots)"
   ]
  },
  {
   "cell_type": "code",
   "execution_count": 623,
   "metadata": {},
   "outputs": [
    {
     "name": "stdout",
     "output_type": "stream",
     "text": [
      "NFL\n",
      "Average tweets per hour: 397.0213901819841\n",
      "Average number of users posting tweets per tweet: 4662.37544523693\n",
      "Average number of retweet per tweet: 2.2309229822313545\n"
     ]
    }
   ],
   "source": [
    "print('NFL')\n",
    "get_basic_statistics(nfl)"
   ]
  },
  {
   "cell_type": "code",
   "execution_count": 624,
   "metadata": {},
   "outputs": [
    {
     "name": "stdout",
     "output_type": "stream",
     "text": [
      "Patriots\n",
      "Average tweets per hour: 750.89426460689\n",
      "Average number of users posting tweets per tweet: 3280.4635616550277\n",
      "Average number of retweet per tweet: 2.2309229822313545\n"
     ]
    }
   ],
   "source": [
    "print('Patriots')\n",
    "get_basic_statistics(patriots)"
   ]
  },
  {
   "cell_type": "code",
   "execution_count": 625,
   "metadata": {},
   "outputs": [
    {
     "name": "stdout",
     "output_type": "stream",
     "text": [
      "Sb49\n",
      "Average tweets per hour: 1276.857059868047\n",
      "Average number of users posting tweets per tweet: 10374.160292019487\n",
      "Average number of retweet per tweet: 2.2309229822313545\n"
     ]
    }
   ],
   "source": [
    "print('Sb49')\n",
    "get_basic_statistics(sb49)"
   ]
  },
  {
   "cell_type": "code",
   "execution_count": 626,
   "metadata": {},
   "outputs": [
    {
     "name": "stdout",
     "output_type": "stream",
     "text": [
      "Superbowl\n",
      "Average tweets per hour: 2072.1184017040796\n",
      "Average number of users posting tweets per tweet: 8814.96799424623\n",
      "Average number of retweet per tweet: 2.2309229822313545\n"
     ]
    }
   ],
   "source": [
    "print('Superbowl')\n",
    "get_basic_statistics(superbowl)"
   ]
  },
  {
   "cell_type": "code",
   "execution_count": null,
   "metadata": {
    "collapsed": true
   },
   "outputs": [],
   "source": []
  },
  {
   "cell_type": "code",
   "execution_count": 627,
   "metadata": {},
   "outputs": [],
   "source": [
    "# QUESTION 2: Plot \"number of tweets in hour\" over time for #SuperBowl and #NFL (a histogram\n",
    "# with 1-hour bins). The tweets are stored in separate files for different hashtags and files are named\n",
    "# as tweet [#hashtag].txt."
   ]
  },
  {
   "cell_type": "code",
   "execution_count": 628,
   "metadata": {
    "collapsed": true
   },
   "outputs": [],
   "source": [
    "max = nfl.max()\n",
    "min = nfl.min()"
   ]
  },
  {
   "cell_type": "code",
   "execution_count": 629,
   "metadata": {},
   "outputs": [],
   "source": [
    "nfl['time_hour'] = nfl.citation_date.apply(lambda x: round((x - min['citation_date']).total_seconds()/60/60))"
   ]
  },
  {
   "cell_type": "code",
   "execution_count": 630,
   "metadata": {},
   "outputs": [],
   "source": [
    "superbowl['time_hour'] = superbowl.citation_date.apply(lambda x: round((x - min['citation_date']).total_seconds()/60/60))"
   ]
  },
  {
   "cell_type": "code",
   "execution_count": 631,
   "metadata": {},
   "outputs": [
    {
     "data": {
      "text/html": [
       "<div>\n",
       "<style>\n",
       "    .dataframe thead tr:only-child th {\n",
       "        text-align: right;\n",
       "    }\n",
       "\n",
       "    .dataframe thead th {\n",
       "        text-align: left;\n",
       "    }\n",
       "\n",
       "    .dataframe tbody tr th {\n",
       "        vertical-align: top;\n",
       "    }\n",
       "</style>\n",
       "<table border=\"1\" class=\"dataframe\">\n",
       "  <thead>\n",
       "    <tr style=\"text-align: right;\">\n",
       "      <th></th>\n",
       "      <th>citation_date</th>\n",
       "      <th>date</th>\n",
       "      <th>hour</th>\n",
       "      <th>author_nick_names</th>\n",
       "      <th>tweets</th>\n",
       "      <th>retweets</th>\n",
       "      <th>followers</th>\n",
       "      <th>followers_max</th>\n",
       "      <th>time_hour</th>\n",
       "    </tr>\n",
       "  </thead>\n",
       "  <tbody>\n",
       "    <tr>\n",
       "      <th>0</th>\n",
       "      <td>2015-01-17 17:59:06</td>\n",
       "      <td>20150117</td>\n",
       "      <td>9</td>\n",
       "      <td>ibrake4flowers</td>\n",
       "      <td>1</td>\n",
       "      <td>4</td>\n",
       "      <td>41.0</td>\n",
       "      <td>41.0</td>\n",
       "      <td>82</td>\n",
       "    </tr>\n",
       "    <tr>\n",
       "      <th>1</th>\n",
       "      <td>2015-01-14 18:08:26</td>\n",
       "      <td>20150114</td>\n",
       "      <td>10</td>\n",
       "      <td>tmswithmro</td>\n",
       "      <td>1</td>\n",
       "      <td>2</td>\n",
       "      <td>361.0</td>\n",
       "      <td>361.0</td>\n",
       "      <td>10</td>\n",
       "    </tr>\n",
       "    <tr>\n",
       "      <th>2</th>\n",
       "      <td>2015-01-17 18:17:43</td>\n",
       "      <td>20150117</td>\n",
       "      <td>10</td>\n",
       "      <td>rainbowkirk</td>\n",
       "      <td>1</td>\n",
       "      <td>2</td>\n",
       "      <td>6.0</td>\n",
       "      <td>6.0</td>\n",
       "      <td>82</td>\n",
       "    </tr>\n",
       "    <tr>\n",
       "      <th>3</th>\n",
       "      <td>2015-01-16 03:58:05</td>\n",
       "      <td>20150115</td>\n",
       "      <td>19</td>\n",
       "      <td>gary4freedom</td>\n",
       "      <td>1</td>\n",
       "      <td>2</td>\n",
       "      <td>1364.0</td>\n",
       "      <td>1364.0</td>\n",
       "      <td>44</td>\n",
       "    </tr>\n",
       "    <tr>\n",
       "      <th>4</th>\n",
       "      <td>2015-01-14 17:44:31</td>\n",
       "      <td>20150114</td>\n",
       "      <td>9</td>\n",
       "      <td>eddieedmundo</td>\n",
       "      <td>1</td>\n",
       "      <td>14</td>\n",
       "      <td>580.0</td>\n",
       "      <td>580.0</td>\n",
       "      <td>10</td>\n",
       "    </tr>\n",
       "  </tbody>\n",
       "</table>\n",
       "</div>"
      ],
      "text/plain": [
       "        citation_date      date  hour author_nick_names  tweets  retweets  \\\n",
       "0 2015-01-17 17:59:06  20150117     9    ibrake4flowers       1         4   \n",
       "1 2015-01-14 18:08:26  20150114    10        tmswithmro       1         2   \n",
       "2 2015-01-17 18:17:43  20150117    10       rainbowkirk       1         2   \n",
       "3 2015-01-16 03:58:05  20150115    19      gary4freedom       1         2   \n",
       "4 2015-01-14 17:44:31  20150114     9      eddieedmundo       1        14   \n",
       "\n",
       "   followers  followers_max  time_hour  \n",
       "0       41.0           41.0         82  \n",
       "1      361.0          361.0         10  \n",
       "2        6.0            6.0         82  \n",
       "3     1364.0         1364.0         44  \n",
       "4      580.0          580.0         10  "
      ]
     },
     "execution_count": 631,
     "metadata": {},
     "output_type": "execute_result"
    }
   ],
   "source": [
    "nfl.head()"
   ]
  },
  {
   "cell_type": "code",
   "execution_count": 632,
   "metadata": {},
   "outputs": [
    {
     "data": {
      "text/html": [
       "<div>\n",
       "<style>\n",
       "    .dataframe thead tr:only-child th {\n",
       "        text-align: right;\n",
       "    }\n",
       "\n",
       "    .dataframe thead th {\n",
       "        text-align: left;\n",
       "    }\n",
       "\n",
       "    .dataframe tbody tr th {\n",
       "        vertical-align: top;\n",
       "    }\n",
       "</style>\n",
       "<table border=\"1\" class=\"dataframe\">\n",
       "  <thead>\n",
       "    <tr style=\"text-align: right;\">\n",
       "      <th></th>\n",
       "      <th>citation_date</th>\n",
       "      <th>date</th>\n",
       "      <th>hour</th>\n",
       "      <th>author_nick_names</th>\n",
       "      <th>tweets</th>\n",
       "      <th>retweets</th>\n",
       "      <th>followers</th>\n",
       "      <th>followers_max</th>\n",
       "      <th>time_hour</th>\n",
       "    </tr>\n",
       "  </thead>\n",
       "  <tbody>\n",
       "    <tr>\n",
       "      <th>0</th>\n",
       "      <td>2015-01-17 04:21:37</td>\n",
       "      <td>20150116</td>\n",
       "      <td>20</td>\n",
       "      <td>beccadelgado67</td>\n",
       "      <td>1</td>\n",
       "      <td>2</td>\n",
       "      <td>22.0</td>\n",
       "      <td>22.0</td>\n",
       "      <td>68</td>\n",
       "    </tr>\n",
       "    <tr>\n",
       "      <th>1</th>\n",
       "      <td>2015-01-17 04:06:19</td>\n",
       "      <td>20150116</td>\n",
       "      <td>20</td>\n",
       "      <td>beccadelgado67</td>\n",
       "      <td>1</td>\n",
       "      <td>15</td>\n",
       "      <td>22.0</td>\n",
       "      <td>22.0</td>\n",
       "      <td>68</td>\n",
       "    </tr>\n",
       "    <tr>\n",
       "      <th>2</th>\n",
       "      <td>2015-01-14 20:22:37</td>\n",
       "      <td>20150114</td>\n",
       "      <td>12</td>\n",
       "      <td>waltskelliepic</td>\n",
       "      <td>1</td>\n",
       "      <td>2</td>\n",
       "      <td>858.0</td>\n",
       "      <td>858.0</td>\n",
       "      <td>12</td>\n",
       "    </tr>\n",
       "    <tr>\n",
       "      <th>3</th>\n",
       "      <td>2015-01-14 18:48:18</td>\n",
       "      <td>20150114</td>\n",
       "      <td>10</td>\n",
       "      <td>eventmarketer</td>\n",
       "      <td>1</td>\n",
       "      <td>2</td>\n",
       "      <td>14335.0</td>\n",
       "      <td>14335.0</td>\n",
       "      <td>11</td>\n",
       "    </tr>\n",
       "    <tr>\n",
       "      <th>4</th>\n",
       "      <td>2015-01-15 10:00:31</td>\n",
       "      <td>20150115</td>\n",
       "      <td>2</td>\n",
       "      <td>cqr111</td>\n",
       "      <td>1</td>\n",
       "      <td>7</td>\n",
       "      <td>1143.0</td>\n",
       "      <td>1143.0</td>\n",
       "      <td>26</td>\n",
       "    </tr>\n",
       "  </tbody>\n",
       "</table>\n",
       "</div>"
      ],
      "text/plain": [
       "        citation_date      date  hour author_nick_names  tweets  retweets  \\\n",
       "0 2015-01-17 04:21:37  20150116    20    beccadelgado67       1         2   \n",
       "1 2015-01-17 04:06:19  20150116    20    beccadelgado67       1        15   \n",
       "2 2015-01-14 20:22:37  20150114    12    waltskelliepic       1         2   \n",
       "3 2015-01-14 18:48:18  20150114    10     eventmarketer       1         2   \n",
       "4 2015-01-15 10:00:31  20150115     2            cqr111       1         7   \n",
       "\n",
       "   followers  followers_max  time_hour  \n",
       "0       22.0           22.0         68  \n",
       "1       22.0           22.0         68  \n",
       "2      858.0          858.0         12  \n",
       "3    14335.0        14335.0         11  \n",
       "4     1143.0         1143.0         26  "
      ]
     },
     "execution_count": 632,
     "metadata": {},
     "output_type": "execute_result"
    }
   ],
   "source": [
    "superbowl.head()"
   ]
  },
  {
   "cell_type": "code",
   "execution_count": 633,
   "metadata": {},
   "outputs": [],
   "source": [
    "nfl_time_hour = nfl.groupby('time_hour').sum()"
   ]
  },
  {
   "cell_type": "code",
   "execution_count": 634,
   "metadata": {},
   "outputs": [],
   "source": [
    "x = list(nfl_time_hour.index)\n",
    "y = list(nfl_time_hour.tweets)"
   ]
  },
  {
   "cell_type": "code",
   "execution_count": 635,
   "metadata": {
    "scrolled": false
   },
   "outputs": [
    {
     "data": {
      "image/png": "[encoded data removed]",
      "text/plain": [
       "<matplotlib.figure.Figure at 0x13a891588>"
      ]
     },
     "metadata": {},
     "output_type": "display_data"
    }
   ],
   "source": [
    "plt.figure(figsize=(12,7))\n",
    "plt.bar(x, y, width=x[1]-x[0])\n",
    "plt.xlabel('Hours')\n",
    "plt.ylabel('Tweets')\n",
    "plt.title('#NFL number of tweets in hours')\n",
    "plt.show()"
   ]
  },
  {
   "cell_type": "code",
   "execution_count": 636,
   "metadata": {
    "collapsed": true
   },
   "outputs": [],
   "source": [
    "superbowl_time_hour = superbowl.groupby('time_hour').sum()\n",
    "superbowl_time_hour_x = list(superbowl_time_hour.index)\n",
    "superbowl_time_hour_y = list(superbowl_time_hour.tweets)"
   ]
  },
  {
   "cell_type": "code",
   "execution_count": 637,
   "metadata": {},
   "outputs": [
    {
     "data": {
      "image/png": "[encoded data removed]",
      "text/plain": [
       "<matplotlib.figure.Figure at 0x145fbdcc0>"
      ]
     },
     "metadata": {},
     "output_type": "display_data"
    }
   ],
   "source": [
    "plt.figure(figsize=(12,7))\n",
    "plt.bar(superbowl_time_hour_x, superbowl_time_hour_y, width=x[1]-x[0])\n",
    "plt.xlabel('Hours')\n",
    "plt.ylabel('Tweets')\n",
    "plt.title('#Superbowl number of tweets in hours')\n",
    "plt.show()"
   ]
  },
  {
   "cell_type": "code",
   "execution_count": 638,
   "metadata": {
    "collapsed": true
   },
   "outputs": [],
   "source": [
    "# QUESTION 3: For each of your models, report your model's Mean Squared Error (MSE) and\n",
    "# R-squared measure. Also, analyse the significance of each feature using the t-test and p-value. You\n",
    "# may use the OLS in the libarary statsmodels in Python."
   ]
  },
  {
   "cell_type": "code",
   "execution_count": 639,
   "metadata": {},
   "outputs": [],
   "source": [
    "from statsmodels.regression.linear_model import RegressionResults\n",
    "import pytz\n",
    "import statsmodels.api as sm\n",
    "from statsmodels.formula.api import ols"
   ]
  },
  {
   "cell_type": "code",
   "execution_count": 640,
   "metadata": {
    "collapsed": true
   },
   "outputs": [],
   "source": [
    "def rmse(predictions, targets):\n",
    "    return np.sqrt(((predictions - targets) ** 2).mean())"
   ]
  },
  {
   "cell_type": "code",
   "execution_count": 641,
   "metadata": {},
   "outputs": [
    {
     "data": {
      "text/html": [
       "<div>\n",
       "<style>\n",
       "    .dataframe thead tr:only-child th {\n",
       "        text-align: right;\n",
       "    }\n",
       "\n",
       "    .dataframe thead th {\n",
       "        text-align: left;\n",
       "    }\n",
       "\n",
       "    .dataframe tbody tr th {\n",
       "        vertical-align: top;\n",
       "    }\n",
       "</style>\n",
       "<table border=\"1\" class=\"dataframe\">\n",
       "  <thead>\n",
       "    <tr style=\"text-align: right;\">\n",
       "      <th></th>\n",
       "      <th>citation_date</th>\n",
       "      <th>date</th>\n",
       "      <th>hour</th>\n",
       "      <th>author_nick_names</th>\n",
       "      <th>tweets</th>\n",
       "      <th>retweets</th>\n",
       "      <th>followers</th>\n",
       "      <th>followers_max</th>\n",
       "    </tr>\n",
       "  </thead>\n",
       "  <tbody>\n",
       "    <tr>\n",
       "      <th>0</th>\n",
       "      <td>2015-01-17 18:19:38</td>\n",
       "      <td>20150117</td>\n",
       "      <td>10</td>\n",
       "      <td>rejinseattle</td>\n",
       "      <td>1</td>\n",
       "      <td>5</td>\n",
       "      <td>1752.0</td>\n",
       "      <td>1752.0</td>\n",
       "    </tr>\n",
       "    <tr>\n",
       "      <th>1</th>\n",
       "      <td>2015-01-14 18:18:56</td>\n",
       "      <td>20150114</td>\n",
       "      <td>10</td>\n",
       "      <td>emq4444</td>\n",
       "      <td>1</td>\n",
       "      <td>2</td>\n",
       "      <td>258.0</td>\n",
       "      <td>258.0</td>\n",
       "    </tr>\n",
       "    <tr>\n",
       "      <th>2</th>\n",
       "      <td>2015-01-17 04:21:59</td>\n",
       "      <td>20150116</td>\n",
       "      <td>20</td>\n",
       "      <td>beccadelgado67</td>\n",
       "      <td>1</td>\n",
       "      <td>5</td>\n",
       "      <td>22.0</td>\n",
       "      <td>22.0</td>\n",
       "    </tr>\n",
       "    <tr>\n",
       "      <th>3</th>\n",
       "      <td>2015-01-17 04:21:37</td>\n",
       "      <td>20150116</td>\n",
       "      <td>20</td>\n",
       "      <td>beccadelgado67</td>\n",
       "      <td>1</td>\n",
       "      <td>2</td>\n",
       "      <td>22.0</td>\n",
       "      <td>22.0</td>\n",
       "    </tr>\n",
       "    <tr>\n",
       "      <th>4</th>\n",
       "      <td>2015-01-17 04:18:56</td>\n",
       "      <td>20150116</td>\n",
       "      <td>20</td>\n",
       "      <td>beccadelgado67</td>\n",
       "      <td>1</td>\n",
       "      <td>2</td>\n",
       "      <td>22.0</td>\n",
       "      <td>22.0</td>\n",
       "    </tr>\n",
       "  </tbody>\n",
       "</table>\n",
       "</div>"
      ],
      "text/plain": [
       "        citation_date      date  hour author_nick_names  tweets  retweets  \\\n",
       "0 2015-01-17 18:19:38  20150117    10      rejinseattle       1         5   \n",
       "1 2015-01-14 18:18:56  20150114    10           emq4444       1         2   \n",
       "2 2015-01-17 04:21:59  20150116    20    beccadelgado67       1         5   \n",
       "3 2015-01-17 04:21:37  20150116    20    beccadelgado67       1         2   \n",
       "4 2015-01-17 04:18:56  20150116    20    beccadelgado67       1         2   \n",
       "\n",
       "   followers  followers_max  \n",
       "0     1752.0         1752.0  \n",
       "1      258.0          258.0  \n",
       "2       22.0           22.0  \n",
       "3       22.0           22.0  \n",
       "4       22.0           22.0  "
      ]
     },
     "execution_count": 641,
     "metadata": {},
     "output_type": "execute_result"
    }
   ],
   "source": [
    "gohawks.head()"
   ]
  },
  {
   "cell_type": "code",
   "execution_count": null,
   "metadata": {},
   "outputs": [],
   "source": []
  },
  {
   "cell_type": "code",
   "execution_count": 644,
   "metadata": {},
   "outputs": [],
   "source": [
    "gohawks_agg = gohawks.groupby(['date','hour']).agg(\n",
    "    {'hour' : np.max,\n",
    "     'tweets' : np.sum,\n",
    "     'retweets' : np.sum,\n",
    "     'followers' : np.sum,\n",
    "     'followers_max': np.max\n",
    "    })\n",
    "\n",
    "\n"
   ]
  },
  {
   "cell_type": "code",
   "execution_count": 645,
   "metadata": {
    "scrolled": true
   },
   "outputs": [
    {
     "data": {
      "text/html": [
       "<div>\n",
       "<style>\n",
       "    .dataframe thead tr:only-child th {\n",
       "        text-align: right;\n",
       "    }\n",
       "\n",
       "    .dataframe thead th {\n",
       "        text-align: left;\n",
       "    }\n",
       "\n",
       "    .dataframe tbody tr th {\n",
       "        vertical-align: top;\n",
       "    }\n",
       "</style>\n",
       "<table border=\"1\" class=\"dataframe\">\n",
       "  <thead>\n",
       "    <tr style=\"text-align: right;\">\n",
       "      <th></th>\n",
       "      <th></th>\n",
       "      <th>hour</th>\n",
       "      <th>tweets</th>\n",
       "      <th>retweets</th>\n",
       "      <th>followers</th>\n",
       "      <th>followers_max</th>\n",
       "    </tr>\n",
       "    <tr>\n",
       "      <th>date</th>\n",
       "      <th>hour</th>\n",
       "      <th></th>\n",
       "      <th></th>\n",
       "      <th></th>\n",
       "      <th></th>\n",
       "      <th></th>\n",
       "    </tr>\n",
       "  </thead>\n",
       "  <tbody>\n",
       "    <tr>\n",
       "      <th rowspan=\"5\" valign=\"top\">20150114</th>\n",
       "      <th>0</th>\n",
       "      <td>0</td>\n",
       "      <td>29</td>\n",
       "      <td>459</td>\n",
       "      <td>23814.0</td>\n",
       "      <td>12922.0</td>\n",
       "    </tr>\n",
       "    <tr>\n",
       "      <th>1</th>\n",
       "      <td>1</td>\n",
       "      <td>13</td>\n",
       "      <td>32</td>\n",
       "      <td>7774.0</td>\n",
       "      <td>2592.0</td>\n",
       "    </tr>\n",
       "    <tr>\n",
       "      <th>2</th>\n",
       "      <td>2</td>\n",
       "      <td>14</td>\n",
       "      <td>378</td>\n",
       "      <td>26891.0</td>\n",
       "      <td>11886.0</td>\n",
       "    </tr>\n",
       "    <tr>\n",
       "      <th>3</th>\n",
       "      <td>3</td>\n",
       "      <td>9</td>\n",
       "      <td>28</td>\n",
       "      <td>19094.0</td>\n",
       "      <td>11886.0</td>\n",
       "    </tr>\n",
       "    <tr>\n",
       "      <th>4</th>\n",
       "      <td>4</td>\n",
       "      <td>24</td>\n",
       "      <td>62</td>\n",
       "      <td>31949.0</td>\n",
       "      <td>9772.0</td>\n",
       "    </tr>\n",
       "  </tbody>\n",
       "</table>\n",
       "</div>"
      ],
      "text/plain": [
       "               hour  tweets  retweets  followers  followers_max\n",
       "date     hour                                                  \n",
       "20150114 0        0      29       459    23814.0        12922.0\n",
       "         1        1      13        32     7774.0         2592.0\n",
       "         2        2      14       378    26891.0        11886.0\n",
       "         3        3       9        28    19094.0        11886.0\n",
       "         4        4      24        62    31949.0         9772.0"
      ]
     },
     "execution_count": 645,
     "metadata": {},
     "output_type": "execute_result"
    }
   ],
   "source": [
    "gohawks_agg.head()"
   ]
  },
  {
   "cell_type": "code",
   "execution_count": 646,
   "metadata": {},
   "outputs": [],
   "source": [
    "# http://www.statsmodels.org/dev/examples/notebooks/generated/regression_plots.html"
   ]
  },
  {
   "cell_type": "code",
   "execution_count": null,
   "metadata": {
    "collapsed": true
   },
   "outputs": [],
   "source": []
  },
  {
   "cell_type": "code",
   "execution_count": 651,
   "metadata": {},
   "outputs": [],
   "source": [
    "model = ols(\"tweets ~  retweets + followers + followers_max\", data=gohawks_agg).fit()"
   ]
  },
  {
   "cell_type": "code",
   "execution_count": 653,
   "metadata": {},
   "outputs": [
    {
     "name": "stdout",
     "output_type": "stream",
     "text": [
      "                            OLS Regression Results                            \n",
      "==============================================================================\n",
      "Dep. Variable:                 tweets   R-squared:                       1.000\n",
      "Model:                            OLS   Adj. R-squared:                  1.000\n",
      "Method:                 Least Squares   F-statistic:                 1.395e+29\n",
      "Date:                Sun, 27 May 2018   Prob (F-statistic):               0.00\n",
      "Time:                        21:28:31   Log-Likelihood:                 12859.\n",
      "No. Observations:                 570   AIC:                        -2.571e+04\n",
      "Df Residuals:                     565   BIC:                        -2.569e+04\n",
      "Df Model:                           4                                         \n",
      "Covariance Type:            nonrobust                                         \n",
      "=================================================================================\n",
      "                    coef    std err          t      P>|t|      [0.025      0.975]\n",
      "---------------------------------------------------------------------------------\n",
      "Intercept      3.512e-11   1.74e-12     20.130      0.000    3.17e-11    3.85e-11\n",
      "tweets            1.0000   7.24e-15   1.38e+14      0.000       1.000       1.000\n",
      "retweets       6.065e-15   1.92e-15      3.160      0.002     2.3e-15    9.83e-15\n",
      "followers      1.529e-17   3.53e-18      4.336      0.000    8.36e-18    2.22e-17\n",
      "followers_max -2.754e-17   6.55e-18     -4.203      0.000   -4.04e-17   -1.47e-17\n",
      "==============================================================================\n",
      "Omnibus:                      885.531   Durbin-Watson:                   0.180\n",
      "Prob(Omnibus):                  0.000   Jarque-Bera (JB):           297109.902\n",
      "Skew:                          -8.774   Prob(JB):                         0.00\n",
      "Kurtosis:                     113.462   Cond. No.                     2.86e+06\n",
      "==============================================================================\n",
      "\n",
      "Warnings:\n",
      "[1] Standard Errors assume that the covariance matrix of the errors is correctly specified.\n",
      "[2] The condition number is large, 2.86e+06. This might indicate that there are\n",
      "strong multicollinearity or other numerical problems.\n"
     ]
    }
   ],
   "source": [
    "print(model.summary())"
   ]
  },
  {
   "cell_type": "code",
   "execution_count": 649,
   "metadata": {
    "scrolled": false
   },
   "outputs": [
    {
     "data": {
      "image/png": "[encoded data removed]",
      "text/plain": [
       "<matplotlib.figure.Figure at 0x15621bba8>"
      ]
     },
     "metadata": {},
     "output_type": "display_data"
    }
   ],
   "source": [
    "fig, ax = plt.subplots(figsize=(12,8))\n",
    "fig = sm.graphics.influence_plot(model, ax=ax, criterion=\"cooks\")\n",
    "plt.show()"
   ]
  },
  {
   "cell_type": "code",
   "execution_count": 650,
   "metadata": {},
   "outputs": [
    {
     "data": {
      "image/png": "[encoded data removed]",
      "text/plain": [
       "<matplotlib.figure.Figure at 0x13a831fd0>"
      ]
     },
     "metadata": {},
     "output_type": "display_data"
    }
   ],
   "source": [
    "fig = plt.figure(figsize=(12,8))\n",
    "fig = sm.graphics.plot_partregress_grid(model, fig=fig)\n",
    "plt.show()"
   ]
  },
  {
   "cell_type": "code",
   "execution_count": null,
   "metadata": {},
   "outputs": [],
   "source": []
  },
  {
   "cell_type": "code",
   "execution_count": null,
   "metadata": {
    "collapsed": true
   },
   "outputs": [],
   "source": []
  },
  {
   "cell_type": "code",
   "execution_count": null,
   "metadata": {},
   "outputs": [],
   "source": []
  },
  {
   "cell_type": "code",
   "execution_count": null,
   "metadata": {
    "collapsed": true
   },
   "outputs": [],
   "source": []
  },
  {
   "cell_type": "code",
   "execution_count": null,
   "metadata": {
    "collapsed": true
   },
   "outputs": [],
   "source": []
  },
  {
   "cell_type": "code",
   "execution_count": null,
   "metadata": {
    "collapsed": true
   },
   "outputs": [],
   "source": []
  }
 ],
 "metadata": {
  "kernelspec": {
   "display_name": "Python 3",
   "language": "python",
   "name": "python3"
  },
  "language_info": {
   "codemirror_mode": {
    "name": "ipython",
    "version": 3
   },
   "file_extension": ".py",
   "mimetype": "text/x-python",
   "name": "python",
   "nbconvert_exporter": "python",
   "pygments_lexer": "ipython3",
   "version": "3.6.1"
  }
 },
 "nbformat": 4,
 "nbformat_minor": 2
}
