{
 "cells": [
  {
   "cell_type": "code",
   "execution_count": 64,
   "metadata": {
    "collapsed": true
   },
   "outputs": [],
   "source": [
    "from sklearn.datasets import fetch_20newsgroups\n",
    "from matplotlib import pyplot as plt\n",
    "import numpy as np\n",
    "from numpy import array\n",
    "\n",
    "from sklearn.feature_extraction.text import CountVectorizer\n",
    "from sklearn.feature_extraction.text import TfidfTransformer\n",
    "\n",
    "from sklearn import metrics\n",
    "from sklearn.cluster import KMeans\n",
    "\n",
    "import time\n",
    "\n",
    "import pickle"
   ]
  },
  {
   "cell_type": "code",
   "execution_count": 65,
   "metadata": {
    "collapsed": true
   },
   "outputs": [],
   "source": [
    "computer_technology_subclasses = ['comp.graphics',\n",
    "                                  'comp.os.ms-windows.misc',\n",
    "                                  'comp.sys.ibm.pc.hardware',\n",
    "                                  'comp.sys.mac.hardware']\n",
    "\n",
    "recreational_activity_subclasses = ['rec.autos',\n",
    "                                    'rec.motorcycles',\n",
    "                                    'rec.sport.baseball',\n",
    "                                    'rec.sport.hockey']\n",
    "\n",
    "categories = computer_technology_subclasses + recreational_activity_subclasses"
   ]
  },
  {
   "cell_type": "code",
   "execution_count": 66,
   "metadata": {
    "collapsed": false
   },
   "outputs": [],
   "source": [
    "dataset = fetch_20newsgroups(subset='all',categories=categories, shuffle=True, \n",
    "                             random_state=42, remove=('headers', 'footers'))\n",
    "\n",
    "dataset_binary_target = [0 if t<4 else 1 for t in dataset.target]"
   ]
  },
  {
   "cell_type": "code",
   "execution_count": 67,
   "metadata": {
    "collapsed": false
   },
   "outputs": [
    {
     "name": "stdout",
     "output_type": "stream",
     "text": [
      "QUESTION 1: Report the dimensions of the TF-IDF matrix you get\n",
      "\n",
      "X_tfidf: (7882, 23522)\n"
     ]
    }
   ],
   "source": [
    "# Generate TF-IDF Data, with min_df=3, removed stop words, no stemming\n",
    "vectorizer = CountVectorizer(min_df=3, stop_words='english')\n",
    "X_counts = vectorizer.fit_transform(dataset.data)\n",
    "\n",
    "tfidf_transformer = TfidfTransformer()\n",
    "X_tfidf = tfidf_transformer.fit_transform(X_counts)\n",
    "\n",
    "# Print the shape of the datasets\n",
    "print(\"QUESTION 1: Report the dimensions of the TF-IDF matrix you get\\n\")\n",
    "print('X_tfidf:',X_tfidf.shape)\n"
   ]
  },
  {
   "cell_type": "code",
   "execution_count": 68,
   "metadata": {
    "collapsed": false
   },
   "outputs": [
    {
     "name": "stdout",
     "output_type": "stream",
     "text": [
      "Finished clustering in 6.312490 seconds\n"
     ]
    }
   ],
   "source": [
    "# Apply K-means clustering with k=2 using the TF-IDF data. Use random_state=0, max_iter >= 1000, n_init>=30.\n",
    "N_CLUSTERS = 2\n",
    "RANDOM_STATE = 0\n",
    "MAX_ITER = 1000\n",
    "N_INIT = 1\n",
    "\n",
    "km = KMeans(n_clusters=N_CLUSTERS,random_state=RANDOM_STATE,max_iter=MAX_ITER,n_init=N_INIT)\n",
    "start = time.time()\n",
    "km.fit(X_tfidf)\n",
    "print(\"Finished clustering with %i seeds in %f seconds\" % (time.time()-start))\n"
   ]
  },
  {
   "cell_type": "code",
   "execution_count": 62,
   "metadata": {
    "collapsed": false
   },
   "outputs": [
    {
     "name": "stdout",
     "output_type": "stream",
     "text": [
      "QUESTION 2: Show Contingency Matrix:\n",
      "[[3214  689]\n",
      " [  64 3915]]\n"
     ]
    }
   ],
   "source": [
    "print(\"QUESTION 2: Show Contingency Matrix:\")\n",
    "contin_matrix = metrics.cluster.contingency_matrix(dataset_binary_target, km.labels_)\n",
    "print(contin_matrix)"
   ]
  },
  {
   "cell_type": "code",
   "execution_count": 63,
   "metadata": {
    "collapsed": false
   },
   "outputs": [
    {
     "name": "stdout",
     "output_type": "stream",
     "text": [
      "QUESTION 3: Report 5 Measures for K-Means Clustering\n",
      " \n",
      "Homogeneity Score: 0.586555\n",
      "Completeness Score: 0.598799\n",
      "V-Measure Score: 0.592614\n",
      "Adjusted Rand Index: 0.654327\n",
      "Adjusted Mutual Information: 0.586517\n"
     ]
    }
   ],
   "source": [
    "# Homogeneity, completeness, V-measure, adjusted Rand Index, adjusted mutual information score\n",
    "\n",
    "homogeneity = metrics.homogeneity_score(dataset_binary_target, km.labels_)\n",
    "completeness = metrics.completeness_score(dataset_binary_target, km.labels_)\n",
    "v_measure = metrics.v_measure_score(dataset_binary_target, km.labels_)\n",
    "adjusted_rand_index = metrics.adjusted_rand_score(dataset_binary_target, km.labels_)\n",
    "adjusted_mutual_info = metrics.adjusted_mutual_info_score(dataset_binary_target, km.labels_)\n",
    "\n",
    "print(\"QUESTION 3: Report 5 Measures for K-Means Clustering\\n \")\n",
    "print(\"Homogeneity Score: %f\" % homogeneity)\n",
    "print(\"Completeness Score: %f\" % completeness)\n",
    "print(\"V-Measure Score: %f\" % v_measure)\n",
    "print(\"Adjusted Rand Index: %f\" % adjusted_rand_index)\n",
    "print(\"Adjusted Mutual Information: %f\" % adjusted_mutual_info)"
   ]
  },
  {
   "cell_type": "code",
   "execution_count": null,
   "metadata": {
    "collapsed": true
   },
   "outputs": [],
   "source": []
  }
 ],
 "metadata": {
  "kernelspec": {
   "display_name": "Python 3",
   "language": "python",
   "name": "python3"
  },
  "language_info": {
   "codemirror_mode": {
    "name": "ipython",
    "version": 3
   },
   "file_extension": ".py",
   "mimetype": "text/x-python",
   "name": "python",
   "nbconvert_exporter": "python",
   "pygments_lexer": "ipython3",
   "version": "3.6.0"
  }
 },
 "nbformat": 4,
 "nbformat_minor": 2
}
