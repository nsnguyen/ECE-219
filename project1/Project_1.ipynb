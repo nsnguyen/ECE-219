{
 "cells": [
  {
   "cell_type": "markdown",
   "metadata": {},
   "source": [
    "# Project 1\n",
    "## Team members:\n",
    "### Nguyen N\n",
    "### Brandon H\n",
    "### Jennifer M\n",
    "### Sam Y"
   ]
  },
  {
   "cell_type": "code",
   "execution_count": 1,
   "metadata": {
    "collapsed": true
   },
   "outputs": [],
   "source": [
    "from sklearn.datasets import fetch_20newsgroups\n",
    "from matplotlib import pyplot as plt\n",
    "import numpy as np\n",
    "from numpy import array\n",
    "\n",
    "from sklearn.feature_extraction.text import CountVectorizer\n",
    "from sklearn.feature_extraction.text import TfidfTransformer\n",
    "from sklearn.feature_extraction.text import TfidfVectorizer\n",
    "\n",
    "\n",
    "from sklearn.decomposition import TruncatedSVD\n",
    "from sklearn.decomposition import NMF\n",
    "\n",
    "from sklearn.model_selection import GridSearchCV\n",
    "\n",
    "from sklearn.naive_bayes import MultinomialNB\n",
    "from sklearn.linear_model import LogisticRegression\n",
    "\n",
    "from sklearn import metrics\n",
    "from sklearn import svm\n",
    "from sklearn.svm import SVC # for problem 3\n",
    "\n",
    "from sklearn.metrics import confusion_matrix\n",
    "from sklearn.metrics import accuracy_score\n",
    "from sklearn.metrics import recall_score # recall scorer\n",
    "from sklearn.metrics import precision_score # precision scorer\n",
    "from sklearn.metrics import roc_curve # ROC curve\n",
    "from sklearn.metrics import f1_score # f1\n",
    "\n",
    "import nltk\n",
    "from nltk import pos_tag\n",
    "\n",
    "import itertools\n",
    "\n",
    "# nltk.download(\"punkt\")\n",
    "# nltk.download('averaged_perceptron_tagger')\n",
    "# nltk.download('wordnet')\n",
    "\n",
    "import pandas as pd\n"
   ]
  },
  {
   "cell_type": "markdown",
   "metadata": {},
   "source": [
    "# Helper Methods"
   ]
  },
  {
   "cell_type": "code",
   "execution_count": 2,
   "metadata": {
    "collapsed": true
   },
   "outputs": [],
   "source": [
    "# I make histogram\n",
    "def plot_histogram(dataset_target, dataset_target_names):\n",
    "    number_of_documents = []\n",
    "\n",
    "    for i in range(len(dataset_target_names)):\n",
    "        number_of_documents.append(len([x for x in dataset_target if x == i]))\n",
    "\n",
    "    #plot histogram\n",
    "    x_labels = dataset_target_names\n",
    "    fig, ax = plt.subplots()\n",
    "    ax.set_xticks([i+0.35 for i in range(1,9)])\n",
    "    ax.set_xticklabels(x_labels, rotation=45, ha='right', fontsize = 12)\n",
    "\n",
    "    rects = plt.bar([i for i in range(1,9)], number_of_documents, align='edge')\n",
    "    plt.xlabel('Topics', fontsize = 14)\n",
    "    plt.ylabel('Number of Documents', fontsize = 14)\n",
    "    plt.title('Number of documents per topic ', fontsize = 18)\n",
    "    plt.axis([0.5,9,0,1100])\n",
    "\n",
    "    for rect in rects:\n",
    "        height = rect.get_height()\n",
    "        ax.text(rect.get_x() + rect.get_width()/2., 1*height, '%d' % int(height), ha='center', va='bottom')\n",
    "    print('Length: ' + str(len(dataset_target)))\n",
    "    plt.show()\n",
    "\n",
    "       \n",
    "# I morph stuff.\n",
    "def penn2morphy(penntag):\n",
    "    \"\"\" Converts Penn Treebank tags to WordNet. \"\"\"\n",
    "    morphy_tag = {'NN':'n', 'JJ':'a',\n",
    "                  'VB':'v', 'RB':'r'}\n",
    "    try:\n",
    "        return morphy_tag[penntag[:2]]\n",
    "    except:\n",
    "        return 'n' \n",
    "\n",
    "# I lematize stuff.\n",
    "def lemmatize_parse(text):\n",
    "    wnl = nltk.wordnet.WordNetLemmatizer()\n",
    "    lemmatize = []\n",
    "    for word, tag in pos_tag(nltk.word_tokenize(text)):\n",
    "        if(word.isdigit() or word.isalpha()):\n",
    "            lemmatize.append(wnl.lemmatize(word.lower(), pos=penn2morphy(tag)))\n",
    "    return lemmatize\n",
    "\n",
    "\n",
    "# Oh look, I can make confusion matrix\n",
    "def plot_confusion_matrix(cm,\n",
    "                          normalize=False,\n",
    "                          title='Confusion matrix',\n",
    "                          cmap=plt.cm.Blues,\n",
    "                          classes = ['Computer\\n Technology', 'Recreational\\n Activity']\n",
    "):\n",
    "    \"\"\"\n",
    "    This function prints and plots the confusion matrix.\n",
    "    Normalization can be applied by setting `normalize=True`.\n",
    "    \"\"\"\n",
    "    if normalize:\n",
    "        cm = cm.astype('float') / cm.sum(axis=1)[:, np.newaxis]\n",
    "        print(\"Normalized confusion matrix\")\n",
    "    else:\n",
    "        print('Confusion matrix, without normalization')\n",
    "\n",
    "    print(cm)\n",
    "\n",
    "    plt.imshow(cm, interpolation='nearest', cmap=cmap)\n",
    "    plt.title(title)\n",
    "    plt.colorbar()\n",
    "    tick_marks = np.arange(len(classes))\n",
    "    plt.xticks(tick_marks, classes, rotation=45)\n",
    "    plt.yticks(tick_marks, classes)\n",
    "\n",
    "    fmt = '.2f' if normalize else 'd'\n",
    "    thresh = cm.max() / 2.\n",
    "    for i, j in itertools.product(range(cm.shape[0]), range(cm.shape[1])):\n",
    "        plt.text(j, i, format(cm[i, j], fmt),\n",
    "                 horizontalalignment=\"center\",\n",
    "                 color=\"white\" if cm[i, j] > thresh else \"black\")\n",
    "\n",
    "    plt.tight_layout()\n",
    "    plt.ylabel('True label')\n",
    "    plt.xlabel('Predicted label')\n",
    "    \n",
    "    \n",
    "# Just using this for logistic regression part, maybe will be useful for other parts too (not using pipes)\n",
    "def roc_plotter(model, data, labels):\n",
    "    scores = model.decision_function(data)\n",
    "    fpr, tpr, thresholds = metrics.roc_curve(labels,scores,pos_label=1)\n",
    "    plt.plot(fpr,tpr)\n",
    "    plt.xlabel('False Positive Rate')\n",
    "    plt.ylabel('True Positive Rate')\n",
    "    plt.title('ROC Curve')\n",
    "    plt.show()\n",
    "    \n",
    "\n"
   ]
  },
  {
   "cell_type": "markdown",
   "metadata": {},
   "source": [
    "### QUESTION 1: To get started, plot a histogram of the number of training documents per category to check if they are evenly distributed."
   ]
  },
  {
   "cell_type": "code",
   "execution_count": 3,
   "metadata": {
    "collapsed": true
   },
   "outputs": [],
   "source": [
    "computer_technology_subclasses = ['comp.graphics',\n",
    "                                  'comp.os.ms-windows.misc',\n",
    "                                  'comp.sys.ibm.pc.hardware',\n",
    "                                  'comp.sys.mac.hardware']\n",
    "\n",
    "recreational_activity_subclasses = ['rec.autos',\n",
    "                                    'rec.motorcycles',\n",
    "                                    'rec.sport.baseball',\n",
    "                                    'rec.sport.hockey']\n",
    "\n",
    "categories = computer_technology_subclasses + recreational_activity_subclasses"
   ]
  },
  {
   "cell_type": "code",
   "execution_count": 5,
   "metadata": {
    "collapsed": true
   },
   "outputs": [],
   "source": [
    "train_dataset = fetch_20newsgroups(subset='train', categories=categories,\n",
    "shuffle=True, random_state=42)\n",
    "\n",
    "test_dataset = fetch_20newsgroups(subset='test', categories=categories,\n",
    "shuffle=True, random_state=42)\n",
    "\n",
    "\n",
    "\n",
    "\n",
    "# comp_tech_train = fetch_20newsgroups(subset='train', categories=computer_technology_subclasses, shuffle=True, random_state=42, remove=('headers', 'footers'))\n",
    "# rec_act_train = fetch_20newsgroups(subset='train', categories=recreational_activity_subclasses, shuffle=True, random_state=42, remove=('headers', 'footers'))\n",
    "# comp_tech_test = fetch_20newsgroups(subset='test', categories=computer_technology_subclasses, shuffle=True, random_state=42, remove=('headers', 'footers'))\n",
    "# rec_act_test = fetch_20newsgroups(subset='test', categories=recreational_activity_subclasses, shuffle=True, random_state=42, remove=('headers', 'footers'))\n",
    "\n",
    "\n",
    "# train_target_names = data_dict['Computer Technology Train']['target_names'] + data_dict['Recreational Activity Train']['target_names']\n",
    "\n",
    "# test_target = data_dict['Computer Technology Test']['target'] + data_dict['Recreational Activity Test']['target']\n",
    "# test_target_names = data_dict['Computer Technology Test']['target_names'] + data_dict['Recreational Activity Test']['target_names']\n",
    "\n"
   ]
  },
  {
   "cell_type": "markdown",
   "metadata": {},
   "source": [
    "# Turn Multiclass into Binary"
   ]
  },
  {
   "cell_type": "code",
   "execution_count": 6,
   "metadata": {},
   "outputs": [
    {
     "name": "stdout",
     "output_type": "stream",
     "text": [
      "Sanity Check!\n",
      "\n",
      "Training Set\n",
      "Original train_dataset.target: [6 7 4 2 1 3 0 7 5 3 0 5 5 5 3 1 3 0 0 2]\n",
      "Binarized train_dataset.target:[1 1 1 0 0 0 0 1 1 0 0 1 1 1 0 0 0 0 0 0]\n",
      "\n",
      "Test Set\n",
      "Original test_dataset.target:  [3 2 3 3 2 3 2 6 0 1 0 1 7 7 1 5 7 2 0 1]\n",
      "Binarized test_dataset.target: [0 0 0 0 0 0 0 1 0 0 0 0 1 1 0 1 1 0 0 0]\n"
     ]
    }
   ],
   "source": [
    "binary_train_target = train_dataset.target.copy()\n",
    "binary_test_target = test_dataset.target.copy()\n",
    "computer_class_indices = [0,1,2,3]\n",
    "recreational_class_indices = [4,5,6,7]\n",
    "\n",
    "computer_class_label = 0\n",
    "recreational_class_label = 1\n",
    "\n",
    "# Binarize computer-class labels\n",
    "for i in computer_class_indices:\n",
    "    binary_train_target[binary_train_target == i] = computer_class_label\n",
    "    binary_test_target[binary_test_target == i] = computer_class_label\n",
    "\n",
    "# Binarize recreational-class labels\n",
    "for i in recreational_class_indices:\n",
    "    binary_train_target[binary_train_target==i] = recreational_class_label\n",
    "    binary_test_target[binary_test_target == i] = recreational_class_label\n",
    " \n",
    "print(\"Sanity Check!\\n\")\n",
    "print(\"Training Set\")\n",
    "print(\"Original train_dataset.target: \" + str(train_dataset.target[0:20]))\n",
    "print(\"Binarized train_dataset.target:\" + str(binary_train_target[0:20]))\n",
    "print(\"\\nTest Set\")\n",
    "print(\"Original test_dataset.target:  \" + str(test_dataset.target[0:20]))\n",
    "print(\"Binarized test_dataset.target: \" + str(binary_test_target[0:20]))"
   ]
  },
  {
   "cell_type": "code",
   "execution_count": 7,
   "metadata": {},
   "outputs": [
    {
     "name": "stdout",
     "output_type": "stream",
     "text": [
      "Train Dataset\n",
      "Length: 4732\n"
     ]
    },
    {
     "data": {
      "image/png": "[encoded data removed]",
      "text/plain": [
       "<matplotlib.figure.Figure at 0x111deacf8>"
      ]
     },
     "metadata": {},
     "output_type": "display_data"
    },
    {
     "name": "stdout",
     "output_type": "stream",
     "text": [
      "Test Dataset\n",
      "Length: 3150\n"
     ]
    },
    {
     "data": {
      "image/png": "[encoded data removed]",
      "text/plain": [
       "<matplotlib.figure.Figure at 0x116ceae48>"
      ]
     },
     "metadata": {},
     "output_type": "display_data"
    }
   ],
   "source": [
    "print('Train Dataset')\n",
    "plot_histogram(train_dataset.target, train_dataset.target_names)\n",
    "\n",
    "print('Test Dataset')\n",
    "plot_histogram(test_dataset.target, test_dataset.target_names)"
   ]
  },
  {
   "cell_type": "markdown",
   "metadata": {},
   "source": [
    "# Binary Classification"
   ]
  },
  {
   "cell_type": "markdown",
   "metadata": {
    "collapsed": true
   },
   "source": [
    "## Feature Extraction"
   ]
  },
  {
   "cell_type": "code",
   "execution_count": 8,
   "metadata": {
    "collapsed": true
   },
   "outputs": [],
   "source": [
    "### QUESTION 2: Use the following specs to extract features from the textual data:\n",
    "### • Use the default stopwords of the CountVectorizer\n",
    "### • Exclude terms that are numbers (e.g. “123”, “-45”, “6.7” etc.)\n",
    "### • Perform lemmatization with nltk.wordnet.WordNetLemmatizer and pos_tag\n",
    "### • Use min_df=3\n",
    "### Report the shape of the TF-IDF matrices of the train and test subsets respectively."
   ]
  },
  {
   "cell_type": "code",
   "execution_count": 9,
   "metadata": {
    "collapsed": true
   },
   "outputs": [],
   "source": [
    "# set lemmatize \n",
    "train_data_lemmatized = []\n",
    "for item in train_dataset.data:\n",
    "    train_data_lemmatized.append(' '.join(lemmatize_parse(item)))\n",
    "    \n",
    "test_dataset_lemmatized = []\n",
    "for item in test_dataset.data:\n",
    "    test_dataset_lemmatized.append(' '.join(lemmatize_parse(item)))\n",
    "    \n",
    "train_dataset.data = train_data_lemmatized\n",
    "test_dataset.data = test_dataset_lemmatized"
   ]
  },
  {
   "cell_type": "code",
   "execution_count": 10,
   "metadata": {
    "collapsed": true
   },
   "outputs": [],
   "source": [
    "#Using TfidfVectorizer()\n",
    "vectorizer = TfidfVectorizer(min_df = 3, stop_words='english')\n",
    "X_train_tfidf = vectorizer.fit_transform(train_dataset.data)\n",
    "X_test_tfidf = vectorizer.transform(test_dataset.data)"
   ]
  },
  {
   "cell_type": "code",
   "execution_count": 11,
   "metadata": {},
   "outputs": [
    {
     "name": "stdout",
     "output_type": "stream",
     "text": [
      "X_train_tfidf: (4732, 12810)\n",
      "X_test_tfidf: (3150, 12810)\n"
     ]
    }
   ],
   "source": [
    "print('X_train_tfidf:',X_train_tfidf.shape)\n",
    "print('X_test_tfidf:', X_test_tfidf.shape)"
   ]
  },
  {
   "cell_type": "code",
   "execution_count": 49,
   "metadata": {
    "collapsed": true
   },
   "outputs": [],
   "source": [
    "# # vectorize - fit and transform\n",
    "# vectorizer = CountVectorizer(min_df=3, stop_words='english')\n",
    "# X_train_counts = vectorizer.fit_transform(train_dataset.data)\n",
    "# X_test_counts = vectorizer.transform(test_dataset.data)"
   ]
  },
  {
   "cell_type": "code",
   "execution_count": 50,
   "metadata": {
    "collapsed": true
   },
   "outputs": [],
   "source": [
    "# # generate TFxIDF\n",
    "# tfidf_transformer = TfidfTransformer()\n",
    "# X_train_tfidf = tfidf_transformer.fit_transform(X_train_counts)\n",
    "# X_test_tfidf = tfidf_transformer.transform(X_test_counts)\n"
   ]
  },
  {
   "cell_type": "code",
   "execution_count": 12,
   "metadata": {},
   "outputs": [],
   "source": [
    "# X_train_tfidf.shape"
   ]
  },
  {
   "cell_type": "code",
   "execution_count": 13,
   "metadata": {},
   "outputs": [],
   "source": [
    "# X_test_tfidf.shape"
   ]
  },
  {
   "cell_type": "markdown",
   "metadata": {},
   "source": [
    "## Dimensionality Reduction"
   ]
  },
  {
   "cell_type": "code",
   "execution_count": 14,
   "metadata": {
    "collapsed": true
   },
   "outputs": [],
   "source": [
    "### QUESTION 3: Reduce the dimensionality of the data using the methods above\n",
    "### • Apply LSI to the TF-IDF matrix corresponding to the 8 categories with k = 50;\n",
    "### so each document is mapped to a 50-dimensional vector.\n",
    "### • Also reduce dimensionality through NMF and compare with LSI:\n",
    "### Which one is larger?"
   ]
  },
  {
   "cell_type": "code",
   "execution_count": 26,
   "metadata": {},
   "outputs": [
    {
     "name": "stdout",
     "output_type": "stream",
     "text": [
      "LSI train:\n",
      "(4732, 50)\n",
      "LSI test:\n",
      "(3150, 50)\n",
      "\n",
      "NMF train:\n",
      "(4732, 50)\n",
      "NMF test:\n",
      "(3150, 50)\n",
      "\n"
     ]
    }
   ],
   "source": [
    "# using LSI\n",
    "lsi = TruncatedSVD(n_components = 50,n_iter = 10, random_state = 42)\n",
    "lsi_train = lsi.fit_transform(X_train_tfidf)\n",
    "lsi_test = lsi.transform(X_test_tfidf)\n",
    "print('LSI train:')\n",
    "print(lsi_train.shape)\n",
    "print('LSI test:')\n",
    "print(lsi_test.shape)\n",
    "print('')\n",
    "\n",
    "# using NMF\n",
    "nmf = NMF(n_components=50, init='random', random_state=42)\n",
    "nmf_train = nmf.fit_transform(X_train_tfidf)\n",
    "nmf_test = nmf.transform(X_test_tfidf)\n",
    "print('NMF train:')\n",
    "print(nmf_train.shape)\n",
    "print('NMF test:')\n",
    "print(nmf_test.shape)\n",
    "print('')\n"
   ]
  },
  {
   "cell_type": "code",
   "execution_count": 27,
   "metadata": {
    "collapsed": true
   },
   "outputs": [],
   "source": [
    "### QUESTION 4: Hard margin and soft margin linear SVMs:\n",
    "### • Train two linear SVMs and compare:\n",
    "### – Train one SVM with y= 1000 (hard margin), another with y= 0:0001 (soft margin).\n",
    "### – Plot the ROC curve, report the confusion matrix and calculate the accuracy,\n",
    "### recall, precision and F-1 score of both SVM classifier. Which\n",
    "### one performs better?\n",
    "### – What happens for the soft margin SVM? Why is the case?\n",
    "### • Use cross-validation to choose y:\n",
    "### Using a 5-fold cross-validation, find the best value of the parameter \n",
    "###  in the range f10kj 􀀀 3 \u0014 k \u0014 3; k 2 Zg. Again, plot the ROC curve and report the\n",
    "### confusion matrix and calculate"
   ]
  },
  {
   "cell_type": "code",
   "execution_count": 29,
   "metadata": {
    "collapsed": true
   },
   "outputs": [],
   "source": [
    "def predict_and_plot_svc(train_set, test_set, binary_train_target, binary_test_target, gamma):\n",
    "    svc = svm.SVC(gamma = gamma, probability=True)\n",
    "    svc.fit(train_set, binary_train_target)\n",
    "    svc_predicted = svc.predict(test_set)\n",
    "\n",
    "    print('gamma: '+ str(gamma))\n",
    "    print('Accuracy: ' + str(metrics.accuracy_score(binary_test_target.ravel(), svc_predicted)))\n",
    "    print('Precision: ' + str(metrics.precision_score(binary_test_target.ravel(), svc_predicted)))\n",
    "    print('Recall: ' + str(metrics.recall_score(binary_test_target.ravel(), svc_predicted)))\n",
    "    print('F-1 Score: ' + str(metrics.f1_score(binary_test_target.ravel(), svc_predicted)))\n",
    "    \n",
    "    #compute confusion matrix\n",
    "    cnf_matrix = metrics.confusion_matrix(binary_test_target, svc_predicted)\n",
    "    np.set_printoptions(precision=2)\n",
    "\n",
    "    # Plot confusion matrix\n",
    "    plt.figure()\n",
    "    plot_confusion_matrix(cnf_matrix,\n",
    "                      title='Confusion matrix, without normalization')\n",
    "    plt.show()\n",
    "    \n",
    "    # ROC curve\n",
    "    print('ROC curve')\n",
    "    roc_plotter(svc,test_set,binary_test_target) \n",
    "\n",
    "def predict_calculate_svc(train_set, test_set, binary_train_target, binary_test_target, gamma):\n",
    "    svc = svm.SVC(gamma = gamma, probability=True)\n",
    "    svc.fit(train_set, binary_train_target)\n",
    "    svc_predicted = svc.predict(test_set)\n",
    "\n",
    "    print('gamma: '+ str(gamma))\n",
    "    print('Accuracy: ' + str(metrics.accuracy_score(binary_test_target.ravel(), svc_predicted)))\n",
    "    print('Precision: ' + str(metrics.precision_score(binary_test_target.ravel(), svc_predicted)))\n",
    "    print('Recall: ' + str(metrics.recall_score(binary_test_target.ravel(), svc_predicted)))\n",
    "    print('F-1 Score: ' + str(metrics.f1_score(binary_test_target.ravel(), svc_predicted)))\n",
    "    \n",
    "    #compute confusion matrix\n",
    "    cnf_matrix = metrics.confusion_matrix(binary_test_target, svc_predicted)\n",
    "    np.set_printoptions(precision=2)\n",
    "\n",
    "    # Plot confusion matrix\n",
    "    plt.figure()\n",
    "    plot_confusion_matrix(cnf_matrix,\n",
    "                      title='Confusion matrix, without normalization')\n",
    "    plt.show() \n",
    "    \n",
    "    # calculate fpr_tpr\n",
    "    fpr, tpr = calculate_fpr_tpr(svc,test_set, binary_test_target)\n",
    "    return fpr, tpr\n",
    "    \n",
    "def calculate_fpr_tpr(model, data, labels):\n",
    "    scores = model.decision_function(data)\n",
    "    fpr, tpr, thresholds = metrics.roc_curve(labels,scores,pos_label=1)\n",
    "    return fpr, tpr\n",
    "\n",
    "def combined_roc_plotter(fprs, tprs):\n",
    "    plt.figure(figsize=(12,9))\n",
    "    plt.plot([0, 1], [0, 1], color='navy', lw=2, linestyle='--')\n",
    "    plt.xlim([0.0, 1.0])\n",
    "    plt.ylim([0.0, 1.05])\n",
    "    plt.xlabel('False Positive Rate', fontsize=18)\n",
    "    plt.ylabel('True Positive Rate', fontsize=18)\n",
    "    plt.title('ROC Curve', fontsize=23)\n",
    "#     color = ['g', 'm', 'r', 'deepskyblue', 'darkorange', 'c']\n",
    "    gamma = [1000, 0.001, 1000, 0.001]\n",
    "    meth = ['LSI', 'LSI', 'NMF', 'NMF']\n",
    "#     df = [2, 2, 5, 5, 2, 2]\n",
    "    for i in range(len(fprs)):\n",
    "        plt.plot(fprs[i],tprs[i], label = 'method: ' )\n",
    "#         plt.plot(fprs[i], tprs[i], color=color[i], lw=2, label='ROC curve ('+meth[i]+', min_df='+str(df[i])+', gamma='+str(gamma[i])+')')\n",
    "    plt.legend(loc=\"lower right\")\n",
    "    plt.show()\n",
    "   \n",
    "    "
   ]
  },
  {
   "cell_type": "code",
   "execution_count": 38,
   "metadata": {
    "collapsed": true
   },
   "outputs": [],
   "source": [
    "# fprs tprs lists\n",
    "fprs = []\n",
    "tprs = []"
   ]
  },
  {
   "cell_type": "code",
   "execution_count": 39,
   "metadata": {},
   "outputs": [
    {
     "name": "stdout",
     "output_type": "stream",
     "text": [
      "dimension reduction method: LSI\n",
      "gamma: 1000\n",
      "Accuracy: 0.509841269841\n",
      "Precision: 0.507338864071\n",
      "Recall: 1.0\n",
      "F-1 Score: 0.67315834039\n",
      "Confusion matrix, without normalization\n",
      "[[  16 1544]\n",
      " [   0 1590]]\n"
     ]
    },
    {
     "data": {
      "image/png": "[encoded data removed]",
      "text/plain": [
       "<matplotlib.figure.Figure at 0x119f4dfd0>"
      ]
     },
     "metadata": {},
     "output_type": "display_data"
    }
   ],
   "source": [
    "print('dimension reduction method: LSI')\n",
    "fpr,tpr = predict_calculate_svc(lsi_train, lsi_test, binary_train_target, binary_test_target,gamma=1000)\n",
    "fprs.append(fpr)\n",
    "tprs.append(tpr)"
   ]
  },
  {
   "cell_type": "code",
   "execution_count": 40,
   "metadata": {},
   "outputs": [
    {
     "name": "stdout",
     "output_type": "stream",
     "text": [
      "dimension reduction method: LSI\n",
      "gamma: 0.0001\n",
      "Accuracy: 0.504761904762\n",
      "Precision: 0.504761904762\n",
      "Recall: 1.0\n",
      "F-1 Score: 0.670886075949\n",
      "Confusion matrix, without normalization\n",
      "[[   0 1560]\n",
      " [   0 1590]]\n"
     ]
    },
    {
     "data": {
      "image/png": "[encoded data removed]",
      "text/plain": [
       "<matplotlib.figure.Figure at 0x116fdd588>"
      ]
     },
     "metadata": {},
     "output_type": "display_data"
    }
   ],
   "source": [
    "print('dimension reduction method: LSI')\n",
    "fpr,tpr = predict_calculate_svc(lsi_train, lsi_test, binary_train_target, binary_test_target,gamma=0.0001)\n",
    "fprs.append(fpr)\n",
    "tprs.append(tpr)"
   ]
  },
  {
   "cell_type": "code",
   "execution_count": 41,
   "metadata": {},
   "outputs": [
    {
     "name": "stdout",
     "output_type": "stream",
     "text": [
      "dimension reduction method: NMF\n",
      "gamma: 1000\n",
      "Accuracy: 0.937142857143\n",
      "Precision: 0.96711409396\n",
      "Recall: 0.906289308176\n",
      "F-1 Score: 0.935714285714\n",
      "Confusion matrix, without normalization\n",
      "[[1511   49]\n",
      " [ 149 1441]]\n"
     ]
    },
    {
     "data": {
      "image/png": "[encoded data removed]",
      "text/plain": [
       "<matplotlib.figure.Figure at 0x117008978>"
      ]
     },
     "metadata": {},
     "output_type": "display_data"
    }
   ],
   "source": [
    "print('dimension reduction method: NMF')\n",
    "fpr,tpr = predict_calculate_svc(nmf_train, nmf_test, binary_train_target, binary_test_target,gamma=1000)\n",
    "fprs.append(fpr)\n",
    "tprs.append(tpr)"
   ]
  },
  {
   "cell_type": "code",
   "execution_count": 42,
   "metadata": {},
   "outputs": [
    {
     "name": "stdout",
     "output_type": "stream",
     "text": [
      "dimension reduction method: NMF\n",
      "gamma: 0.0001\n",
      "Accuracy: 0.504761904762\n",
      "Precision: 0.504761904762\n",
      "Recall: 1.0\n",
      "F-1 Score: 0.670886075949\n",
      "Confusion matrix, without normalization\n",
      "[[   0 1560]\n",
      " [   0 1590]]\n"
     ]
    },
    {
     "data": {
      "image/png": "[encoded data removed]",
      "text/plain": [
       "<matplotlib.figure.Figure at 0x117008780>"
      ]
     },
     "metadata": {},
     "output_type": "display_data"
    }
   ],
   "source": [
    "print('dimension reduction method: NMF')\n",
    "fpr,tpr = predict_calculate_svc(nmf_train, nmf_test, binary_train_target, binary_test_target,gamma=0.0001)\n",
    "fprs.append(fpr)\n",
    "tprs.append(tpr)"
   ]
  },
  {
   "cell_type": "code",
   "execution_count": 43,
   "metadata": {},
   "outputs": [
    {
     "data": {
      "image/png": "[encoded data removed]",
      "text/plain": [
       "<matplotlib.figure.Figure at 0x11676ea58>"
      ]
     },
     "metadata": {},
     "output_type": "display_data"
    }
   ],
   "source": [
    "combined_roc_plotter(fprs, tprs)"
   ]
  },
  {
   "cell_type": "code",
   "execution_count": null,
   "metadata": {},
   "outputs": [],
   "source": []
  },
  {
   "cell_type": "code",
   "execution_count": null,
   "metadata": {},
   "outputs": [],
   "source": []
  },
  {
   "cell_type": "code",
   "execution_count": null,
   "metadata": {},
   "outputs": [],
   "source": []
  },
  {
   "cell_type": "code",
   "execution_count": null,
   "metadata": {
    "collapsed": true
   },
   "outputs": [],
   "source": []
  },
  {
   "cell_type": "code",
   "execution_count": null,
   "metadata": {
    "collapsed": true
   },
   "outputs": [],
   "source": []
  },
  {
   "cell_type": "code",
   "execution_count": null,
   "metadata": {
    "collapsed": true
   },
   "outputs": [],
   "source": []
  },
  {
   "cell_type": "code",
   "execution_count": null,
   "metadata": {},
   "outputs": [],
   "source": []
  },
  {
   "cell_type": "code",
   "execution_count": null,
   "metadata": {},
   "outputs": [],
   "source": []
  },
  {
   "cell_type": "code",
   "execution_count": null,
   "metadata": {
    "collapsed": true
   },
   "outputs": [],
   "source": []
  },
  {
   "cell_type": "code",
   "execution_count": null,
   "metadata": {
    "collapsed": true
   },
   "outputs": [],
   "source": []
  },
  {
   "cell_type": "code",
   "execution_count": null,
   "metadata": {
    "collapsed": true
   },
   "outputs": [],
   "source": []
  },
  {
   "cell_type": "code",
   "execution_count": null,
   "metadata": {
    "collapsed": true
   },
   "outputs": [],
   "source": []
  },
  {
   "cell_type": "code",
   "execution_count": null,
   "metadata": {
    "collapsed": true
   },
   "outputs": [],
   "source": []
  },
  {
   "cell_type": "code",
   "execution_count": null,
   "metadata": {
    "collapsed": true
   },
   "outputs": [],
   "source": [
    "### QUESTION 5: Logistic classifier:\n",
    "### • Train a logistic classifier; plot the ROC curve and report the confusion matrix\n",
    "### and calculate the accuracy, recall precision and F-1 score of this classifier.\n",
    "### • Regularization:\n",
    "### – Using 5-fold cross-validation, find the best regularization strength in the\n",
    "### range f10kj􀀀3 \u0014 k \u0014 3; k 2 Zg for logistic regression with L1 regularization\n",
    "### and logistic regression L2 regularization, respectively.\n",
    "### – Compare the performance (accuracy, precision, recall and F-1 score) of\n",
    "### 3 logistic classifiers: w/o regularization, w/ L1 regularization and w/ L2\n",
    "### regularization, using test data. How does the regularization parameter\n",
    "### affect the test error? How are the learnt coefficients affected? Why\n",
    "### might one be interested in each type of regularization?"
   ]
  },
  {
   "cell_type": "markdown",
   "metadata": {
    "collapsed": true
   },
   "source": [
    "# Logistic Regression Without Regularization (Very High C-value)"
   ]
  },
  {
   "cell_type": "code",
   "execution_count": 44,
   "metadata": {},
   "outputs": [
    {
     "name": "stdout",
     "output_type": "stream",
     "text": [
      "Logistic Regression (without regularization) Results: \n",
      "\n",
      "Accuracy:  0.756825396825\n",
      "Recall:    0.661635220126\n",
      "Precision: 0.821875\n",
      "f1:        0.733101045296\n",
      "\n",
      "Confusion Matrix:\n",
      "[[1332  228]\n",
      " [ 538 1052]]\n"
     ]
    },
    {
     "data": {
      "image/png": "[encoded data removed]",
      "text/plain": [
       "<matplotlib.figure.Figure at 0x11e2db780>"
      ]
     },
     "metadata": {},
     "output_type": "display_data"
    }
   ],
   "source": [
    "logistic = LogisticRegression(C=10**15) # ridiculously high C value to effectively have \"no regularization\"\n",
    "logistic.fit(lsi_train, binary_train_target)\n",
    "logistic_predictions = logistic.predict(lsi_test)\n",
    "print(\"Logistic Regression (without regularization) Results: \\n\")\n",
    "print(\"Accuracy:  \" + str(metrics.accuracy_score(binary_test_target, logistic_predictions)))\n",
    "print(\"Recall:    \" + str(metrics.recall_score(binary_test_target,logistic_predictions)))\n",
    "print(\"Precision: \" + str(metrics.precision_score(binary_test_target,logistic_predictions)))\n",
    "print(\"f1:        \" + str(metrics.f1_score(binary_test_target,logistic_predictions)))\n",
    "print(\"\\nConfusion Matrix:\")\n",
    "print(metrics.confusion_matrix(binary_test_target,logistic_predictions))\n",
    "\n",
    "# Plot ROC Curve\n",
    "roc_plotter(logistic,lsi_test,binary_test_target)"
   ]
  },
  {
   "cell_type": "markdown",
   "metadata": {},
   "source": [
    "# Logistic Regression With L1 Regularization"
   ]
  },
  {
   "cell_type": "code",
   "execution_count": 46,
   "metadata": {},
   "outputs": [
    {
     "data": {
      "text/html": [
       "<div>\n",
       "<style>\n",
       "    .dataframe thead tr:only-child th {\n",
       "        text-align: right;\n",
       "    }\n",
       "\n",
       "    .dataframe thead th {\n",
       "        text-align: left;\n",
       "    }\n",
       "\n",
       "    .dataframe tbody tr th {\n",
       "        vertical-align: top;\n",
       "    }\n",
       "</style>\n",
       "<table border=\"1\" class=\"dataframe\">\n",
       "  <thead>\n",
       "    <tr style=\"text-align: right;\">\n",
       "      <th></th>\n",
       "      <th>param_C</th>\n",
       "      <th>mean_test_score</th>\n",
       "    </tr>\n",
       "  </thead>\n",
       "  <tbody>\n",
       "    <tr>\n",
       "      <th>0</th>\n",
       "      <td>0.001</td>\n",
       "      <td>0.495139</td>\n",
       "    </tr>\n",
       "    <tr>\n",
       "      <th>1</th>\n",
       "      <td>0.01</td>\n",
       "      <td>0.915892</td>\n",
       "    </tr>\n",
       "    <tr>\n",
       "      <th>2</th>\n",
       "      <td>0.1</td>\n",
       "      <td>0.933221</td>\n",
       "    </tr>\n",
       "    <tr>\n",
       "      <th>3</th>\n",
       "      <td>1</td>\n",
       "      <td>0.957312</td>\n",
       "    </tr>\n",
       "    <tr>\n",
       "      <th>4</th>\n",
       "      <td>10</td>\n",
       "      <td>0.966188</td>\n",
       "    </tr>\n",
       "    <tr>\n",
       "      <th>5</th>\n",
       "      <td>100</td>\n",
       "      <td>0.966188</td>\n",
       "    </tr>\n",
       "    <tr>\n",
       "      <th>6</th>\n",
       "      <td>1000</td>\n",
       "      <td>0.966822</td>\n",
       "    </tr>\n",
       "  </tbody>\n",
       "</table>\n",
       "</div>"
      ],
      "text/plain": [
       "  param_C  mean_test_score\n",
       "0   0.001         0.495139\n",
       "1    0.01         0.915892\n",
       "2     0.1         0.933221\n",
       "3       1         0.957312\n",
       "4      10         0.966188\n",
       "5     100         0.966188\n",
       "6    1000         0.966822"
      ]
     },
     "execution_count": 46,
     "metadata": {},
     "output_type": "execute_result"
    }
   ],
   "source": [
    "parameters = {'C':[10**-3,10**-2,10**-1,10**0,10**1,10**2,10**3]}\n",
    "logistic_l1 = LogisticRegression(penalty=\"l1\")\n",
    "logistic_l1_grid = GridSearchCV(logistic_l1, parameters,cv=5) #use logistic regression's default score()?\n",
    "logistic_l1_grid.fit(lsi_train, binary_train_target)\n",
    "\n",
    "pd.DataFrame(logistic_l1_grid.cv_results_)[['param_C','mean_test_score']]"
   ]
  },
  {
   "cell_type": "markdown",
   "metadata": {},
   "source": [
    "# Logistic Regression With L2 Regularization"
   ]
  },
  {
   "cell_type": "code",
   "execution_count": 48,
   "metadata": {},
   "outputs": [
    {
     "data": {
      "text/html": [
       "<div>\n",
       "<style>\n",
       "    .dataframe thead tr:only-child th {\n",
       "        text-align: right;\n",
       "    }\n",
       "\n",
       "    .dataframe thead th {\n",
       "        text-align: left;\n",
       "    }\n",
       "\n",
       "    .dataframe tbody tr th {\n",
       "        vertical-align: top;\n",
       "    }\n",
       "</style>\n",
       "<table border=\"1\" class=\"dataframe\">\n",
       "  <thead>\n",
       "    <tr style=\"text-align: right;\">\n",
       "      <th></th>\n",
       "      <th>param_C</th>\n",
       "      <th>mean_test_score</th>\n",
       "    </tr>\n",
       "  </thead>\n",
       "  <tbody>\n",
       "    <tr>\n",
       "      <th>0</th>\n",
       "      <td>0.001</td>\n",
       "      <td>0.783601</td>\n",
       "    </tr>\n",
       "    <tr>\n",
       "      <th>1</th>\n",
       "      <td>0.01</td>\n",
       "      <td>0.924556</td>\n",
       "    </tr>\n",
       "    <tr>\n",
       "      <th>2</th>\n",
       "      <td>0.1</td>\n",
       "      <td>0.946746</td>\n",
       "    </tr>\n",
       "    <tr>\n",
       "      <th>3</th>\n",
       "      <td>1</td>\n",
       "      <td>0.955410</td>\n",
       "    </tr>\n",
       "    <tr>\n",
       "      <th>4</th>\n",
       "      <td>10</td>\n",
       "      <td>0.963018</td>\n",
       "    </tr>\n",
       "    <tr>\n",
       "      <th>5</th>\n",
       "      <td>100</td>\n",
       "      <td>0.964286</td>\n",
       "    </tr>\n",
       "    <tr>\n",
       "      <th>6</th>\n",
       "      <td>1000</td>\n",
       "      <td>0.966399</td>\n",
       "    </tr>\n",
       "  </tbody>\n",
       "</table>\n",
       "</div>"
      ],
      "text/plain": [
       "  param_C  mean_test_score\n",
       "0   0.001         0.783601\n",
       "1    0.01         0.924556\n",
       "2     0.1         0.946746\n",
       "3       1         0.955410\n",
       "4      10         0.963018\n",
       "5     100         0.964286\n",
       "6    1000         0.966399"
      ]
     },
     "execution_count": 48,
     "metadata": {},
     "output_type": "execute_result"
    }
   ],
   "source": [
    "parameters = {'C':[10**-3,10**-2,10**-1,10**0,10**1,10**2,10**3]}\n",
    "logistic_l2 = LogisticRegression(penalty=\"l2\")\n",
    "logistic_l2_grid = GridSearchCV(logistic_l2, parameters,cv=5) #use logistic regression's default score()?\n",
    "logistic_l2_grid.fit(lsi_train, binary_train_target)\n",
    "\n",
    "pd.DataFrame(logistic_l2_grid.cv_results_)[['param_C','mean_test_score']]"
   ]
  },
  {
   "cell_type": "markdown",
   "metadata": {},
   "source": [
    "# Logistic Regression Analysis\n",
    "\n",
    "Based on the cross-validation above, it seems that a C=10^3 leads to the highest validation mean accuracy. Thus, C = 1000 will be used in testing logistic regression classifiers in both L1 and L2 regularization methods."
   ]
  },
  {
   "cell_type": "code",
   "execution_count": 50,
   "metadata": {},
   "outputs": [
    {
     "name": "stdout",
     "output_type": "stream",
     "text": [
      "Logistic Regression (without regularization) Results: \n",
      "\n",
      "Accuracy:  0.756825396825\n",
      "Recall:    0.661635220126\n",
      "Precision: 0.821875\n",
      "f1:        0.733101045296\n",
      "\n",
      "Logistic Regression (L1 regularization, C=1000) Results: \n",
      "\n",
      "Accuracy:  0.75746031746\n",
      "Recall:    0.662264150943\n",
      "Precision: 0.82265625\n",
      "f1:        0.733797909408\n",
      "\n",
      "Logistic Regression (L2 regularization, C=1000) Results: \n",
      "\n",
      "Accuracy:  0.765079365079\n",
      "Recall:    0.67106918239\n",
      "Precision: 0.830996884735\n",
      "f1:        0.742519137091\n"
     ]
    }
   ],
   "source": [
    "# Without regularization\n",
    "logistic = LogisticRegression(C=10**15) # ridiculously high C value to effectively have \"no regularization\"\n",
    "logistic.fit(lsi_train, binary_train_target)\n",
    "logistic_predictions = logistic.predict(lsi_test)\n",
    "print(\"Logistic Regression (without regularization) Results: \\n\")\n",
    "print(\"Accuracy:  \" + str(metrics.accuracy_score(binary_test_target, logistic_predictions)))\n",
    "print(\"Recall:    \" + str(metrics.recall_score(binary_test_target,logistic_predictions)))\n",
    "print(\"Precision: \" + str(metrics.precision_score(binary_test_target,logistic_predictions)))\n",
    "print(\"f1:        \" + str(metrics.f1_score(binary_test_target,logistic_predictions)))\n",
    "\n",
    "# With L1 regularization and C=1000\n",
    "logistic_l1_c1000 = LogisticRegression(penalty='l1',C=10**3)\n",
    "logistic_l1_c1000.fit(lsi_train, binary_train_target)\n",
    "logistic_l1_c1000_predictions = logistic_l1_c1000.predict(lsi_test)\n",
    "print(\"\\nLogistic Regression (L1 regularization, C=1000) Results: \\n\")\n",
    "print(\"Accuracy:  \" + str(metrics.accuracy_score(binary_test_target, logistic_l1_c1000_predictions)))\n",
    "print(\"Recall:    \" + str(metrics.recall_score(binary_test_target,logistic_l1_c1000_predictions)))\n",
    "print(\"Precision: \" + str(metrics.precision_score(binary_test_target,logistic_l1_c1000_predictions)))\n",
    "print(\"f1:        \" + str(metrics.f1_score(binary_test_target,logistic_l1_c1000_predictions)))\n",
    "\n",
    "# With L2 regularization and C=1000\n",
    "logistic_l2_c1000 = LogisticRegression(penalty='l2',C=10**3)\n",
    "logistic_l2_c1000.fit(lsi_train, binary_train_target)\n",
    "logistic_l2_c1000_predictions = logistic_l2_c1000.predict(lsi_test)\n",
    "print(\"\\nLogistic Regression (L2 regularization, C=1000) Results: \\n\")\n",
    "print(\"Accuracy:  \" + str(metrics.accuracy_score(binary_test_target, logistic_l2_c1000_predictions)))\n",
    "print(\"Recall:    \" + str(metrics.recall_score(binary_test_target,logistic_l2_c1000_predictions)))\n",
    "print(\"Precision: \" + str(metrics.precision_score(binary_test_target,logistic_l2_c1000_predictions)))\n",
    "print(\"f1:        \" + str(metrics.f1_score(binary_test_target,logistic_l2_c1000_predictions)))"
   ]
  },
  {
   "cell_type": "markdown",
   "metadata": {
    "collapsed": true
   },
   "source": [
    "#### When numbers are finalized, have some blurb here comparing the above results (the numbers don't feel correct.. cross validation favors high C aka little regularization...but in test data that doesn't translate (accuracy is significantly higher when C = 1 compared to C = 1000 for test data... why is the cross validation not catching this? is the test data significantly different from the training data? maybe something's wrong with how i'm analyzing? bug in the data cleaning itself?))"
   ]
  },
  {
   "cell_type": "code",
   "execution_count": 51,
   "metadata": {},
   "outputs": [
    {
     "name": "stdout",
     "output_type": "stream",
     "text": [
      "Coefficient Statistics\n",
      "'Without' Regularization:       mean = 4.972139, std = 21.309671\n",
      "With L1, C=1000 Regularization: mean = 4.967669, std = 21.245277\n",
      "With L2, C=1000 Regularization: mean = 4.708639, std = 19.724925\n"
     ]
    }
   ],
   "source": [
    "print(\"Coefficient Statistics\")\n",
    "print(\"'Without' Regularization:       mean = %f, std = %f\" % (np.mean(logistic.coef_), np.std(logistic.coef_)))\n",
    "print(\"With L1, C=1000 Regularization: mean = %f, std = %f\" % (np.mean(logistic_l1_c1000.coef_), np.std(logistic_l1_c1000.coef_)))\n",
    "print(\"With L2, C=1000 Regularization: mean = %f, std = %f\" % (np.mean(logistic_l2_c1000.coef_), np.std(logistic_l2_c1000.coef_)))"
   ]
  },
  {
   "cell_type": "code",
   "execution_count": null,
   "metadata": {
    "collapsed": true
   },
   "outputs": [],
   "source": [
    "### QUESTION 6: Naïve Bayes classifier: train a GaussianNB classifier; plot the ROC\n",
    "### curve and report the confusion matrix and calculate the accuracy, recall precision\n",
    "### and F-1 score of this classifier."
   ]
  },
  {
   "cell_type": "code",
   "execution_count": null,
   "metadata": {
    "collapsed": true
   },
   "outputs": [],
   "source": []
  },
  {
   "cell_type": "code",
   "execution_count": null,
   "metadata": {
    "collapsed": true
   },
   "outputs": [],
   "source": []
  },
  {
   "cell_type": "code",
   "execution_count": null,
   "metadata": {
    "collapsed": true
   },
   "outputs": [],
   "source": []
  },
  {
   "cell_type": "code",
   "execution_count": null,
   "metadata": {
    "collapsed": true
   },
   "outputs": [],
   "source": []
  },
  {
   "cell_type": "code",
   "execution_count": null,
   "metadata": {
    "collapsed": true
   },
   "outputs": [],
   "source": [
    "### QUESTION 7: Grid search of parameters:\n",
    "### • Construct a Pipeline that performs feature extraction, dimensionality reduction\n",
    "### and classification;\n",
    "### • Do grid search with 5-fold cross-validation to compare the following (use test\n",
    "### accuracy as the score to compare):"
   ]
  },
  {
   "cell_type": "code",
   "execution_count": null,
   "metadata": {
    "collapsed": true
   },
   "outputs": [],
   "source": []
  },
  {
   "cell_type": "code",
   "execution_count": null,
   "metadata": {
    "collapsed": true
   },
   "outputs": [],
   "source": []
  },
  {
   "cell_type": "code",
   "execution_count": null,
   "metadata": {
    "collapsed": true
   },
   "outputs": [],
   "source": []
  },
  {
   "cell_type": "code",
   "execution_count": null,
   "metadata": {
    "collapsed": true
   },
   "outputs": [],
   "source": [
    "### QUESTION 8: In this part, we aim to learn classifiers on the documents belonging\n",
    "### to the classes:\n",
    "### comp.sys.ibm.pc.hardware, comp.sys.mac.hardware,\n",
    "### misc.forsale, soc.religion.christian\n",
    "### Perform Naïve Bayes classification and multiclass SVM classification (with both\n",
    "### One VS One and One VS the rest methods described above) and report the confusion\n",
    "### matrix and calculate the accuracy, recall, precision and F-1 score of\n",
    "### your classifiers."
   ]
  },
  {
   "cell_type": "code",
   "execution_count": null,
   "metadata": {
    "collapsed": true
   },
   "outputs": [],
   "source": []
  },
  {
   "cell_type": "code",
   "execution_count": null,
   "metadata": {
    "collapsed": true
   },
   "outputs": [],
   "source": []
  },
  {
   "cell_type": "code",
   "execution_count": null,
   "metadata": {
    "collapsed": true
   },
   "outputs": [],
   "source": []
  }
 ],
 "metadata": {
  "kernelspec": {
   "display_name": "Python 3",
   "language": "python",
   "name": "python3"
  },
  "language_info": {
   "codemirror_mode": {
    "name": "ipython",
    "version": 3
   },
   "file_extension": ".py",
   "mimetype": "text/x-python",
   "name": "python",
   "nbconvert_exporter": "python",
   "pygments_lexer": "ipython3",
   "version": "3.6.1"
  }
 },
 "nbformat": 4,
 "nbformat_minor": 2
}
