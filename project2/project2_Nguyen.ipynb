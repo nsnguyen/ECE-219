{
 "cells": [
  {
   "cell_type": "code",
   "execution_count": 33,
   "metadata": {
    "collapsed": true
   },
   "outputs": [],
   "source": [
    "from sklearn.datasets import fetch_20newsgroups\n",
    "from matplotlib import pyplot as plt\n",
    "import numpy as np\n",
    "from numpy import array\n",
    "\n",
    "import nltk\n",
    "from nltk import pos_tag\n",
    "from sklearn import metrics\n",
    "import itertools\n",
    "import numpy as np\n",
    "import matplotlib.pyplot as plt\n",
    "from sklearn.metrics import confusion_matrix\n",
    "\n",
    "import time\n",
    "\n",
    "from sklearn.cluster import KMeans\n",
    "from sklearn.decomposition import TruncatedSVD\n",
    "\n",
    "from sklearn.feature_extraction.text import TfidfVectorizer\n",
    "\n",
    "\n"
   ]
  },
  {
   "cell_type": "code",
   "execution_count": 2,
   "metadata": {},
   "outputs": [
    {
     "name": "stdout",
     "output_type": "stream",
     "text": [
      "The nltk version is 3.2.3.\n",
      "The scikit-learn version is 0.18.1.\n"
     ]
    }
   ],
   "source": [
    "import nltk\n",
    "import sklearn\n",
    "\n",
    "print('The nltk version is {}.'.format(nltk.__version__))\n",
    "print('The scikit-learn version is {}.'.format(sklearn.__version__))"
   ]
  },
  {
   "cell_type": "code",
   "execution_count": null,
   "metadata": {
    "collapsed": true
   },
   "outputs": [],
   "source": [
    "# Lemmentize Helper Functions\n",
    "def is_number(s):\n",
    "    try:\n",
    "        float(s)\n",
    "        return True\n",
    "    except ValueError:\n",
    "        return False\n",
    "       \n",
    "# I morph stuff.\n",
    "def penn2morphy(penntag):\n",
    "    \"\"\" Converts Penn Treebank tags to WordNet. \"\"\"\n",
    "    morphy_tag = {'NN':'n', 'JJ':'a',\n",
    "                  'VB':'v', 'RB':'r'}\n",
    "    try:\n",
    "        return morphy_tag[penntag[:2]]\n",
    "    except:\n",
    "        return 'n' \n",
    "\n",
    "# I lematize stuff.\n",
    "def lemmatize_parse(text):\n",
    "    wnl = nltk.wordnet.WordNetLemmatizer()\n",
    "    lemmatize = []\n",
    "    for word, tag in pos_tag(nltk.word_tokenize(text)):\n",
    "        if(not is_number(word)):\n",
    "            lemmatize.append(wnl.lemmatize(word.lower(), pos=penn2morphy(tag)))\n",
    "    return lemmatize"
   ]
  },
  {
   "cell_type": "code",
   "execution_count": 2,
   "metadata": {
    "collapsed": true
   },
   "outputs": [],
   "source": [
    "computer_technology_subclasses = ['comp.graphics',\n",
    "                                  'comp.os.ms-windows.misc',\n",
    "                                  'comp.sys.ibm.pc.hardware',\n",
    "                                  'comp.sys.mac.hardware']\n",
    "\n",
    "recreational_activity_subclasses = ['rec.autos',\n",
    "                                    'rec.motorcycles',\n",
    "                                    'rec.sport.baseball',\n",
    "                                    'rec.sport.hockey']\n",
    "\n",
    "categories = computer_technology_subclasses + recreational_activity_subclasses"
   ]
  },
  {
   "cell_type": "code",
   "execution_count": 3,
   "metadata": {
    "collapsed": true
   },
   "outputs": [],
   "source": [
    "train_dataset = fetch_20newsgroups(subset='train', categories=categories,\n",
    "shuffle=True, random_state=42, remove=('headers', 'footers'))\n",
    "\n",
    "test_dataset = fetch_20newsgroups(subset='test', categories=categories,\n",
    "shuffle=True, random_state=42, remove=('headers', 'footers'))\n",
    "\n",
    "# Load in training and test sets with/without footers (re-defining to prevent screwing up existing code)\n",
    "\n",
    "# Remove headers and footers\n",
    "train_dataset_rmv_headfoot = fetch_20newsgroups(subset='train', categories=categories,\n",
    "shuffle=True, random_state=42, remove=('headers', 'footers'))\n",
    "test_dataset_rmv_headfoot = fetch_20newsgroups(subset='test', categories=categories,\n",
    "shuffle=True, random_state=42, remove=('headers', 'footers'))\n",
    "\n",
    "# Keep headers and footers\n",
    "train_dataset_keep_headfoot = fetch_20newsgroups(subset='train', categories=categories,\n",
    "shuffle=True, random_state=42)\n",
    "test_dataset_keep_headfoot = fetch_20newsgroups(subset='test', categories=categories,\n",
    "shuffle=True, random_state=42)"
   ]
  },
  {
   "cell_type": "markdown",
   "metadata": {},
   "source": [
    "# Turn Multiclass into Binary"
   ]
  },
  {
   "cell_type": "code",
   "execution_count": 4,
   "metadata": {},
   "outputs": [
    {
     "name": "stdout",
     "output_type": "stream",
     "text": [
      "Sanity Check!\n",
      "\n",
      "Training Set\n",
      "Original train_dataset.target: [6 7 4 2 1 3 0 7 5 3 0 5 5 5 3 1 3 0 0 2]\n",
      "Binarized train_dataset.target:[1 1 1 0 0 0 0 1 1 0 0 1 1 1 0 0 0 0 0 0]\n",
      "\n",
      "Test Set\n",
      "Original test_dataset.target:  [3 2 3 3 2 3 2 6 0 1 0 1 7 7 1 5 7 2 0 1]\n",
      "Binarized test_dataset.target: [0 0 0 0 0 0 0 1 0 0 0 0 1 1 0 1 1 0 0 0]\n"
     ]
    }
   ],
   "source": [
    "binary_train_target = train_dataset.target.copy()\n",
    "binary_test_target = test_dataset.target.copy()\n",
    "computer_class_indices = [0,1,2,3]\n",
    "recreational_class_indices = [4,5,6,7]\n",
    "\n",
    "computer_class_label = 0\n",
    "recreational_class_label = 1\n",
    "\n",
    "# Binarize computer-class labels\n",
    "for i in computer_class_indices:\n",
    "    binary_train_target[binary_train_target == i] = computer_class_label\n",
    "    binary_test_target[binary_test_target == i] = computer_class_label\n",
    "\n",
    "# Binarize recreational-class labels\n",
    "for i in recreational_class_indices:\n",
    "    binary_train_target[binary_train_target==i] = recreational_class_label\n",
    "    binary_test_target[binary_test_target == i] = recreational_class_label\n",
    " \n",
    "print(\"Sanity Check!\\n\")\n",
    "print(\"Training Set\")\n",
    "print(\"Original train_dataset.target: \" + str(train_dataset.target[0:20]))\n",
    "print(\"Binarized train_dataset.target:\" + str(binary_train_target[0:20]))\n",
    "print(\"\\nTest Set\")\n",
    "print(\"Original test_dataset.target:  \" + str(test_dataset.target[0:20]))\n",
    "print(\"Binarized test_dataset.target: \" + str(binary_test_target[0:20]))"
   ]
  },
  {
   "cell_type": "code",
   "execution_count": 10,
   "metadata": {},
   "outputs": [
    {
     "name": "stdout",
     "output_type": "stream",
     "text": [
      "Lemmatizing training set with removed headers/footers...\n",
      "Completed training set with removed head/foot in 81.698150 sec\n",
      "\n",
      "Lemmatizing test set with removed headers/footers...\n",
      "Completed test set with removed head/foot in 45.678211 sec\n",
      "\n",
      "Completed test set with kept head/foot in 45.683783 sec\n",
      "\n"
     ]
    }
   ],
   "source": [
    "# set lemmatize \n",
    "\n",
    "\n",
    "t1 = time.time()\n",
    "print(\"Lemmatizing training set with removed headers/footers...\")\n",
    "train_dataset_lemmatized_rmv_headfoot = []\n",
    "for item in train_dataset_rmv_headfoot.data:\n",
    "    train_dataset_lemmatized_rmv_headfoot.append(' '.join(lemmatize_parse(item)))\n",
    "print(\"Completed training set with removed head/foot in %f sec\\n\" %(time.time()-t1))\n",
    "\n",
    "t1 = time.time()\n",
    "print(\"Lemmatizing test set with removed headers/footers...\")\n",
    "test_dataset_lemmatized_rmv_headfoot = []\n",
    "for item in test_dataset_rmv_headfoot.data:\n",
    "    test_dataset_lemmatized_rmv_headfoot.append(' '.join(lemmatize_parse(item)))\n",
    "print(\"Completed test set with removed head/foot in %f sec\\n\" %(time.time()-t1))\n",
    "\n",
    "# t1 = time.time()\n",
    "# print(\"Lemmatizing training set with kept headers/footers...\")\n",
    "# train_data_lemmatized_keep_headfoot = []\n",
    "# for item in train_dataset_keep_headfoot.data:\n",
    "#     train_data_lemmatized_keep_headfoot.append(' '.join(lemmatize_parse(item)))\n",
    "# print(\"Completed training set with kept head/foot in %f sec\\n\" %(time.time()-t1))\n",
    "\n",
    "# t1 = time.time()\n",
    "# print(\"Lemmatizing test set with kept headers/footers...\")\n",
    "# test_dataset_lemmatized_keep_headfoot = []\n",
    "# for item in test_dataset_keep_headfoot.data:\n",
    "#     test_dataset_lemmatized_keep_headfoot.append(' '.join(lemmatize_parse(item)))\n",
    "        \n",
    "train_dataset.data = train_dataset_lemmatized_rmv_headfoot\n",
    "test_dataset.data = test_dataset_lemmatized_rmv_headfoot\n",
    "print(\"Completed test set with kept head/foot in %f sec\\n\" %(time.time()-t1))"
   ]
  },
  {
   "cell_type": "code",
   "execution_count": 17,
   "metadata": {
    "collapsed": true
   },
   "outputs": [],
   "source": [
    "# vectorize - fit and transform\n",
    "vectorizer = TfidfVectorizer(min_df=3, stop_words='english', use_idf=True)\n",
    "X_train_tfidf = vectorizer.fit_transform(train_dataset.data)\n",
    "X_test_tfidf = vectorizer.transform(test_dataset.data)"
   ]
  },
  {
   "cell_type": "code",
   "execution_count": null,
   "metadata": {
    "collapsed": true
   },
   "outputs": [],
   "source": [
    "#QUESTION 1: Report the dimensions of the TF-IDF matrix you get."
   ]
  },
  {
   "cell_type": "code",
   "execution_count": 18,
   "metadata": {},
   "outputs": [
    {
     "name": "stdout",
     "output_type": "stream",
     "text": [
      "X_train_tfidf: (4732, 14416)\n",
      "X_test_tfidf: (3150, 14416)\n"
     ]
    }
   ],
   "source": [
    "print('X_train_tfidf:',X_train_tfidf.shape)\n",
    "print('X_test_tfidf:', X_test_tfidf.shape)"
   ]
  },
  {
   "cell_type": "code",
   "execution_count": null,
   "metadata": {
    "collapsed": true
   },
   "outputs": [],
   "source": []
  },
  {
   "cell_type": "code",
   "execution_count": null,
   "metadata": {
    "collapsed": true
   },
   "outputs": [],
   "source": []
  },
  {
   "cell_type": "code",
   "execution_count": 19,
   "metadata": {},
   "outputs": [
    {
     "data": {
      "text/plain": [
       "KMeans(algorithm='auto', copy_x=True, init='k-means++', max_iter=300,\n",
       "    n_clusters=2, n_init=10, n_jobs=1, precompute_distances='auto',\n",
       "    random_state=None, tol=0.0001, verbose=0)"
      ]
     },
     "execution_count": 19,
     "metadata": {},
     "output_type": "execute_result"
    }
   ],
   "source": [
    "# K means\n",
    "km = KMeans(n_clusters = 2)\n",
    "km.fit(X_train_tfidf)"
   ]
  },
  {
   "cell_type": "code",
   "execution_count": 20,
   "metadata": {
    "collapsed": true
   },
   "outputs": [],
   "source": [
    "# transform confusion matrix to diagonal as much as possible (only for 2 * 2 sized confusion)\n",
    "def to_diagonal(confusion):\n",
    "    maxColIndices = []\n",
    "    copy = []\n",
    "    for row in range(len(confusion)):\n",
    "        curRow = confusion[row]\n",
    "        index = 0\n",
    "        value = curRow[0]\n",
    "        ro = []\n",
    "        for col in range(len(curRow)):\n",
    "            ro.append(curRow[col])\n",
    "            if curRow[col] > value:\n",
    "                index = col\n",
    "                value = curRow[col]\n",
    "        maxColIndices.append(index)\n",
    "        copy.append(ro)\n",
    "    res = []\n",
    "    for i in range(len(confusion)):\n",
    "        res.insert(maxColIndices[i], copy[i])\n",
    "    res = np.array(res)\n",
    "    return res\n",
    "\n"
   ]
  },
  {
   "cell_type": "code",
   "execution_count": 30,
   "metadata": {
    "collapsed": true
   },
   "outputs": [],
   "source": [
    "# contingency table (confusion matrix)\n",
    "actual_class_names = ['Class 1', 'Class 2']\n",
    "cluster_class_names = ['Cluster 1', 'Cluster 2']\n",
    "def plot_contingency_table(cm, title='Contingency table', cmap=plt.cm.YlOrBr):\n",
    "    plt.gcf().clear()\n",
    "    plt.imshow(cm, interpolation='nearest', cmap=cmap)\n",
    "    plt.title(title, fontsize=16)\n",
    "    plt.colorbar()\n",
    "    tick_marks = np.arange(len(actual_class_names))\n",
    "    plt.xticks(tick_marks, actual_class_names)\n",
    "    plt.yticks(tick_marks, cluster_class_names)\n",
    "\n",
    "    thresh = cm.max() / 2.\n",
    "    for i, j in itertools.product(range(cm.shape[0]), range(cm.shape[1])):\n",
    "        plt.text(j, i, cm[i, j],\n",
    "                 horizontalalignment=\"center\",\n",
    "                 color=\"white\" if cm[i, j] > thresh else \"black\")\n",
    "\n",
    "    plt.tight_layout()\n",
    "    plt.ylabel('Cluster Class', fontsize=12)\n",
    "    plt.xlabel('Actual Class', fontsize=12)"
   ]
  },
  {
   "cell_type": "code",
   "execution_count": null,
   "metadata": {
    "collapsed": true
   },
   "outputs": [],
   "source": [
    "#QUESTION 2: Report the contingency table of your clustering result."
   ]
  },
  {
   "cell_type": "code",
   "execution_count": null,
   "metadata": {
    "collapsed": true
   },
   "outputs": [],
   "source": [
    "#QUESTION 3: Report the 5 measures above for the K-means clustering results you get."
   ]
  },
  {
   "cell_type": "code",
   "execution_count": 31,
   "metadata": {},
   "outputs": [
    {
     "name": "stdout",
     "output_type": "stream",
     "text": [
      "contingency table:\n",
      "[[2338   51]\n",
      " [ 384 1959]]\n"
     ]
    },
    {
     "data": {
      "image/png": "[encoded data removed]",
      "text/plain": [
       "<matplotlib.figure.Figure at 0x10e6824e0>"
      ]
     },
     "metadata": {},
     "output_type": "display_data"
    },
    {
     "name": "stdout",
     "output_type": "stream",
     "text": [
      "Homogeneity: 0.589809143768\n",
      "Completeness: 0.599598316483\n",
      "V-measure: 0.594663446242\n",
      "Adjusted Rand Score: 0.666023599644\n",
      "Adjusted Mutual Info Score: 0.589746579899\n"
     ]
    }
   ],
   "source": [
    "# Print results\n",
    "confusion = metrics.confusion_matrix(binary_train_target, km.labels_)\n",
    "contingency = to_diagonal(confusion)\n",
    "\n",
    "print ('contingency table:')\n",
    "print (contingency)\n",
    "# Plot non-normalized contingency table\n",
    "plt.figure()\n",
    "title = 'Contingency table (original)'\n",
    "plot_contingency_table(contingency, title=title)\n",
    "plt.show()\n",
    "print ('Homogeneity:', metrics.homogeneity_score(binary_train_target, km.labels_))\n",
    "print ('Completeness:', metrics.completeness_score(binary_train_target, km.labels_))\n",
    "print ('V-measure:', metrics.v_measure_score(binary_train_target, km.labels_))\n",
    "print ('Adjusted Rand Score:', metrics.adjusted_rand_score(binary_train_target, km.labels_))\n",
    "print ('Adjusted Mutual Info Score:', metrics.adjusted_mutual_info_score(binary_train_target, km.labels_))"
   ]
  },
  {
   "cell_type": "code",
   "execution_count": null,
   "metadata": {
    "collapsed": true
   },
   "outputs": [],
   "source": [
    "# QUESTION 4: Report the plot of the percent of variance the top r principle compo-\n",
    "# nents can retain v.s. r, for r = 1 to 1000."
   ]
  },
  {
   "cell_type": "code",
   "execution_count": 34,
   "metadata": {},
   "outputs": [
    {
     "ename": "AttributeError",
     "evalue": "'TruncatedSVD' object has no attribute 'singular_values_'",
     "output_type": "error",
     "traceback": [
      "\u001b[0;31m---------------------------------------------------------------------------\u001b[0m",
      "\u001b[0;31mAttributeError\u001b[0m                            Traceback (most recent call last)",
      "\u001b[0;32m<ipython-input-34-2ad4130f4ddf>\u001b[0m in \u001b[0;36m<module>\u001b[0;34m()\u001b[0m\n\u001b[1;32m      3\u001b[0m \u001b[0mlsi_res\u001b[0m \u001b[0;34m=\u001b[0m \u001b[0msvd\u001b[0m\u001b[0;34m.\u001b[0m\u001b[0mfit_transform\u001b[0m\u001b[0;34m(\u001b[0m\u001b[0mX_train_tfidf\u001b[0m\u001b[0;34m)\u001b[0m\u001b[0;34m\u001b[0m\u001b[0m\n\u001b[1;32m      4\u001b[0m \u001b[0;34m\u001b[0m\u001b[0m\n\u001b[0;32m----> 5\u001b[0;31m \u001b[0msingular_values\u001b[0m \u001b[0;34m=\u001b[0m \u001b[0msvd\u001b[0m\u001b[0;34m.\u001b[0m\u001b[0msingular_values_\u001b[0m\u001b[0;34m\u001b[0m\u001b[0m\n\u001b[0m\u001b[1;32m      6\u001b[0m \u001b[0msin_val_square\u001b[0m \u001b[0;34m=\u001b[0m \u001b[0;34m[\u001b[0m\u001b[0mx\u001b[0m\u001b[0;34m*\u001b[0m\u001b[0mx\u001b[0m \u001b[0;32mfor\u001b[0m \u001b[0mx\u001b[0m \u001b[0;32min\u001b[0m \u001b[0msingular_values\u001b[0m\u001b[0;34m]\u001b[0m\u001b[0;34m\u001b[0m\u001b[0m\n\u001b[1;32m      7\u001b[0m \u001b[0moriginal_variance\u001b[0m \u001b[0;34m=\u001b[0m \u001b[0mnp\u001b[0m\u001b[0;34m.\u001b[0m\u001b[0msum\u001b[0m\u001b[0;34m(\u001b[0m\u001b[0msin_val_square\u001b[0m\u001b[0;34m)\u001b[0m\u001b[0;34m\u001b[0m\u001b[0m\n",
      "\u001b[0;31mAttributeError\u001b[0m: 'TruncatedSVD' object has no attribute 'singular_values_'"
     ]
    }
   ],
   "source": [
    "# calculate singular values\n",
    "svd = TruncatedSVD(n_components = X_train_tfidf.shape[1] - 1, n_iter = 10, random_state = 42)\n",
    "lsi_res = svd.fit_transform(X_train_tfidf)\n",
    "\n",
    "singular_values = svd.singular_values_\n",
    "sin_val_square = [x*x for x in singular_values]\n",
    "original_variance = np.sum(sin_val_square)\n",
    "prefix = []\n",
    "percent = []\n",
    "prefix.append(sin_val_square[0])\n",
    "percent.append(prefix[0] / original_variance)\n",
    "for terms in range(1, 1000, 1):\n",
    "    prefix.append(prefix[terms - 1] + sin_val_square[terms])\n",
    "    percent.append(prefix[terms] / original_variance)\n",
    "\n",
    "# calculate percent of variance v.s. r\n",
    "x_axis = [x for x in range(1, 1001, 1)]\n",
    "plt.figure(figsize=(12,9))\n",
    "plt.xlabel('Number of Principal Components r', fontsize = 18)\n",
    "plt.ylabel('Percent of Variance Retained', fontsize = 18)\n",
    "plt.title('Percent of Variance Retained (r = 1 to 1000)', fontsize = 23)\n",
    "plt.xlim([0.0, 1010])\n",
    "plt.ylim([0.0, 0.6])\n",
    "plt.plot(x_axis, percent)\n",
    "plt.show()"
   ]
  },
  {
   "cell_type": "code",
   "execution_count": 39,
   "metadata": {},
   "outputs": [
    {
     "ename": "AttributeError",
     "evalue": "'TruncatedSVD' object has no attribute 'singular_values_'",
     "output_type": "error",
     "traceback": [
      "\u001b[0;31m---------------------------------------------------------------------------\u001b[0m",
      "\u001b[0;31mAttributeError\u001b[0m                            Traceback (most recent call last)",
      "\u001b[0;32m<ipython-input-39-4e2ce95ac815>\u001b[0m in \u001b[0;36m<module>\u001b[0;34m()\u001b[0m\n\u001b[0;32m----> 1\u001b[0;31m \u001b[0msvd\u001b[0m\u001b[0;34m.\u001b[0m\u001b[0msingular_values_\u001b[0m\u001b[0;34m\u001b[0m\u001b[0m\n\u001b[0m",
      "\u001b[0;31mAttributeError\u001b[0m: 'TruncatedSVD' object has no attribute 'singular_values_'"
     ]
    }
   ],
   "source": [
    "svd.singular_values_"
   ]
  },
  {
   "cell_type": "code",
   "execution_count": null,
   "metadata": {
    "collapsed": true
   },
   "outputs": [],
   "source": [
    "# QUESTION 5:\n",
    "# Let r be the dimension that we want to reduce the data to (i.e. n components).\n",
    "# Try r = 1; 2; 3; 5; 10; 20; 50; 100; 300, and plot the 5 measure scores v.s. r for both\n",
    "# SVD and NMF.\n",
    "# Report the best r choice for SVD and NMF respectively.\n",
    "# Note: what is \\best\" after all? What if some measures contradict with each other? Here you are faced with this\n",
    "# challenge that you need to decide which measure you value the most, and design your own standard of \\best\".\n",
    "# Please explain your standard and justify it."
   ]
  },
  {
   "cell_type": "code",
   "execution_count": null,
   "metadata": {
    "collapsed": true
   },
   "outputs": [],
   "source": []
  },
  {
   "cell_type": "code",
   "execution_count": null,
   "metadata": {
    "collapsed": true
   },
   "outputs": [],
   "source": [
    "# QUESTION 6: How do you explain the non-monotonic behavior of the measures as r\n",
    "# increases?"
   ]
  },
  {
   "cell_type": "code",
   "execution_count": null,
   "metadata": {
    "collapsed": true
   },
   "outputs": [],
   "source": []
  },
  {
   "cell_type": "code",
   "execution_count": null,
   "metadata": {
    "collapsed": true
   },
   "outputs": [],
   "source": [
    "# QUESTION 7: Visualize the clustering results for:\n",
    "# \u000f SVD with its best r\n",
    "# \u000f NMF with its best r"
   ]
  },
  {
   "cell_type": "code",
   "execution_count": null,
   "metadata": {
    "collapsed": true
   },
   "outputs": [],
   "source": []
  },
  {
   "cell_type": "code",
   "execution_count": null,
   "metadata": {
    "collapsed": true
   },
   "outputs": [],
   "source": [
    "# QUESTION 8: Visualize the transformed data as in part (a)."
   ]
  },
  {
   "cell_type": "code",
   "execution_count": null,
   "metadata": {
    "collapsed": true
   },
   "outputs": [],
   "source": []
  },
  {
   "cell_type": "code",
   "execution_count": null,
   "metadata": {
    "collapsed": true
   },
   "outputs": [],
   "source": []
  },
  {
   "cell_type": "code",
   "execution_count": null,
   "metadata": {
    "collapsed": true
   },
   "outputs": [],
   "source": [
    "# QUESTION 9: Can you justify why the \\logarithm transformation\" may improve the\n",
    "# clustering results?"
   ]
  },
  {
   "cell_type": "code",
   "execution_count": null,
   "metadata": {
    "collapsed": true
   },
   "outputs": [],
   "source": []
  },
  {
   "cell_type": "code",
   "execution_count": null,
   "metadata": {
    "collapsed": true
   },
   "outputs": [],
   "source": []
  },
  {
   "cell_type": "code",
   "execution_count": null,
   "metadata": {
    "collapsed": true
   },
   "outputs": [],
   "source": [
    "# QUESTION 10: Report the new clustering measures (except for the contingency ma-\n",
    "# trix) for the clustering results of the transformed data."
   ]
  },
  {
   "cell_type": "code",
   "execution_count": null,
   "metadata": {
    "collapsed": true
   },
   "outputs": [],
   "source": []
  },
  {
   "cell_type": "code",
   "execution_count": null,
   "metadata": {
    "collapsed": true
   },
   "outputs": [],
   "source": []
  },
  {
   "cell_type": "code",
   "execution_count": null,
   "metadata": {
    "collapsed": true
   },
   "outputs": [],
   "source": [
    "# QUESTION 11: Repeat the following for 20 categories using the same parameters as in\n",
    "# 2-class case:\n",
    "# \u000f Transform corpus to TF-IDF matrix;\n",
    "# \u000f Directly perform K-means and report the 5 measures and the contingency matrix;"
   ]
  },
  {
   "cell_type": "code",
   "execution_count": null,
   "metadata": {
    "collapsed": true
   },
   "outputs": [],
   "source": []
  },
  {
   "cell_type": "code",
   "execution_count": null,
   "metadata": {
    "collapsed": true
   },
   "outputs": [],
   "source": []
  },
  {
   "cell_type": "code",
   "execution_count": null,
   "metadata": {
    "collapsed": true
   },
   "outputs": [],
   "source": []
  },
  {
   "cell_type": "code",
   "execution_count": null,
   "metadata": {
    "collapsed": true
   },
   "outputs": [],
   "source": [
    "# QUESTION 12: Try di\u000b",
    "erent dimensions for both truncated SVD and NMF dimensional-\n",
    "# ity reduction techniques and the di\u000b",
    "erent transformations of the obtained feature vectors as\n",
    "# outlined in above parts.\n",
    "# You don't need to report everything you tried, which will be tediously long. You are asked,\n",
    "# however, to report your best combination, and quantitatively report how much better\n",
    "# it is compared to other combinations. You should also include typical combinations\n",
    "# showing what choices are desirable (or undesirable)."
   ]
  },
  {
   "cell_type": "code",
   "execution_count": null,
   "metadata": {
    "collapsed": true
   },
   "outputs": [],
   "source": []
  }
 ],
 "metadata": {
  "kernelspec": {
   "display_name": "Python 3",
   "language": "python",
   "name": "python3"
  },
  "language_info": {
   "codemirror_mode": {
    "name": "ipython",
    "version": 3
   },
   "file_extension": ".py",
   "mimetype": "text/x-python",
   "name": "python",
   "nbconvert_exporter": "python",
   "pygments_lexer": "ipython3",
   "version": "3.6.1"
  }
 },
 "nbformat": 4,
 "nbformat_minor": 2
}
