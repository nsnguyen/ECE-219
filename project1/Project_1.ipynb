{
 "cells": [
  {
   "cell_type": "markdown",
   "metadata": {},
   "source": [
    "# Project 1\n",
    "## Team members:\n",
    "### Nguyen N\n",
    "### Brandon H\n",
    "### Jennifer M\n",
    "### Sam Y"
   ]
  },
  {
   "cell_type": "code",
   "execution_count": 1,
   "metadata": {},
   "outputs": [
    {
     "name": "stdout",
     "output_type": "stream",
     "text": [
      "[nltk_data] Downloading package punkt to\n",
      "[nltk_data]     /Users/jennifermacdonald/nltk_data...\n",
      "[nltk_data]   Package punkt is already up-to-date!\n",
      "[nltk_data] Downloading package averaged_perceptron_tagger to\n",
      "[nltk_data]     /Users/jennifermacdonald/nltk_data...\n",
      "[nltk_data]   Package averaged_perceptron_tagger is already up-to-\n",
      "[nltk_data]       date!\n",
      "[nltk_data] Downloading package wordnet to\n",
      "[nltk_data]     /Users/jennifermacdonald/nltk_data...\n",
      "[nltk_data]   Package wordnet is already up-to-date!\n"
     ]
    }
   ],
   "source": [
    "from sklearn.datasets import fetch_20newsgroups\n",
    "from matplotlib import pyplot as plt\n",
    "import numpy as np\n",
    "from numpy import array\n",
    "\n",
    "from sklearn.feature_extraction.text import CountVectorizer\n",
    "from sklearn.feature_extraction.text import TfidfTransformer\n",
    "\n",
    "from sklearn.decomposition import TruncatedSVD\n",
    "from sklearn.decomposition import NMF\n",
    "\n",
    "from sklearn.model_selection import GridSearchCV\n",
    "\n",
    "from sklearn.naive_bayes import MultinomialNB\n",
    "from sklearn.naive_bayes import BernoulliNB\n",
    "from sklearn.naive_bayes import GaussianNB\n",
    "from sklearn.linear_model import LogisticRegression\n",
    "\n",
    "from sklearn import metrics\n",
    "from sklearn import svm\n",
    "from sklearn.svm import SVC # for problem 3\n",
    "\n",
    "from sklearn.metrics import confusion_matrix\n",
    "from sklearn.metrics import accuracy_score\n",
    "from sklearn.metrics import recall_score # recall scorer\n",
    "from sklearn.metrics import precision_score # precision scorer\n",
    "from sklearn.metrics import roc_curve, auc # ROC curve\n",
    "from sklearn.metrics import f1_score # f1\n",
    "\n",
    "import nltk\n",
    "from nltk import pos_tag\n",
    "nltk.download(\"punkt\")\n",
    "nltk.download('averaged_perceptron_tagger')\n",
    "nltk.download('wordnet')\n",
    "\n",
    "import pandas as pd\n"
   ]
  },
  {
   "cell_type": "markdown",
   "metadata": {},
   "source": [
    "# Getting familiar with the dataset"
   ]
  },
  {
   "cell_type": "code",
   "execution_count": 2,
   "metadata": {},
   "outputs": [],
   "source": [
    "# from sklearn.datasets import fetch_20newsgroups\n",
    "# # Refer to the offcial document of scikit-learn for detailed usages:\n",
    "# # http://scikit-learn.org/stable/modules/generated/sklearn.datasets.fetch_20newsgroups.html\n",
    "# categories = ['comp.graphics', 'comp.sys.mac.hardware']\n",
    "# # The \n",
    "# twenty_train = fetch_20newsgroups(subset='train', # choose which subset of the dataset to use; can be 'train', 'test', 'all'\n",
    "# #                                   categories=categories, # choose the categories to load; if is `None`, load all categories\n",
    "#                                   shuffle=True,\n",
    "#                                   random_state=42, # set the seed of random number generator when shuffling to make the outcome repeatable across different runs\n",
    "# #                                   remove=['headers'],\n",
    "#                                  )\n",
    "# twenty_test = fetch_20newsgroups(subset='test',\n",
    "# #                                  categories=categories,\n",
    "#                                  shuffle=True,\n",
    "#                                  random_state=42)"
   ]
  },
  {
   "cell_type": "markdown",
   "metadata": {},
   "source": [
    "## QUESTION 1: To get started, plot a histogram of the number of training documents per category to check if they are evenly distributed. nltk.download()"
   ]
  },
  {
   "cell_type": "code",
   "execution_count": 3,
   "metadata": {},
   "outputs": [],
   "source": [
    "computer_technology_subclasses = ['comp.graphics',\n",
    "                                  'comp.os.ms-windows.misc',\n",
    "                                  'comp.sys.ibm.pc.hardware',\n",
    "                                  'comp.sys.mac.hardware']\n",
    "\n",
    "recreational_activity_subclasses = ['rec.autos',\n",
    "                                    'rec.motorcycles',\n",
    "                                    'rec.sport.baseball',\n",
    "                                    'rec.sport.hockey']\n",
    "\n",
    "categories = computer_technology_subclasses + recreational_activity_subclasses"
   ]
  },
  {
   "cell_type": "code",
   "execution_count": 4,
   "metadata": {},
   "outputs": [],
   "source": [
    "train_dataset = fetch_20newsgroups(subset='train', categories=categories,\n",
    "shuffle=True, random_state=42, remove=('headers', 'footers'))\n",
    "\n",
    "test_dataset = fetch_20newsgroups(subset='test', categories=categories,\n",
    "shuffle=True, random_state=42, remove=('headers', 'footers'))\n",
    "\n",
    "comp_tech_train = fetch_20newsgroups(subset='train', categories=computer_technology_subclasses, shuffle=True, random_state=42, remove=('headers', 'footers'))\n",
    "rec_act_train = fetch_20newsgroups(subset='train', categories=recreational_activity_subclasses, shuffle=True, random_state=42, remove=('headers', 'footers'))\n",
    "comp_tech_test = fetch_20newsgroups(subset='test', categories=computer_technology_subclasses, shuffle=True, random_state=42, remove=('headers', 'footers'))\n",
    "rec_act_test = fetch_20newsgroups(subset='test', categories=recreational_activity_subclasses, shuffle=True, random_state=42, remove=('headers', 'footers'))\n",
    "\n",
    "\n",
    "# train_target_names = data_dict['Computer Technology Train']['target_names'] + data_dict['Recreational Activity Train']['target_names']\n",
    "\n",
    "# test_target = data_dict['Computer Technology Test']['target'] + data_dict['Recreational Activity Test']['target']\n",
    "# test_target_names = data_dict['Computer Technology Test']['target_names'] + data_dict['Recreational Activity Test']['target_names']\n",
    "\n"
   ]
  },
  {
   "cell_type": "markdown",
   "metadata": {},
   "source": [
    "# Turn Multiclass into Binary"
   ]
  },
  {
   "cell_type": "code",
   "execution_count": 5,
   "metadata": {},
   "outputs": [
    {
     "name": "stdout",
     "output_type": "stream",
     "text": [
      "Sanity Check!\n",
      "\n",
      "Training Set\n",
      "Original train_dataset.target: [6 7 4 2 1 3 0 7 5 3 0 5 5 5 3 1 3 0 0 2]\n",
      "Binarized train_dataset.target:[1 1 1 0 0 0 0 1 1 0 0 1 1 1 0 0 0 0 0 0]\n",
      "\n",
      "Test Set\n",
      "Original test_dataset.target:  [3 2 3 3 2 3 2 6 0 1 0 1 7 7 1 5 7 2 0 1]\n",
      "Binarized test_dataset.target: [0 0 0 0 0 0 0 1 0 0 0 0 1 1 0 1 1 0 0 0]\n"
     ]
    }
   ],
   "source": [
    "binary_train_target = train_dataset.target.copy()\n",
    "binary_test_target = test_dataset.target.copy()\n",
    "computer_class_indices = [0,1,2,3]\n",
    "recreational_class_indices = [4,5,6,7]\n",
    "\n",
    "computer_class_label = 0\n",
    "recreational_class_label = 1\n",
    "\n",
    "# Binarize computer-class labels\n",
    "for i in computer_class_indices:\n",
    "    binary_train_target[binary_train_target == i] = computer_class_label\n",
    "    binary_test_target[binary_test_target == i] = computer_class_label\n",
    "\n",
    "# Binarize recreational-class labels\n",
    "for i in recreational_class_indices:\n",
    "    binary_train_target[binary_train_target==i] = recreational_class_label\n",
    "    binary_test_target[binary_test_target == i] = recreational_class_label\n",
    "\n",
    "print(\"Sanity Check!\\n\")\n",
    "print(\"Training Set\")\n",
    "print(\"Original train_dataset.target: \" + str(train_dataset.target[0:20]))\n",
    "print(\"Binarized train_dataset.target:\" + str(binary_train_target[0:20]))\n",
    "print(\"\\nTest Set\")\n",
    "print(\"Original test_dataset.target:  \" + str(test_dataset.target[0:20]))\n",
    "print(\"Binarized test_dataset.target: \" + str(binary_test_target[0:20]))"
   ]
  },
  {
   "cell_type": "code",
   "execution_count": 51,
   "metadata": {},
   "outputs": [],
   "source": [
    "def plot_histogram(dataset_target, dataset_target_names):\n",
    "    number_of_documents = []\n",
    "\n",
    "    for i in range(len(dataset_target_names)):\n",
    "        number_of_documents.append(len([x for x in dataset_target if x == i]))\n",
    "\n",
    "    #plot histogram\n",
    "    x_labels = dataset_target_names\n",
    "    fig, ax = plt.subplots()\n",
    "    ax.set_xticks([i+0.35 for i in range(1,9)])\n",
    "    ax.set_xticklabels(x_labels, rotation=45, ha='right', fontsize = 12)\n",
    "\n",
    "    rects = plt.bar([i for i in range(1,9)], number_of_documents, align='edge')\n",
    "    plt.xlabel('Topics', fontsize = 14)\n",
    "    plt.ylabel('Number of Documents', fontsize = 14)\n",
    "    plt.title('Number of documents per topic ', fontsize = 18)\n",
    "    plt.axis([0.5,9,0,1100])\n",
    "\n",
    "    for rect in rects:\n",
    "        height = rect.get_height()\n",
    "        ax.text(rect.get_x() + rect.get_width()/2., 1*height, '%d' % int(height), ha='center', va='bottom')\n",
    "    print('Length: ' + str(len(dataset_target)))\n",
    "    plt.show()"
   ]
  },
  {
   "cell_type": "code",
   "execution_count": 52,
   "metadata": {},
   "outputs": [
    {
     "name": "stdout",
     "output_type": "stream",
     "text": [
      "Train Dataset\n",
      "Length: 4732\n"
     ]
    },
    {
     "data": {
      "image/png": "[encoded data removed]",
      "text/plain": [
       "<matplotlib.figure.Figure at 0x1a13923588>"
      ]
     },
     "metadata": {},
     "output_type": "display_data"
    },
    {
     "name": "stdout",
     "output_type": "stream",
     "text": [
      "Test Dataset\n",
      "Length: 3150\n"
     ]
    },
    {
     "data": {
      "image/png": "[encoded data removed]",
      "text/plain": [
       "<matplotlib.figure.Figure at 0x1a1386a128>"
      ]
     },
     "metadata": {},
     "output_type": "display_data"
    }
   ],
   "source": [
    "print('Train Dataset')\n",
    "plot_histogram(train_dataset.target, train_dataset.target_names)\n",
    "\n",
    "print('Test Dataset')\n",
    "plot_histogram(test_dataset.target, test_dataset.target_names)"
   ]
  },
  {
   "cell_type": "markdown",
   "metadata": {},
   "source": [
    "# Binary Classification"
   ]
  },
  {
   "cell_type": "markdown",
   "metadata": {
    "collapsed": true
   },
   "source": [
    "## 1. Feature Extraction"
   ]
  },
  {
   "cell_type": "markdown",
   "metadata": {
    "collapsed": true
   },
   "source": [
    "## QUESTION 2: Use the following specs to extract features from the textual data:\n",
    "## • Use the default stopwords of the CountVectorizer\n",
    "## • Exclude terms that are numbers (e.g. “123”, “-45”, “6.7” etc.)\n",
    "## • Perform lemmatization with nltk.wordnet.WordNetLemmatizer and pos_tag\n",
    "## • Use min_df=3\n",
    "## Report the shape of the TF-IDF matrices of the train and test subsets respectively."
   ]
  },
  {
   "cell_type": "code",
   "execution_count": 53,
   "metadata": {},
   "outputs": [],
   "source": [
    "# we need to Lemmatize this.\n",
    "def penn2morphy(penntag):\n",
    "    \"\"\" Converts Penn Treebank tags to WordNet. \"\"\"\n",
    "    morphy_tag = {'NN':'n', 'JJ':'a',\n",
    "                  'VB':'v', 'RB':'r'}\n",
    "    try:\n",
    "        return morphy_tag[penntag[:2]]\n",
    "    except:\n",
    "        return 'n' \n",
    "    \n",
    "def lemmatize_parse(text):\n",
    "    wnl = nltk.wordnet.WordNetLemmatizer()\n",
    "    lemmatize = []\n",
    "    for word, tag in pos_tag(nltk.word_tokenize(text)):\n",
    "        if(word.isdigit() or word.isalpha()):\n",
    "            lemmatize.append(wnl.lemmatize(word.lower(), pos=penn2morphy(tag)))\n",
    "    return lemmatize"
   ]
  },
  {
   "cell_type": "code",
   "execution_count": 54,
   "metadata": {},
   "outputs": [],
   "source": [
    "# set lemmatize \n",
    "\n",
    "train_data_lemmatized = []\n",
    "for item in train_dataset.data:\n",
    "    train_data_lemmatized.append(' '.join(lemmatize_parse(item)))\n",
    "    \n",
    "test_dataset_lemmatized = []\n",
    "for item in test_dataset.data:\n",
    "    test_dataset_lemmatized.append(' '.join(lemmatize_parse(item)))\n",
    "    \n",
    "train_dataset.data = train_data_lemmatized\n",
    "test_dataset.data = test_dataset_lemmatized"
   ]
  },
  {
   "cell_type": "code",
   "execution_count": 55,
   "metadata": {},
   "outputs": [],
   "source": [
    "# vectorize - fit and transform\n",
    "vectorizer = CountVectorizer(min_df=3, stop_words='english')\n",
    "X_train_counts = vectorizer.fit_transform(train_dataset.data)\n",
    "X_test_counts = vectorizer.transform(test_dataset.data)"
   ]
  },
  {
   "cell_type": "code",
   "execution_count": 56,
   "metadata": {},
   "outputs": [],
   "source": [
    "# generate TFxIDF\n",
    "tfidf_transformer = TfidfTransformer()\n",
    "X_train_tfidf = tfidf_transformer.fit_transform(X_train_counts)\n",
    "X_test_tfidf = tfidf_transformer.fit_transform(X_test_counts)"
   ]
  },
  {
   "cell_type": "code",
   "execution_count": 57,
   "metadata": {},
   "outputs": [
    {
     "data": {
      "text/plain": [
       "(4732, 10583)"
      ]
     },
     "execution_count": 57,
     "metadata": {},
     "output_type": "execute_result"
    }
   ],
   "source": [
    "X_train_tfidf.shape"
   ]
  },
  {
   "cell_type": "code",
   "execution_count": 58,
   "metadata": {},
   "outputs": [
    {
     "data": {
      "text/plain": [
       "(3150, 10583)"
      ]
     },
     "execution_count": 58,
     "metadata": {},
     "output_type": "execute_result"
    }
   ],
   "source": [
    "X_test_tfidf.shape"
   ]
  },
  {
   "cell_type": "markdown",
   "metadata": {},
   "source": [
    "## 2. Dimensionality Reduction"
   ]
  },
  {
   "cell_type": "markdown",
   "metadata": {
    "collapsed": true
   },
   "source": [
    "## QUESTION 3: Reduce the dimensionality of the data using the methods above\n",
    "## • Apply LSI to the TF-IDF matrix corresponding to the 8 categories with k = 50; so each document is mapped to a 50-dimensional vector.\n",
    "## • Also reduce dimensionality through NMF and compare with LSI: Which one is larger?"
   ]
  },
  {
   "cell_type": "code",
   "execution_count": 59,
   "metadata": {},
   "outputs": [
    {
     "name": "stdout",
     "output_type": "stream",
     "text": [
      "LSI train:\n",
      "(4732, 50)\n",
      "LSI test:\n",
      "(3150, 50)\n",
      "\n",
      "NMF train:\n",
      "(4732, 50)\n",
      "NMF test:\n",
      "(3150, 50)\n",
      "\n"
     ]
    }
   ],
   "source": [
    "# using LSI\n",
    "lsi = TruncatedSVD(n_components = 50,n_iter = 10, random_state = 42)\n",
    "lsi_train = lsi.fit_transform(X_train_tfidf)\n",
    "lsi_test = lsi.fit_transform(X_test_tfidf)\n",
    "print('LSI train:')\n",
    "print(lsi_train.shape)\n",
    "print('LSI test:')\n",
    "print(lsi_test.shape)\n",
    "print('')\n",
    "\n",
    "# using NMF\n",
    "nmf = NMF(n_components=50, init='random', random_state=42)\n",
    "nmf_train = nmf.fit_transform(X_train_tfidf)\n",
    "nmf_test = nmf.fit_transform(X_test_tfidf)\n",
    "print('NMF train:')\n",
    "print(nmf_train.shape)\n",
    "print('NMF test:')\n",
    "print(nmf_test.shape)\n",
    "print('')"
   ]
  },
  {
   "cell_type": "markdown",
   "metadata": {
    "collapsed": true
   },
   "source": [
    "## QUESTION 4: Hard margin and soft margin linear SVMs:\n",
    "## • Train two linear SVMs and compare:\n",
    "##      – Train one SVM with y= 1000 (hard margin), another with y= 0:0001 (soft margin).\n",
    "##      – Plot the ROC curve, report the confusion matrix and calculate the accuracy, recall, precision and F-1 score of both SVM classifier. Which one performs better?\n",
    "##      – What happens for the soft margin SVM? Why is the case?\n",
    "## • Use cross-validation to choose y:\n",
    "## Using a 5-fold cross-validation, find the best value of the parameter in the range f10kj 􀀀 3 \u0014 k \u0014 3; k 2 Zg. Again, plot the ROC curve and report the confusion matrix and calculate the accuracy, recall precision and F-1 score of this best SVM."
   ]
  },
  {
   "cell_type": "code",
   "execution_count": 60,
   "metadata": {},
   "outputs": [],
   "source": [
    "# # methods = ['LSI', 'NMF']\n",
    "# # min_df = [3]\n",
    "# # fprs = []\n",
    "# # tprs = []\n",
    "# # conf_matrices = []\n",
    "\n",
    "# def predict(methods, lsi_train, lsi_test, nmf_train, nmf_test, train_dataset):\n",
    "#     for method in methods:\n",
    "#         for ga in [1000, 0.001]:\n",
    "#             if method.upper() == 'LSI':\n",
    "#                 svc = svm.SVC(gamma = ga, kernel='linear', probability = True)\n",
    "#                 svc.fit(lsi_train, )\n",
    "            \n",
    "#         #Use the SVC method and enable probability estimates\n",
    "#         svc = \n",
    "#         #fitting the model\n",
    "#         svc.fit()\n",
    "        "
   ]
  },
  {
   "cell_type": "code",
   "execution_count": 67,
   "metadata": {},
   "outputs": [],
   "source": [
    "svc_hard = svm.SVC(gamma = 1000, kernel='linear', probability = True)\n",
    "svc_hard.fit(lsi_train, train_dataset.target)\n",
    "\n",
    "predicted = svc_hard.predict(lsi_test)"
   ]
  },
  {
   "cell_type": "code",
   "execution_count": 76,
   "metadata": {},
   "outputs": [
    {
     "data": {
      "text/plain": [
       "array([3, 2, 3, 3, 2, 3, 2, 6, 0, 1, 0, 1, 7, 7, 1, 5, 7, 2, 0, 1])"
      ]
     },
     "execution_count": 76,
     "metadata": {},
     "output_type": "execute_result"
    }
   ],
   "source": [
    "test_dataset.target[0:20]"
   ]
  },
  {
   "cell_type": "code",
   "execution_count": 77,
   "metadata": {},
   "outputs": [
    {
     "data": {
      "text/plain": [
       "array([3, 2, 3, 3, 2, 3, 2, 6, 0, 1, 0, 1, 7, 7, 1, 5, 7, 2, 0, 1])"
      ]
     },
     "execution_count": 77,
     "metadata": {},
     "output_type": "execute_result"
    }
   ],
   "source": [
    "test_dataset['target'].ravel()[0:20]"
   ]
  },
  {
   "cell_type": "code",
   "execution_count": 78,
   "metadata": {},
   "outputs": [
    {
     "data": {
      "text/plain": [
       "array([2, 4, 0, 4, 2, 1, 0, 6, 2, 0, 2, 1, 7, 6, 1, 2, 6, 2, 2, 5])"
      ]
     },
     "execution_count": 78,
     "metadata": {},
     "output_type": "execute_result"
    }
   ],
   "source": [
    "predicted[0:20]"
   ]
  },
  {
   "cell_type": "code",
   "execution_count": 72,
   "metadata": {},
   "outputs": [
    {
     "name": "stdout",
     "output_type": "stream",
     "text": [
      "Accuracy: 0.30603174603174604\n"
     ]
    }
   ],
   "source": [
    "print('Accuracy: ' + str(metrics.accuracy_score(test_dataset['target'].ravel(), predicted)))"
   ]
  },
  {
   "cell_type": "code",
   "execution_count": 68,
   "metadata": {},
   "outputs": [
    {
     "name": "stdout",
     "output_type": "stream",
     "text": [
      "Accuracy: 0.30603174603174604\n",
      "Precision: 0.32814097056200947\n",
      "Recall: 0.30603174603174604\n",
      "F-1 Score: 0.3121765169844489\n",
      "Predicted    0    1    2    3    4    5    6    7   All\n",
      "True                                                   \n",
      "0          132   31   90  121    1    7    4    3   389\n",
      "1           53  234   46   39    9    8    4    1   394\n",
      "2          122   79   67   23   78   19    3    1   392\n",
      "3           87   55   96   44   45   48    9    1   385\n",
      "4            5    1  264    8   46   10   13   49   396\n",
      "5            3    0   93   76   16  159   43    8   398\n",
      "6            7    1   22   20   20    9  135  183   397\n",
      "7            1    0   17    5   17   13  199  147   399\n",
      "All        410  401  695  336  232  273  410  393  3150\n"
     ]
    }
   ],
   "source": [
    "print('Accuracy: ' + str(metrics.accuracy_score(test_dataset['target'].ravel(), predicted)))\n",
    "print('Precision: ' + str(metrics.precision_score(test_dataset['target'].ravel(), predicted, average='weighted')))\n",
    "print('Recall: ' + str(metrics.recall_score(test_dataset['target'].ravel(), predicted, average='weighted')))\n",
    "print('F-1 Score: ' + str(metrics.f1_score(test_dataset['target'].ravel(), predicted, average='weighted')))\n",
    "print(pd.crosstab(test_dataset['target'].ravel(), predicted, rownames=['True'], colnames=['Predicted'], margins=True))"
   ]
  },
  {
   "cell_type": "code",
   "execution_count": 20,
   "metadata": {},
   "outputs": [],
   "source": [
    "svc_soft = svm.SVC(gamma = 0.0001, kernel='linear', probability = True)\n",
    "svc_soft.fit(lsi_train, train_dataset.target)\n",
    "\n",
    "predicted = svc_soft.predict(lsi_test)"
   ]
  },
  {
   "cell_type": "code",
   "execution_count": 21,
   "metadata": {},
   "outputs": [
    {
     "name": "stdout",
     "output_type": "stream",
     "text": [
      "Accuracy: 0.30253968253968255\n",
      "Precision: 0.3003596802916836\n",
      "Recall: 0.30253968253968255\n",
      "F-1 Score: 0.29694731033344907\n",
      "Predicted    0    1    2    3    4    5    6    7   All\n",
      "True                                                   \n",
      "0          107   37  108  127    0    8    2    0   389\n",
      "1           67  223   64   11   11   13    4    1   394\n",
      "2           87   91   73   21   79   34    6    1   392\n",
      "3          124   33   77   40   35   74    2    0   385\n",
      "4            9    4  196   76   25   14   26   46   396\n",
      "5            3    2  213   16   70   23   70    1   398\n",
      "6            6    1   32   20   22   19  175  122   397\n",
      "7            2    0   15    7   14    6   68  287   399\n",
      "All        405  391  778  318  256  191  353  458  3150\n"
     ]
    }
   ],
   "source": [
    "print('Accuracy: ' + str(metrics.accuracy_score(test_dataset['target'].ravel(), predicted)))\n",
    "print('Precision: ' + str(metrics.precision_score(test_dataset['target'].ravel(), predicted, average='weighted')))\n",
    "print('Recall: ' + str(metrics.recall_score(test_dataset['target'].ravel(), predicted, average='weighted')))\n",
    "print('F-1 Score: ' + str(metrics.f1_score(test_dataset['target'].ravel(), predicted, average='weighted')))\n",
    "print(pd.crosstab(test_dataset['target'].ravel(), predicted, rownames=['True'], colnames=['Predicted'], margins=True))"
   ]
  },
  {
   "cell_type": "code",
   "execution_count": 22,
   "metadata": {},
   "outputs": [],
   "source": [
    "svc_hard = svm.SVC(gamma = 1000, kernel='linear', probability = True)\n",
    "svc_hard.fit(nmf_train, train_dataset.target)\n",
    "\n",
    "predicted = svc_hard.predict(nmf_test)"
   ]
  },
  {
   "cell_type": "code",
   "execution_count": 23,
   "metadata": {},
   "outputs": [
    {
     "name": "stdout",
     "output_type": "stream",
     "text": [
      "Accuracy: 0.32666666666666666\n",
      "Precision: 0.32287255289498173\n",
      "Recall: 0.32666666666666666\n",
      "F-1 Score: 0.29881881631418394\n",
      "Predicted    0    1    2    3    4    5   6    7   All\n",
      "True                                                  \n",
      "0          204   35   14   29   11   22  11   63   389\n",
      "1           87   75   42   34   49   43   1   63   394\n",
      "2           86   34   90   73   55   30   2   22   392\n",
      "3           77   56   60   85   54   22   2   29   385\n",
      "4           84   24    5    9  221   14   1   38   396\n",
      "5           52    2    7    1  137   98   1  100   398\n",
      "6           57   36    0   11   27   17  19  230   397\n",
      "7           12   32    7   28   32    8  43  237   399\n",
      "All        659  294  225  270  586  254  80  782  3150\n"
     ]
    }
   ],
   "source": [
    "print('Accuracy: ' + str(metrics.accuracy_score(test_dataset['target'].ravel(), predicted)))\n",
    "print('Precision: ' + str(metrics.precision_score(test_dataset['target'].ravel(), predicted, average='weighted')))\n",
    "print('Recall: ' + str(metrics.recall_score(test_dataset['target'].ravel(), predicted, average='weighted')))\n",
    "print('F-1 Score: ' + str(metrics.f1_score(test_dataset['target'].ravel(), predicted, average='weighted')))\n",
    "print(pd.crosstab(test_dataset['target'].ravel(), predicted, rownames=['True'], colnames=['Predicted'], margins=True))"
   ]
  },
  {
   "cell_type": "code",
   "execution_count": 24,
   "metadata": {},
   "outputs": [],
   "source": [
    "svc_soft = svm.SVC(gamma = 0.0001, kernel='linear', probability = True)\n",
    "svc_soft.fit(nmf_train, train_dataset.target)\n",
    "\n",
    "predicted = svc_soft.predict(nmf_test)"
   ]
  },
  {
   "cell_type": "code",
   "execution_count": 25,
   "metadata": {},
   "outputs": [
    {
     "name": "stdout",
     "output_type": "stream",
     "text": [
      "Accuracy: 0.32666666666666666\n",
      "Precision: 0.32287255289498173\n",
      "Recall: 0.32666666666666666\n",
      "F-1 Score: 0.29881881631418394\n",
      "Predicted    0    1    2    3    4    5   6    7   All\n",
      "True                                                  \n",
      "0          204   35   14   29   11   22  11   63   389\n",
      "1           87   75   42   34   49   43   1   63   394\n",
      "2           86   34   90   73   55   30   2   22   392\n",
      "3           77   56   60   85   54   22   2   29   385\n",
      "4           84   24    5    9  221   14   1   38   396\n",
      "5           52    2    7    1  137   98   1  100   398\n",
      "6           57   36    0   11   27   17  19  230   397\n",
      "7           12   32    7   28   32    8  43  237   399\n",
      "All        659  294  225  270  586  254  80  782  3150\n"
     ]
    }
   ],
   "source": [
    "print('Accuracy: ' + str(metrics.accuracy_score(test_dataset['target'].ravel(), predicted)))\n",
    "print('Precision: ' + str(metrics.precision_score(test_dataset['target'].ravel(), predicted, average='weighted')))\n",
    "print('Recall: ' + str(metrics.recall_score(test_dataset['target'].ravel(), predicted, average='weighted')))\n",
    "print('F-1 Score: ' + str(metrics.f1_score(test_dataset['target'].ravel(), predicted, average='weighted')))\n",
    "print(pd.crosstab(test_dataset['target'].ravel(), predicted, rownames=['True'], colnames=['Predicted'], margins=True))"
   ]
  },
  {
   "cell_type": "code",
   "execution_count": null,
   "metadata": {},
   "outputs": [],
   "source": []
  },
  {
   "cell_type": "code",
   "execution_count": null,
   "metadata": {},
   "outputs": [],
   "source": []
  },
  {
   "cell_type": "code",
   "execution_count": null,
   "metadata": {},
   "outputs": [],
   "source": []
  },
  {
   "cell_type": "markdown",
   "metadata": {},
   "source": [
    "# roc curve plotting functions"
   ]
  },
  {
   "cell_type": "code",
   "execution_count": 42,
   "metadata": {},
   "outputs": [],
   "source": [
    "def plot_roc(fpr, tpr):\n",
    "    fig, ax = plt.subplots()\n",
    "\n",
    "    roc_auc = auc(fpr,tpr)\n",
    "\n",
    "    ax.plot(fpr, tpr, lw=2, label= 'area under curve = %0.4f' % roc_auc)\n",
    "\n",
    "    ax.grid(color='0.7', linestyle='--', linewidth=1)\n",
    "\n",
    "    ax.set_xlim([-0.1, 1.1])\n",
    "    ax.set_ylim([0.0, 1.05])\n",
    "    ax.set_xlabel('False Positive Rate',fontsize=15)\n",
    "    ax.set_ylabel('True Positive Rate',fontsize=15)\n",
    "\n",
    "    ax.legend(loc=\"lower right\")\n",
    "\n",
    "    for label in ax.get_xticklabels()+ax.get_yticklabels():\n",
    "        label.set_fontsize(15)\n",
    "\n",
    "def fit_predict_and_plot_roc(pipe, train_data, train_label, test_data, test_label):\n",
    "    pipe.fit(train_data, train_label)\n",
    "    # pipeline1.predict(twenty_test.data)\n",
    "\n",
    "    prob_score = pipe.predict_proba(test_data)\n",
    "\n",
    "    fpr, tpr, _ = roc_curve(test_label, prob_score[:,1])\n",
    "\n",
    "    plot_roc(fpr, tpr)\n",
    "    return pipe\n",
    "\n",
    "# EXAMPLE USE:\n",
    "# fit_predict_and_plot_roc(pipeline1, twenty_train.data, twenty_train.target, twenty_test.data, twenty_test.target)"
   ]
  },
  {
   "cell_type": "code",
   "execution_count": null,
   "metadata": {},
   "outputs": [],
   "source": [
    "#hard margin\n",
    "hard_svm = svm.SVC(kernel='linear', gamma = 1000)\n",
    "hard_svm.fit(X_train_tfidf, train_dataset.target)\n"
   ]
  },
  {
   "cell_type": "code",
   "execution_count": null,
   "metadata": {},
   "outputs": [],
   "source": [
    "predicted = hard_svm.predict(X_test_tfidf.toarray())"
   ]
  },
  {
   "cell_type": "code",
   "execution_count": null,
   "metadata": {},
   "outputs": [],
   "source": [
    "pd.crosstab(test_dataset['target'].ravel(), predicted, rownames=['True'], colnames=['Predicted'], margins=True)"
   ]
  },
  {
   "cell_type": "code",
   "execution_count": null,
   "metadata": {},
   "outputs": [],
   "source": [
    "# soft-margin SVC\n",
    "svc_softmargin = SVC(kernel='linear', gamma=0.0001)"
   ]
  },
  {
   "cell_type": "code",
   "execution_count": null,
   "metadata": {},
   "outputs": [],
   "source": [
    "# combined X training matrices for iteraiton\n",
    "X_news = [X_train_tfidf, svd_res, nmf_res]\n",
    "# X_news_test = [X_test_tfidf, , ]\n",
    "# y training\n",
    "y_news = train_dataset.target\n",
    "# y_test\n",
    "y_news_test = test_dataset.target"
   ]
  },
  {
   "cell_type": "code",
   "execution_count": null,
   "metadata": {},
   "outputs": [],
   "source": [
    "# print out SVC soft-margin ROC, Confusion, Accuracy, Recall, Precision for tfidf, lsi, nmf datasets\n",
    "labels = ['TFIDF', 'LSI', 'NMF']\n",
    "for idx, x in enumerate(X_news):\n",
    "    svc_softmargin.fit(x, y_news)\n",
    "    svc_softmargin_pred = svc_softmargin.predict(x)\n",
    "    #svc_softmargin_roc = roc_curve(y_true=y_news, y_score=svc_softmargin_pred)\n",
    "    svc_softmargin_confusion = confusion_matrix(y_true=y_news, y_pred=svc_softmargin_pred)\n",
    "    svc_softmargin_accuracy = accuracy_score(y_true=y_news, y_pred=svc_softmargin_pred)\n",
    "    #svc_softmargin_recall = recall_score(y_true=y_news, y_pred=svc_softmargin_pred, average='samples')\n",
    "    #svc_softmargin_precision = precision_score(y_true=y_news, y_pred=svc_softmargin_pred)\n",
    "    #svc_softmargin_f1 = f1_score(y_true=y_news, y_pred=svc_softmargin_pred)\n",
    "    #print(\"Training-set SVC Soft-margin \" + labels[idx] + \" ROC curve: \" + svc_softmargin_roc)\n",
    "    print(\"Training-set SVC Soft-margin \" + labels[idx] + \" Confusion matrix: \" + str(svc_softmargin_confusion))\n",
    "    print(\"Training-set SVC Soft-margin \" + labels[idx] + \" Accuracy Score: \" + str(svc_softmargin_accuracy))\n",
    "    #print(\"Training-set SVC Soft-margin \" + labels[idx] + \" Recall Score: \" + svc_softmargin_recall)\n",
    "    #print(\"Training-set SVC Soft-margin \" + labels[idx] + \" Precision Score: \" + svc_softmargin_precision)\n",
    "    #print(\"Training-set SVC Soft-margin \" + labels[idx] + \" F1 Score: \" + svc_softmargin_f1)"
   ]
  },
  {
   "cell_type": "markdown",
   "metadata": {},
   "source": [
    "# GridSearchCV"
   ]
  },
  {
   "cell_type": "code",
   "execution_count": null,
   "metadata": {},
   "outputs": [],
   "source": [
    "# GridSearch, 5-fold CV\n",
    "svc = SVC()\n",
    "param_grid = {'gamma':np.arange(0.001, 1000)}\n",
    "gs_svc = GridSearchCV(estimator=svc, param_grid=param_grid, cv=5, scoring='accuracy')\n",
    "gs_svc.fit(X_tfidf, y_news)\n",
    "# best gamma:\n",
    "best_gamma = gs_svc.best_estimator_\n",
    "print(\"Optimal gamma for SVC: \" + best_gamma)"
   ]
  },
  {
   "cell_type": "code",
   "execution_count": null,
   "metadata": {},
   "outputs": [],
   "source": [
    "# SVC using best gamma for dataset\n",
    "svc_bestgamma = SVC(gamma=best_gamma)"
   ]
  },
  {
   "cell_type": "code",
   "execution_count": null,
   "metadata": {},
   "outputs": [],
   "source": [
    "for idx, x in enumerate(X_news):\n",
    "    svc_bestgamma.fit(x, y_news)\n",
    "    svc_bestgamma_pred = svc_bestgamma.predict(x)\n",
    "    #svc_bestgamma_roc = roc_curve(y_true=y_news, y_score=svc_bestgamma_pred)\n",
    "    svc_bestgamma_confusion = confusion_matrix(y_true=y_news, y_pred=svc_bestgamma_pred)\n",
    "    svc_bestgamma_accuracy = accuracy_score(y_true=y_news, y_pred=svc_bestgamma_pred)\n",
    "    #svc_bestgamma_recall = recall_score(y_true=y_news, y_pred=svc_bestgamma_pred)\n",
    "    #svc_bestgamma_precision = precision_score(y_true=y_news, y_pred=svc_bestgamma_pred)\n",
    "    #svc_bestgamma_f1 = f1_score(y_true=y_news, y_pred=svc_bestgamma_pred)\n",
    "    #print(\"SVC Best-gamma \" + labels[idx] + \" ROC curve: \" + svc_bestgamma_roc)\n",
    "    print(\"SVC Best-gamma \" + labels[idx] + \" Confusion matrix: \" + str(svc_bestgamma_confusion))\n",
    "    print(\"SVC Best-gamma \" + labels[idx] + \" Accuracy Score: \" + str(svc_bestgamma_accuracy))\n",
    "    #print(\"SVC Best-gamma \" + labels[idx] + \" Recall Score: \" + str(svc_bestgamma_recall))\n",
    "    #print(\"SVC Best-gamma \" + labels[idx] + \" Precision Score: \" + str(svc_bestgamma_precision))\n",
    "    #print(\"Training-set SVC Best-gamma \" + labels[idx] + \" F1 Score: \" + str(svc_bestgamma_f1))"
   ]
  },
  {
   "cell_type": "markdown",
   "metadata": {},
   "source": [
    "# Logistic Regression"
   ]
  },
  {
   "cell_type": "code",
   "execution_count": null,
   "metadata": {},
   "outputs": [],
   "source": [
    "logistic = LogisticRegression()\n",
    "logistic.fit(lsi_train, train_dataset.target)\n",
    "\n",
    "logistic_predictions = logistic.predict(lsi_test)\n"
   ]
  },
  {
   "cell_type": "code",
   "execution_count": null,
   "metadata": {},
   "outputs": [],
   "source": [
    "train_dataset.target[0:10]"
   ]
  },
  {
   "cell_type": "code",
   "execution_count": null,
   "metadata": {},
   "outputs": [],
   "source": [
    "test_dataset.target"
   ]
  },
  {
   "cell_type": "markdown",
   "metadata": {
    "collapsed": true
   },
   "source": [
    "# NaiveBayes Classifier"
   ]
  },
  {
   "cell_type": "code",
   "execution_count": 43,
   "metadata": {},
   "outputs": [
    {
     "ename": "NameError",
     "evalue": "name 'X_news' is not defined",
     "output_type": "error",
     "traceback": [
      "\u001b[0;31m---------------------------------------------------------------------------\u001b[0m",
      "\u001b[0;31mNameError\u001b[0m                                 Traceback (most recent call last)",
      "\u001b[0;32m<ipython-input-43-aa573583450d>\u001b[0m in \u001b[0;36m<module>\u001b[0;34m()\u001b[0m\n\u001b[1;32m      2\u001b[0m \u001b[0mmnb\u001b[0m \u001b[0;34m=\u001b[0m \u001b[0mMultinomialNB\u001b[0m\u001b[0;34m(\u001b[0m\u001b[0;34m)\u001b[0m\u001b[0;34m\u001b[0m\u001b[0m\n\u001b[1;32m      3\u001b[0m \u001b[0mlabels\u001b[0m \u001b[0;34m=\u001b[0m \u001b[0;34m[\u001b[0m\u001b[0;34m'TFIDF'\u001b[0m\u001b[0;34m,\u001b[0m \u001b[0;34m'LSI'\u001b[0m\u001b[0;34m,\u001b[0m \u001b[0;34m'NMF'\u001b[0m\u001b[0;34m]\u001b[0m\u001b[0;34m\u001b[0m\u001b[0m\n\u001b[0;32m----> 4\u001b[0;31m \u001b[0;32mfor\u001b[0m \u001b[0midx\u001b[0m\u001b[0;34m,\u001b[0m \u001b[0mx\u001b[0m \u001b[0;32min\u001b[0m \u001b[0menumerate\u001b[0m\u001b[0;34m(\u001b[0m\u001b[0mX_news\u001b[0m\u001b[0;34m)\u001b[0m\u001b[0;34m:\u001b[0m\u001b[0;34m\u001b[0m\u001b[0m\n\u001b[0m\u001b[1;32m      5\u001b[0m     \u001b[0mmnb\u001b[0m\u001b[0;34m.\u001b[0m\u001b[0mfit\u001b[0m\u001b[0;34m(\u001b[0m\u001b[0mx\u001b[0m\u001b[0;34m,\u001b[0m \u001b[0my_news\u001b[0m\u001b[0;34m)\u001b[0m\u001b[0;34m\u001b[0m\u001b[0m\n\u001b[1;32m      6\u001b[0m     \u001b[0mmnb_pred\u001b[0m \u001b[0;34m=\u001b[0m \u001b[0mmnb\u001b[0m\u001b[0;34m.\u001b[0m\u001b[0mpredict\u001b[0m\u001b[0;34m(\u001b[0m\u001b[0mx\u001b[0m\u001b[0;34m)\u001b[0m\u001b[0;34m\u001b[0m\u001b[0m\n",
      "\u001b[0;31mNameError\u001b[0m: name 'X_news' is not defined"
     ]
    }
   ],
   "source": [
    "# NaiveBayes classifier\n",
    "mnb = MultinomialNB()\n",
    "labels = ['TFIDF', 'LSI', 'NMF']\n",
    "for idx, x in enumerate(X_news):\n",
    "    mnb.fit(x, y_news)\n",
    "    mnb_pred = mnb.predict(x)\n",
    "    #mnb_roc = roc_curve(y_true=y_news, y_score=mnb_pred)\n",
    "    mnb_confusion = confusion_matrix(y_true=y_news, y_pred=mnb_pred)\n",
    "    mnb_accuracy = accuracy_score(y_true=y_news, y_pred=mnb_pred)\n",
    "    #mnb_recall = recall_score(y_true=y_news, y_pred=mnb_pred)\n",
    "    #mnb_precision = precision_score(y_true=y_news, y_pred=mnb_pred)\n",
    "    #mnb_f1 = f1_score(y_true=y_news, y_pred=mnb_pred)\n",
    "    #print(\"Multinomial Naive Bayes \" + labels[idx] + \" ROC curve: \" + str(mnb_roc))\n",
    "    print(\"Multinomial Naive Bayes \" + labels[idx] + \" Confusion matrix: \" + str(mnb_confusion))\n",
    "    print(\"Multinomial Naive Bayes \" + labels[idx] + \" Accuracy Score: \" + str(mnb_accuracy))\n",
    "    #print(\"Multinomial Naive Bayes \" + labels[idx] + \" Recall Score: \" + str(mnb_recall))\n",
    "    #print(\"Multinomial Naive Bayes \" + labels[idx] + \" Precision Score: \" + str(mnb_precision))\n",
    "    #print(\"Training-set SVC Best-gamma \" + labels[idx] + \" F1 Score: \" + str(mnb_f1))"
   ]
  },
  {
   "cell_type": "markdown",
   "metadata": {},
   "source": [
    "## QUESTION 6: Naive Bayes classifier: train a GaussianNB classifier; plot the ROC curve and report the confusion matrix and calculate the accuracy, recall precision and F-1 score of this classifier."
   ]
  },
  {
   "cell_type": "markdown",
   "metadata": {},
   "source": [
    "### Classifier"
   ]
  },
  {
   "cell_type": "code",
   "execution_count": 44,
   "metadata": {},
   "outputs": [],
   "source": [
    "gnb = GaussianNB() "
   ]
  },
  {
   "cell_type": "markdown",
   "metadata": {},
   "source": [
    "### Train and Plot the ROC curve"
   ]
  },
  {
   "cell_type": "code",
   "execution_count": 45,
   "metadata": {},
   "outputs": [
    {
     "data": {
      "text/plain": [
       "GaussianNB(priors=None)"
      ]
     },
     "execution_count": 45,
     "metadata": {},
     "output_type": "execute_result"
    },
    {
     "data": {
      "image/png": "[encoded data removed]",
      "text/plain": [
       "<matplotlib.figure.Figure at 0x1a134a8240>"
      ]
     },
     "metadata": {},
     "output_type": "display_data"
    }
   ],
   "source": [
    "fit_predict_and_plot_roc(gnb, X_train_tfidf.toarray(), binary_train_target, X_test_tfidf.toarray(), binary_test_target)"
   ]
  },
  {
   "cell_type": "markdown",
   "metadata": {},
   "source": [
    "### Confusion Matrix"
   ]
  },
  {
   "cell_type": "code",
   "execution_count": 46,
   "metadata": {},
   "outputs": [
    {
     "name": "stdout",
     "output_type": "stream",
     "text": [
      "Naive Bayes Confusion Matrix:\n",
      "\n",
      " 0.9396825396825397\n"
     ]
    }
   ],
   "source": [
    "print(\"Naive Bayes Confusion Matrix:\\n\\n\", \n",
    "      accuracy_score(binary_test_target, gnb.predict(X_test_tfidf.toarray())))"
   ]
  },
  {
   "cell_type": "markdown",
   "metadata": {},
   "source": [
    "### Accuracy"
   ]
  },
  {
   "cell_type": "code",
   "execution_count": 50,
   "metadata": {},
   "outputs": [
    {
     "ename": "NameError",
     "evalue": "name 'X_test' is not defined",
     "output_type": "error",
     "traceback": [
      "\u001b[0;31m---------------------------------------------------------------------------\u001b[0m",
      "\u001b[0;31mNameError\u001b[0m                                 Traceback (most recent call last)",
      "\u001b[0;32m<ipython-input-50-5355ca4153b4>\u001b[0m in \u001b[0;36m<module>\u001b[0;34m()\u001b[0m\n\u001b[1;32m      1\u001b[0m print(\"Naive Bayes Accuracy:\\n\\n\", \n\u001b[0;32m----> 2\u001b[0;31m       accuracy_score(X_test.target, gnb.predict(X_test_tfidf.toarray())))\n\u001b[0m",
      "\u001b[0;31mNameError\u001b[0m: name 'X_test' is not defined"
     ]
    }
   ],
   "source": [
    "print(\"Naive Bayes Accuracy:\\n\\n\", \n",
    "      accuracy_score(X_test.target, gnb.predict(X_test_tfidf.toarray())))"
   ]
  },
  {
   "cell_type": "markdown",
   "metadata": {},
   "source": [
    "### Recall Precision"
   ]
  },
  {
   "cell_type": "code",
   "execution_count": 48,
   "metadata": {},
   "outputs": [
    {
     "name": "stdout",
     "output_type": "stream",
     "text": [
      "Naive Bayes Recall Precision:\n",
      "\n",
      " 0.9396825396825397\n"
     ]
    }
   ],
   "source": [
    "print(\"Naive Bayes Recall Precision:\\n\\n\", \n",
    "      recall_score(binary_test_target, gnb.predict(X_test_tfidf.toarray()), average='weighted'))"
   ]
  },
  {
   "cell_type": "markdown",
   "metadata": {},
   "source": [
    "### F-1 Score"
   ]
  },
  {
   "cell_type": "code",
   "execution_count": 49,
   "metadata": {},
   "outputs": [
    {
     "name": "stdout",
     "output_type": "stream",
     "text": [
      "Naive Bayes F1 Score:\n",
      "\n",
      " 0.9411035337879728\n"
     ]
    }
   ],
   "source": [
    "print(\"Naive Bayes F1 Score:\\n\\n\", \n",
    "      f1_score(binary_test_target, gnb.predict(X_test_tfidf.toarray())))"
   ]
  },
  {
   "cell_type": "markdown",
   "metadata": {},
   "source": [
    "# Grid Search of Parameters"
   ]
  },
  {
   "cell_type": "code",
   "execution_count": null,
   "metadata": {},
   "outputs": [],
   "source": [
    "from sklearn.pipeline import Pipeline"
   ]
  },
  {
   "cell_type": "code",
   "execution_count": null,
   "metadata": {},
   "outputs": [],
   "source": []
  },
  {
   "cell_type": "code",
   "execution_count": null,
   "metadata": {},
   "outputs": [],
   "source": [
    "models = [sc=Standard,fe=, clf='']"
   ]
  },
  {
   "cell_type": "code",
   "execution_count": null,
   "metadata": {},
   "outputs": [],
   "source": [
    "param_grid = [{'gamma':np.arange(0.001, 1000)},\n",
    "             {}\n",
    "             ] # edit to put in features to gridsearch"
   ]
  },
  {
   "cell_type": "code",
   "execution_count": null,
   "metadata": {},
   "outputs": [],
   "source": [
    "pipe = Pipeline(models)"
   ]
  },
  {
   "cell_type": "code",
   "execution_count": null,
   "metadata": {},
   "outputs": [],
   "source": [
    "\n",
    "pipeline1 = Pipeline([\n",
    "    ('vect', CountVectorizer(min_df=1, stop_words='english')),\n",
    "    ('tfidf', TfidfTransformer()),\n",
    "    ('reduce_dim', NMF(n_components=50, init='random', random_state=0)),\n",
    "    ('clf', MultinomialNB()),\n",
    "])\n",
    "pipeline2 = Pipeline([\n",
    "    ('vect', CountVectorizer(min_df=1, stop_words='english')),\n",
    "    ('tfidf', TfidfTransformer()),\n",
    "    ('reduce_dim', NMF(n_components=50, init='random', random_state=0)),\n",
    "    ('toarr', SparseToDenseArray()),\n",
    "    ('clf', GaussianNB()),\n",
    "])"
   ]
  },
  {
   "cell_type": "code",
   "execution_count": null,
   "metadata": {
    "scrolled": false
   },
   "outputs": [],
   "source": [
    "pipe.fit(X_train_tfidf) # example"
   ]
  },
  {
   "cell_type": "code",
   "execution_count": null,
   "metadata": {},
   "outputs": [],
   "source": [
    "# used to cache results\n",
    "from tempfile import mkdtemp\n",
    "from shutil import rmtree\n",
    "from sklearn.externals.joblib import Memory\n",
    "\n",
    "cachedir = mkdtemp()\n",
    "\n",
    "param_grid = [\n",
    "    {\n",
    "        'reduce_dim': [TruncatedSVD(), NMF()],\n",
    "        'reduce_dim__n_components': N_FEATURES_OPTIONS,\n",
    "        'clf': [LinearSVC()],\n",
    "        'clf__C': C_OPTIONS\n",
    "    },\n",
    "    {\n",
    "        'reduce_dim': [TruncatedSVD(), NMF()],\n",
    "        'reduce_dim__n_components': N_FEATURES_OPTIONS,\n",
    "        'clf': [GaussianNB()],\n",
    "#         'clf__C': C_OPTIONS\n",
    "    },\n",
    "]\n",
    "# reducer_labels = ['LinearSVC', 'NMF', 'KBest(chi2)']\n",
    "\n",
    "grid = GridSearchCV(pipeline, cv=3, n_jobs=1, param_grid=param_grid, scoring='accuracy')\n",
    "grid.fit(twenty_train.data, twenty_train.target)\n",
    "rmtree(cachedir)"
   ]
  },
  {
   "cell_type": "markdown",
   "metadata": {},
   "source": [
    "# Multiclass Classification\n",
    "\n"
   ]
  },
  {
   "cell_type": "code",
   "execution_count": null,
   "metadata": {},
   "outputs": [],
   "source": [
    "from sklearn.datasets import fetch_20newsgroups"
   ]
  },
  {
   "cell_type": "code",
   "execution_count": null,
   "metadata": {},
   "outputs": [],
   "source": [
    "\n",
    "# 1. get categories\n",
    "multi_categories = ['comp.sys.ibm.pc.hardware', 'comp.sys.mac.hardware', 'misc.forsale', 'soc.religion.christian']\n",
    "# 2. clean dataset, tokenize, remove stop words and punctuation, and stem\n",
    "multi_data = fetch_20newsgroups(subset='train', categories=multi_categories, shuffle=True, random_state=42)\n",
    "multi_data_cleaned = vectorizer.fit_transform(multi_data.data)"
   ]
  },
  {
   "cell_type": "code",
   "execution_count": null,
   "metadata": {
    "scrolled": true
   },
   "outputs": [],
   "source": [
    "multiclass_data = multi_data_cleaned\n",
    "# transform data for TFIDF, LSI, NMF comparison\n",
    "tfidf_multi = tfidf.fit_transform(multiclass_data).toarray()\n",
    "lsi_multi = lsi.fit_transform(multiclass_data)\n",
    "nmf_multi = nmf.fit_transform(multiclass_data)"
   ]
  },
  {
   "cell_type": "code",
   "execution_count": null,
   "metadata": {},
   "outputs": [],
   "source": [
    "X_multi = [tfidf_multi, lsi_multi, nmf_multi]\n",
    "y_multi = multi_data.target"
   ]
  },
  {
   "cell_type": "code",
   "execution_count": null,
   "metadata": {},
   "outputs": [],
   "source": [
    "\n",
    "# Naive Bayes\n",
    "multiclass_NB = MultinomialNB()\n",
    "labels = ['TFIDF', 'LSI', 'NMF']\n",
    "for idx, x in enumerate(X_multi):\n",
    "    multiclass_NB.fit(x, y_multi)\n",
    "    multiclass_NB_pred = multiclass_NB.predict(x)\n",
    "    multiclass_NB_roc = roc_curve(y_true=y_multi, y_score=multiclass_NB_pred)\n",
    "    multiclass_NB_confusion = confusion_matrix(y_true=y_multi, y_pred=multiclass_NB_pred)\n",
    "    multiclass_NB_accuracy = accuracy_score(y_true=y_multi, y_pred=multiclass_NB_pred)\n",
    "    multiclass_NB_recall = recall_score(y_true=y_multi, y_pred=multiclass_NB_pred)\n",
    "    multiclass_NB_precision = precision_score(y_true=y_multi, y_pred=multiclass_NB_pred)\n",
    "    multiclass_NB_f1 = f1_score(y_true=y_multi, y_pred=multiclass_NB_pred)\n",
    "    print(\"Multiclass NaiveBayes \" + labels[idx] + \" ROC curve: \" + multiclass_NB_roc)\n",
    "    print(\"Multiclass NaiveBayes \" + labels[idx] + \" Confusion matrix: \" + multiclass_NB_confusion)\n",
    "    print(\"Multiclass NaiveBayes \" + labels[idx] + \" Accuracy Score: \" + multiclass_NB_accuracy)\n",
    "    print(\"Multiclass NaiveBayes \" + labels[idx] + \" Recall Score: \" + multiclass_NB_recall)\n",
    "    print(\"Multiclass NaiveBayes \" + labels[idx] + \" Precision Score: \" + multiclass_NB_precision)\n",
    "    print(\"Multiclass NaiveBayes \" + labels[idx] + \" f1 Score: \" + multiclass_NB_f1)\n",
    "\n",
    "\n"
   ]
  },
  {
   "cell_type": "code",
   "execution_count": null,
   "metadata": {},
   "outputs": [],
   "source": []
  },
  {
   "cell_type": "code",
   "execution_count": null,
   "metadata": {},
   "outputs": [],
   "source": []
  },
  {
   "cell_type": "code",
   "execution_count": null,
   "metadata": {},
   "outputs": [],
   "source": []
  },
  {
   "cell_type": "code",
   "execution_count": null,
   "metadata": {},
   "outputs": [],
   "source": []
  },
  {
   "cell_type": "code",
   "execution_count": null,
   "metadata": {},
   "outputs": [],
   "source": []
  },
  {
   "cell_type": "code",
   "execution_count": null,
   "metadata": {},
   "outputs": [],
   "source": []
  },
  {
   "cell_type": "code",
   "execution_count": null,
   "metadata": {},
   "outputs": [],
   "source": []
  },
  {
   "cell_type": "code",
   "execution_count": null,
   "metadata": {},
   "outputs": [],
   "source": []
  },
  {
   "cell_type": "code",
   "execution_count": null,
   "metadata": {},
   "outputs": [],
   "source": []
  },
  {
   "cell_type": "code",
   "execution_count": null,
   "metadata": {},
   "outputs": [],
   "source": []
  },
  {
   "cell_type": "code",
   "execution_count": null,
   "metadata": {},
   "outputs": [],
   "source": []
  }
 ],
 "metadata": {
  "kernelspec": {
   "display_name": "Python 3",
   "language": "python",
   "name": "python3"
  },
  "language_info": {
   "codemirror_mode": {
    "name": "ipython",
    "version": 3
   },
   "file_extension": ".py",
   "mimetype": "text/x-python",
   "name": "python",
   "nbconvert_exporter": "python",
   "pygments_lexer": "ipython3",
   "version": "3.6.4"
  }
 },
 "nbformat": 4,
 "nbformat_minor": 2
}
